{
  "nbformat": 4,
  "nbformat_minor": 0,
  "metadata": {
    "colab": {
      "name": "Preprocess_External_Products_VisionAPI.ipynb",
      "provenance": [],
      "collapsed_sections": []
    },
    "kernelspec": {
      "name": "python3",
      "display_name": "Python 3"
    }
  },
  "cells": [
    {
      "cell_type": "code",
      "metadata": {
        "id": "Xz2_CELQ-Vig",
        "colab_type": "code",
        "colab": {
          "base_uri": "https://localhost:8080/",
          "height": 361
        },
        "outputId": "7b447abf-fe17-4af4-b074-8dc3f70877dd"
      },
      "source": [
        "!pip install google-cloud-vision"
      ],
      "execution_count": 1,
      "outputs": [
        {
          "output_type": "stream",
          "text": [
            "Requirement already satisfied: google-cloud-vision in /usr/local/lib/python3.6/dist-packages (1.0.0)\n",
            "Requirement already satisfied: google-api-core[grpc]<2.0.0dev,>=1.14.0 in /usr/local/lib/python3.6/dist-packages (from google-cloud-vision) (1.16.0)\n",
            "Requirement already satisfied: protobuf>=3.4.0 in /usr/local/lib/python3.6/dist-packages (from google-api-core[grpc]<2.0.0dev,>=1.14.0->google-cloud-vision) (3.12.4)\n",
            "Requirement already satisfied: pytz in /usr/local/lib/python3.6/dist-packages (from google-api-core[grpc]<2.0.0dev,>=1.14.0->google-cloud-vision) (2018.9)\n",
            "Requirement already satisfied: requests<3.0.0dev,>=2.18.0 in /usr/local/lib/python3.6/dist-packages (from google-api-core[grpc]<2.0.0dev,>=1.14.0->google-cloud-vision) (2.23.0)\n",
            "Requirement already satisfied: googleapis-common-protos<2.0dev,>=1.6.0 in /usr/local/lib/python3.6/dist-packages (from google-api-core[grpc]<2.0.0dev,>=1.14.0->google-cloud-vision) (1.52.0)\n",
            "Requirement already satisfied: six>=1.10.0 in /usr/local/lib/python3.6/dist-packages (from google-api-core[grpc]<2.0.0dev,>=1.14.0->google-cloud-vision) (1.15.0)\n",
            "Requirement already satisfied: google-auth<2.0dev,>=0.4.0 in /usr/local/lib/python3.6/dist-packages (from google-api-core[grpc]<2.0.0dev,>=1.14.0->google-cloud-vision) (1.17.2)\n",
            "Requirement already satisfied: setuptools>=34.0.0 in /usr/local/lib/python3.6/dist-packages (from google-api-core[grpc]<2.0.0dev,>=1.14.0->google-cloud-vision) (49.6.0)\n",
            "Requirement already satisfied: grpcio<2.0dev,>=1.8.2; extra == \"grpc\" in /usr/local/lib/python3.6/dist-packages (from google-api-core[grpc]<2.0.0dev,>=1.14.0->google-cloud-vision) (1.31.0)\n",
            "Requirement already satisfied: chardet<4,>=3.0.2 in /usr/local/lib/python3.6/dist-packages (from requests<3.0.0dev,>=2.18.0->google-api-core[grpc]<2.0.0dev,>=1.14.0->google-cloud-vision) (3.0.4)\n",
            "Requirement already satisfied: certifi>=2017.4.17 in /usr/local/lib/python3.6/dist-packages (from requests<3.0.0dev,>=2.18.0->google-api-core[grpc]<2.0.0dev,>=1.14.0->google-cloud-vision) (2020.6.20)\n",
            "Requirement already satisfied: urllib3!=1.25.0,!=1.25.1,<1.26,>=1.21.1 in /usr/local/lib/python3.6/dist-packages (from requests<3.0.0dev,>=2.18.0->google-api-core[grpc]<2.0.0dev,>=1.14.0->google-cloud-vision) (1.24.3)\n",
            "Requirement already satisfied: idna<3,>=2.5 in /usr/local/lib/python3.6/dist-packages (from requests<3.0.0dev,>=2.18.0->google-api-core[grpc]<2.0.0dev,>=1.14.0->google-cloud-vision) (2.10)\n",
            "Requirement already satisfied: rsa<5,>=3.1.4; python_version >= \"3\" in /usr/local/lib/python3.6/dist-packages (from google-auth<2.0dev,>=0.4.0->google-api-core[grpc]<2.0.0dev,>=1.14.0->google-cloud-vision) (4.6)\n",
            "Requirement already satisfied: cachetools<5.0,>=2.0.0 in /usr/local/lib/python3.6/dist-packages (from google-auth<2.0dev,>=0.4.0->google-api-core[grpc]<2.0.0dev,>=1.14.0->google-cloud-vision) (4.1.1)\n",
            "Requirement already satisfied: pyasn1-modules>=0.2.1 in /usr/local/lib/python3.6/dist-packages (from google-auth<2.0dev,>=0.4.0->google-api-core[grpc]<2.0.0dev,>=1.14.0->google-cloud-vision) (0.2.8)\n",
            "Requirement already satisfied: pyasn1>=0.1.3 in /usr/local/lib/python3.6/dist-packages (from rsa<5,>=3.1.4; python_version >= \"3\"->google-auth<2.0dev,>=0.4.0->google-api-core[grpc]<2.0.0dev,>=1.14.0->google-cloud-vision) (0.4.8)\n"
          ],
          "name": "stdout"
        }
      ]
    },
    {
      "cell_type": "code",
      "metadata": {
        "id": "Rfl_ve3c92IY",
        "colab_type": "code",
        "colab": {}
      },
      "source": [
        "import os\n",
        "from google.cloud import vision\n",
        "import io\n",
        "import pickle\n",
        "from tqdm import tqdm"
      ],
      "execution_count": 29,
      "outputs": []
    },
    {
      "cell_type": "code",
      "metadata": {
        "id": "j-xVRzntHziX",
        "colab_type": "code",
        "colab": {}
      },
      "source": [
        "# 환경변수 설정\n",
        "!ls /content/drive/'My Drive'/'Colab Notebooks'/'api'\n",
        "os.environ[\"GOOGLE_APPLICATION_CREDENTIALS\"]=\"/content/drive/My Drive/Colab Notebooks/api/##############################.json\"\n",
        "!echo $GOOGLE_APPLICATION_CREDENTIALS # 체크"
      ],
      "execution_count": null,
      "outputs": []
    },
    {
      "cell_type": "code",
      "metadata": {
        "id": "9er9WGrU_Hlm",
        "colab_type": "code",
        "colab": {
          "base_uri": "https://localhost:8080/",
          "height": 35
        },
        "outputId": "3bd5a470-1ff4-4899-8891-069418aae751"
      },
      "source": [
        "# 이미지 파일 저장되어 있는 경로\n",
        "os.chdir(\"/content/drive/My Drive/Big-Contest\")\n",
        "os.getcwd()"
      ],
      "execution_count": 4,
      "outputs": [
        {
          "output_type": "execute_result",
          "data": {
            "application/vnd.google.colaboratory.intrinsic+json": {
              "type": "string"
            },
            "text/plain": [
              "'/content/drive/My Drive/Big-Contest'"
            ]
          },
          "metadata": {
            "tags": []
          },
          "execution_count": 4
        }
      ]
    },
    {
      "cell_type": "code",
      "metadata": {
        "id": "Th0_Qkuo_k1a",
        "colab_type": "code",
        "colab": {
          "base_uri": "https://localhost:8080/",
          "height": 197
        },
        "outputId": "3828061a-8d74-4617-d171-e0be3a5b7149"
      },
      "source": [
        "# 이미지 파일 경로\n",
        "img_files = []\n",
        "\n",
        "for root_dir, sub_dir, files in os.walk('./data/img이레'):\n",
        "    for fname in files:\n",
        "        img_files.append(os.path.join(root_dir, fname))\n",
        "\n",
        "img_files[:10]"
      ],
      "execution_count": 15,
      "outputs": [
        {
          "output_type": "execute_result",
          "data": {
            "text/plain": [
              "['./data/img이레/6_18_12_7770938367575986.jpg',\n",
              " './data/img이레/4_18_11_5091353997777964.jpg',\n",
              " './data/img이레/1_19_09_29889498274677998.jpg',\n",
              " './data/img이레/2_19_02_13716009835916091.jpg',\n",
              " './data/img이레/8_19_10_32639803103956863.jpg',\n",
              " './data/img이레/5_19_08_28758716679377613.jpg',\n",
              " './data/img이레/1_19_10_34885363021264326.jpg',\n",
              " './data/img이레/7_19_11_37135524582768763.jpg',\n",
              " './data/img이레/3_19_08_29368916102885904.jpg',\n",
              " './data/img이레/7_19_06_22196985746499060.jpg']"
            ]
          },
          "metadata": {
            "tags": []
          },
          "execution_count": 15
        }
      ]
    },
    {
      "cell_type": "code",
      "metadata": {
        "id": "Qpvbrec_I2Xh",
        "colab_type": "code",
        "colab": {}
      },
      "source": [
        "def detect_text(path):\n",
        "    \"\"\"Detects text in the file.\"\"\"\n",
        "    client = vision.ImageAnnotatorClient()\n",
        "\n",
        "    with io.open(path, 'rb') as image_file:\n",
        "        content = image_file.read()\n",
        "\n",
        "    image = vision.types.Image(content=content)\n",
        "\n",
        "    response = client.text_detection(image=image)\n",
        "    texts = response.text_annotations\n",
        "    # print('Texts:')\n",
        "\n",
        "    for text in texts:\n",
        "        # print('\\n\"{}\"'.format(text.description))\n",
        "\n",
        "        vertices = (['({},{})'.format(vertex.x, vertex.y)\n",
        "                    for vertex in text.bounding_poly.vertices])\n",
        "\n",
        "        # print('bounds: {}'.format(','.join(vertices)))\n",
        "\n",
        "    if response.error.message:\n",
        "        raise Exception(\n",
        "            '{}\\nFor more info on error messages, check: '\n",
        "            'https://cloud.google.com/apis/design/errors'.format(\n",
        "                response.error.message))\n",
        "        \n",
        "    return response, texts"
      ],
      "execution_count": 34,
      "outputs": []
    },
    {
      "cell_type": "markdown",
      "metadata": {
        "id": "pAomVkkpC-F3",
        "colab_type": "text"
      },
      "source": [
        "# 테스트"
      ]
    },
    {
      "cell_type": "code",
      "metadata": {
        "id": "5EIKlKC2Az6U",
        "colab_type": "code",
        "colab": {
          "base_uri": "https://localhost:8080/",
          "height": 233
        },
        "outputId": "bd2a8d00-e3ef-4dda-9d2e-b24dcb811ed4"
      },
      "source": [
        "# 테스트\n",
        "test_image = img_files[0]\n",
        "response, texts = detect_text(test_image)\n",
        "test_text = texts[0].description\n",
        "test_text"
      ],
      "execution_count": 13,
      "outputs": [
        {
          "output_type": "execute_result",
          "data": {
            "application/vnd.google.colaboratory.intrinsic+json": {
              "type": "string"
            },
            "text/plain": [
              "'Aristow\\nBlack : 블랙\\n심플하고 베이직한 블랙 컬러로\\n자켓이나 베스트 등 어떤 아우터와도 잘 어울려\\n이너로 활용도가 가장 높고 데일리룩으로 즐겨 입기 좋은\\n실용적인 컬러입니다.\\nAristow\\nSOUASH\\nRules of the\\nincluding\\nAppendices\\nHorld Singles\\nAristow\\nne World SquasA Tederation\\nEffective 1 May 1997\\nto 30 April 2001I\\nDeep Wine : 딥와인\\n계절에 잘 어울리는 고급스러운 느낌의\\n딥와인 컬러로 포인트 아이템으로 입기 좋은\\n스타일리쉬한 컬러입니다.\\nW\\nAristow\\nFOREIGN\\nAFFAIR\\nJAPAN IS BACK: A CONVERSATION WITH SHINZO ABE\\nove\\nAristow\\nThe Road to D-Day\\nRick Abion\\nDeep Khaki : 딥카키\\n고급스러움을 더해주는 딥카키 컬러로\\n어떤 스타일링에도 잘 어울리는 컬러입니다.\\n세련미가 느껴지는 모던한 컬러로\\n멋스럽게 연출이 가능합니다.\\nAristow\\n약기모 하프집업 이너 1종 + 터틀넥 이너 4종\\nWhen youre big,\\nyou have to be better.\\nArtsto\\nHachi qay sang\\nbe\\ncouracy\\nO HITACHI\\nArtstow\\n하프집업\\n하프집업 스타일로\\n다양한 스타일링이 가능하며,\\n단독으로 착용해도 세련된\\n느낌을 연출시켜줍니다.\\n(네이비)\\n터틀넥\\n목의 중앙까지 올라오는\\n터틀넥 스타일로 한겨울에도\\n부드럽고 따뜻하게\\n착용이 가능합니다.\\n(차콜그레이, 블랙,딥와인, 딥카키)\\n로고 프린트\\n베이직한 디자인에\\n로고 프린트로 포인트를 주어\\n튀지 않으면서도\\n멋스러운 포인트를 줍니다.\\n실리콘 테잎\\n어깨에 실리콘 테잎이 있어\\n어깨 늘어짐 현상을 최소화\\n할 수 있습니다.\\nProduct\\n상품명\\n약기모 하프집업 이너 1종 + 터틀넥 이너 4종\\nInfo.\\n소재\\n폴리에스터90%, 폴리우레탄10%\\n사이즈\\n95, 100, 105, 110, 115\\n색상\\n네이비, 차콜그레이, 블랙, 딥와인, 딥카키\\n세탁법\\n단독 손세탁\\nSize.\\n사이즈\\n95\\n100\\n105\\n110\\n115\\n어깨넓이\\n42.5\\n44\\n45.5\\n47\\n48.5\\n가슴둘레\\n99\\n104\\n109\\n114\\n120\\n밑단둘레\\n97\\n102\\n107\\n112\\n118\\n암홀\\n22\\n23\\n24\\n25\\n26\\n소매통\\n36.4\\n38\\n39.6\\n41.2\\n42.8\\n소매단\\n21\\n21\\n22\\n23\\n24\\n소매길이\\n59.5\\n60\\n60.5\\n61\\n61.5\\n목넓이\\n17.5\\n18\\n18.5\\n19\\n19.5\\n목깊이\\n8.5\\n9.\\n9.5\\n10\\n10.5\\n총길이(앞)\\n69\\n69\\n70\\n70\\n71\\n윗넥둘레\\n39.5\\n40.5\\n41.5\\n42.5\\n43.5\\n넥높이\\n상품 사이즈는 측정 방법 및 위치에 따라 1~3cm정도 오차가 있을 수 있습니다.\\n제품의 정확한 정보 표현을 위해 모니터의 밝기 및 명암 감마 조정을 권장합니다.\\n위 13가지 컬러가 모두 구분될 때 제품의 컬러나 디테일이 가장 정확하게 보입니다.\\nAristow\\nwet nod\\n«LES ALLEMANDS O AUTRES\\nLEUR\\nLESENTIMENT Q\\nARCEL FRATZSCHER, ÉCONOMISTE\\nFOREIGN AFFAIRS\\nExccutive Sa einga Cbeck\\nBig Data\\n«LES ALLEMANDS\\nMARCEL FRATZSCHER,\\nLE SENTI\\nLO\\nLO\\nLO\\nLO\\n'"
            ]
          },
          "metadata": {
            "tags": []
          },
          "execution_count": 13
        }
      ]
    },
    {
      "cell_type": "code",
      "metadata": {
        "id": "bGD4eYjzBQLO",
        "colab_type": "code",
        "colab": {}
      },
      "source": [
        "# 저장\n",
        "with open(\"/content/drive/Shared drives/빅콘테스트/크롤링/상품설명_이미지/text/{}.bin\".format(test_image.split('/')[-1][:-4]), 'wb') as f:\n",
        "    pickle.dump(test_text, f, protocol=pickle.HIGHEST_PROTOCOL)"
      ],
      "execution_count": 28,
      "outputs": []
    },
    {
      "cell_type": "markdown",
      "metadata": {
        "id": "R5EtkhK-D23q",
        "colab_type": "text"
      },
      "source": [
        "# 모두 다 진행"
      ]
    },
    {
      "cell_type": "code",
      "metadata": {
        "id": "aF_sTMvUDK5m",
        "colab_type": "code",
        "colab": {
          "base_uri": "https://localhost:8080/",
          "height": 971
        },
        "outputId": "5a283a87-1977-4c9a-9d27-563da5014848"
      },
      "source": [
        "i = 0\n",
        "for img in tqdm(img_files):\n",
        "    response, texts = detect_text(img)\n",
        "    image_text = texts[0].description\n",
        "    with open(\"/content/drive/Shared drives/빅콘테스트/크롤링/상품설명_이미지/text/{}.bin\".format(img.split('/')[-1][:-4]), 'wb') as f:\n",
        "        pickle.dump(test_text, f, protocol=pickle.HIGHEST_PROTOCOL)\n",
        "    print(i,\"번째: \", img, \"완료\")\n",
        "    i+=1"
      ],
      "execution_count": null,
      "outputs": [
        {
          "output_type": "stream",
          "text": [
            "\n",
            "  0%|          | 0/693 [00:00<?, ?it/s]\u001b[A\n",
            "  0%|          | 1/693 [00:03<42:08,  3.65s/it]\u001b[A"
          ],
          "name": "stderr"
        },
        {
          "output_type": "stream",
          "text": [
            "0 번째:  ./data/img이레/6_18_12_7770938367575986.jpg 완료\n"
          ],
          "name": "stdout"
        },
        {
          "output_type": "stream",
          "text": [
            "\n",
            "  0%|          | 2/693 [00:06<38:38,  3.36s/it]\u001b[A"
          ],
          "name": "stderr"
        },
        {
          "output_type": "stream",
          "text": [
            "1 번째:  ./data/img이레/4_18_11_5091353997777964.jpg 완료\n"
          ],
          "name": "stdout"
        },
        {
          "output_type": "stream",
          "text": [
            "\n",
            "  0%|          | 3/693 [00:09<38:12,  3.32s/it]\u001b[A"
          ],
          "name": "stderr"
        },
        {
          "output_type": "stream",
          "text": [
            "2 번째:  ./data/img이레/1_19_09_29889498274677998.jpg 완료\n"
          ],
          "name": "stdout"
        },
        {
          "output_type": "stream",
          "text": [
            "\n",
            "  1%|          | 4/693 [00:13<40:51,  3.56s/it]\u001b[A"
          ],
          "name": "stderr"
        },
        {
          "output_type": "stream",
          "text": [
            "3 번째:  ./data/img이레/2_19_02_13716009835916091.jpg 완료\n"
          ],
          "name": "stdout"
        },
        {
          "output_type": "stream",
          "text": [
            "\n",
            "  1%|          | 5/693 [00:16<39:44,  3.47s/it]\u001b[A"
          ],
          "name": "stderr"
        },
        {
          "output_type": "stream",
          "text": [
            "4 번째:  ./data/img이레/8_19_10_32639803103956863.jpg 완료\n"
          ],
          "name": "stdout"
        },
        {
          "output_type": "stream",
          "text": [
            "\n",
            "  1%|          | 6/693 [00:20<40:35,  3.54s/it]\u001b[A"
          ],
          "name": "stderr"
        },
        {
          "output_type": "stream",
          "text": [
            "5 번째:  ./data/img이레/5_19_08_28758716679377613.jpg 완료\n"
          ],
          "name": "stdout"
        },
        {
          "output_type": "stream",
          "text": [
            "\n",
            "  1%|          | 7/693 [00:22<34:07,  2.99s/it]\u001b[A"
          ],
          "name": "stderr"
        },
        {
          "output_type": "stream",
          "text": [
            "6 번째:  ./data/img이레/1_19_10_34885363021264326.jpg 완료\n"
          ],
          "name": "stdout"
        },
        {
          "output_type": "stream",
          "text": [
            "\n",
            "  1%|          | 8/693 [00:24<32:36,  2.86s/it]\u001b[A"
          ],
          "name": "stderr"
        },
        {
          "output_type": "stream",
          "text": [
            "7 번째:  ./data/img이레/7_19_11_37135524582768763.jpg 완료\n"
          ],
          "name": "stdout"
        },
        {
          "output_type": "stream",
          "text": [
            "\n",
            "  1%|▏         | 9/693 [00:28<35:35,  3.12s/it]\u001b[A"
          ],
          "name": "stderr"
        },
        {
          "output_type": "stream",
          "text": [
            "8 번째:  ./data/img이레/3_19_08_29368916102885904.jpg 완료\n"
          ],
          "name": "stdout"
        },
        {
          "output_type": "stream",
          "text": [
            "\n",
            "  1%|▏         | 10/693 [00:30<31:59,  2.81s/it]\u001b[A"
          ],
          "name": "stderr"
        },
        {
          "output_type": "stream",
          "text": [
            "9 번째:  ./data/img이레/7_19_06_22196985746499060.jpg 완료\n"
          ],
          "name": "stdout"
        },
        {
          "output_type": "stream",
          "text": [
            "\n",
            "  2%|▏         | 11/693 [00:35<38:19,  3.37s/it]\u001b[A"
          ],
          "name": "stderr"
        },
        {
          "output_type": "stream",
          "text": [
            "10 번째:  ./data/img이레/6_19_06_23897736474953761.jpg 완료\n"
          ],
          "name": "stdout"
        },
        {
          "output_type": "stream",
          "text": [
            "\n",
            "  2%|▏         | 12/693 [00:38<36:39,  3.23s/it]\u001b[A"
          ],
          "name": "stderr"
        },
        {
          "output_type": "stream",
          "text": [
            "11 번째:  ./data/img이레/4_19_09_30209316929502083.jpg 완료\n"
          ],
          "name": "stdout"
        },
        {
          "output_type": "stream",
          "text": [
            "\n",
            "  2%|▏         | 13/693 [00:40<31:34,  2.79s/it]\u001b[A"
          ],
          "name": "stderr"
        },
        {
          "output_type": "stream",
          "text": [
            "12 번째:  ./data/img이레/8_19_10_32622797524564257.jpg 완료\n"
          ],
          "name": "stdout"
        },
        {
          "output_type": "stream",
          "text": [
            "\n",
            "  2%|▏         | 14/693 [00:44<35:45,  3.16s/it]\u001b[A"
          ],
          "name": "stderr"
        },
        {
          "output_type": "stream",
          "text": [
            "13 번째:  ./data/img이레/1_19_04_16814611627537654.jpg 완료\n"
          ],
          "name": "stdout"
        },
        {
          "output_type": "stream",
          "text": [
            "\n",
            "  2%|▏         | 15/693 [00:50<45:45,  4.05s/it]\u001b[A"
          ],
          "name": "stderr"
        },
        {
          "output_type": "stream",
          "text": [
            "14 번째:  ./data/img이레/8_18_05_16381542808013228.jpg 완료\n"
          ],
          "name": "stdout"
        },
        {
          "output_type": "stream",
          "text": [
            "\n",
            "  2%|▏         | 16/693 [00:52<41:14,  3.65s/it]\u001b[A"
          ],
          "name": "stderr"
        },
        {
          "output_type": "stream",
          "text": [
            "15 번째:  ./data/img이레/3_19_01_9558682004793224.jpg 완료\n"
          ],
          "name": "stdout"
        },
        {
          "output_type": "stream",
          "text": [
            "\n",
            "  2%|▏         | 17/693 [01:00<54:16,  4.82s/it]\u001b[A"
          ],
          "name": "stderr"
        },
        {
          "output_type": "stream",
          "text": [
            "16 번째:  ./data/img이레/6_19_05_20357822452097503.jpg 완료\n"
          ],
          "name": "stdout"
        },
        {
          "output_type": "stream",
          "text": [
            "\n",
            "  3%|▎         | 18/693 [01:02<45:54,  4.08s/it]\u001b[A"
          ],
          "name": "stderr"
        },
        {
          "output_type": "stream",
          "text": [
            "17 번째:  ./data/img이레/7_19_08_28742304469412494.jpg 완료\n"
          ],
          "name": "stdout"
        },
        {
          "output_type": "stream",
          "text": [
            "\n",
            "  3%|▎         | 19/693 [01:04<36:50,  3.28s/it]\u001b[A"
          ],
          "name": "stderr"
        },
        {
          "output_type": "stream",
          "text": [
            "18 번째:  ./data/img이레/0_19_09_31957396266564253.jpg 완료\n"
          ],
          "name": "stdout"
        },
        {
          "output_type": "stream",
          "text": [
            "\n",
            "  3%|▎         | 20/693 [01:10<47:23,  4.23s/it]\u001b[A"
          ],
          "name": "stderr"
        },
        {
          "output_type": "stream",
          "text": [
            "19 번째:  ./data/img이레/1_19_12_38515996445793613.jpg 완료\n"
          ],
          "name": "stdout"
        },
        {
          "output_type": "stream",
          "text": [
            "\n",
            "  3%|▎         | 21/693 [01:14<47:12,  4.21s/it]\u001b[A"
          ],
          "name": "stderr"
        },
        {
          "output_type": "stream",
          "text": [
            "20 번째:  ./data/img이레/4_19_11_36281966934299398.jpg 완료\n"
          ],
          "name": "stdout"
        },
        {
          "output_type": "stream",
          "text": [
            "\n",
            "  3%|▎         | 22/693 [01:19<47:07,  4.21s/it]\u001b[A"
          ],
          "name": "stderr"
        },
        {
          "output_type": "stream",
          "text": [
            "21 번째:  ./data/img이레/3_19_06_23574830724351951.jpg 완료\n"
          ],
          "name": "stdout"
        },
        {
          "output_type": "stream",
          "text": [
            "\n",
            "  3%|▎         | 23/693 [01:21<41:20,  3.70s/it]\u001b[A"
          ],
          "name": "stderr"
        },
        {
          "output_type": "stream",
          "text": [
            "22 번째:  ./data/img이레/8_19_12_38355956134584371.jpg 완료\n"
          ],
          "name": "stdout"
        },
        {
          "output_type": "stream",
          "text": [
            "\n",
            "  3%|▎         | 24/693 [01:30<57:22,  5.15s/it]\u001b[A"
          ],
          "name": "stderr"
        },
        {
          "output_type": "stream",
          "text": [
            "23 번째:  ./data/img이레/5_19_10_32645113237851566.jpg 완료\n"
          ],
          "name": "stdout"
        },
        {
          "output_type": "stream",
          "text": [
            "\n",
            "  4%|▎         | 25/693 [01:33<50:40,  4.55s/it]\u001b[A"
          ],
          "name": "stderr"
        },
        {
          "output_type": "stream",
          "text": [
            "24 번째:  ./data/img이레/3_19_12_39210363794271302.jpg 완료\n"
          ],
          "name": "stdout"
        },
        {
          "output_type": "stream",
          "text": [
            "\n",
            "  4%|▍         | 26/693 [01:41<1:03:26,  5.71s/it]\u001b[A"
          ],
          "name": "stderr"
        },
        {
          "output_type": "stream",
          "text": [
            "25 번째:  ./data/img이레/1_18_12_7659324058619591.jpg 완료\n"
          ],
          "name": "stdout"
        }
      ]
    },
    {
      "cell_type": "code",
      "metadata": {
        "id": "GAqGerF4DhJt",
        "colab_type": "code",
        "colab": {}
      },
      "source": [
        ""
      ],
      "execution_count": null,
      "outputs": []
    }
  ]
}