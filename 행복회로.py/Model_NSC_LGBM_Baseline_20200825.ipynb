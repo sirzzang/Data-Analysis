{
  "nbformat": 4,
  "nbformat_minor": 0,
  "metadata": {
    "colab": {
      "name": "LGBM-NSC-Baseline.ipynb",
      "provenance": [],
      "collapsed_sections": [],
      "machine_shape": "hm"
    },
    "kernelspec": {
      "name": "python3",
      "display_name": "Python 3"
    }
  },
  "cells": [
    {
      "cell_type": "markdown",
      "metadata": {
        "id": "K1taq3-xWP8G",
        "colab_type": "text"
      },
      "source": [
        "# LGBM Regressor Baseline\n",
        "\n",
        "*방향*\n",
        "\n",
        "**농수축** 데이터에 대해 제공된 데이터에서 뽑아낼 수 있는 feature만 가지고 진행했을 때 어느 정도 맞는지 확인해 보자.\n",
        "\n",
        "- train, test set split: cluster 기준 계층적 샘플링.\n",
        "- 판매량을 넣었을 때, 안 넣었을 때 기준으로 MAPE 측정.\n",
        "\n",
        "*문제*\n",
        "\n",
        "- 군집을 반영해줄 수 없다!\n",
        "\n",
        "\n",
        "*결과*\n",
        "\n",
        "- 판매량 안 넣고 feature 사용할 때는 MAPE 스코어 0.37 정도.\n",
        "- 판매량 안 넣었을 때는 판매단가가 제일 중요한 feature.\n",
        "- 판매량 넣어서 feature 사용할 때는 MAPE 스코어 best 0.015 정도.\n",
        "- 판매량 넣을 때는 판매량, 판매단가가 제일 중요한 feature."
      ]
    },
    {
      "cell_type": "code",
      "metadata": {
        "id": "E1ORXBT0WKIY",
        "colab_type": "code",
        "colab": {}
      },
      "source": [
        "import warnings\n",
        "warnings.filterwarnings(action='ignore')\n",
        "\n",
        "import pandas as pd\n",
        "import numpy as np\n",
        "from sklearn.model_selection import StratifiedShuffleSplit\n",
        "from sklearn.model_selection import GridSearchCV\n",
        "from sklearn.preprocessing import StandardScaler, LabelEncoder\n",
        "import lightgbm as lgb\n",
        "\n",
        "import os\n",
        "import matplotlib as mpl\n",
        "import matplotlib.pyplot as plt\n",
        "import matplotlib.font_manager as fm"
      ],
      "execution_count": 1,
      "outputs": []
    },
    {
      "cell_type": "code",
      "metadata": {
        "id": "ncQXk3J0Xhg2",
        "colab_type": "code",
        "colab": {
          "base_uri": "https://localhost:8080/",
          "height": 35
        },
        "outputId": "1816d67f-bb6e-4ace-b3dc-5f248c7aeaad"
      },
      "source": [
        "os.getcwd()\n",
        "os.chdir(\"/content/drive/My Drive/Big-Contest\")\n",
        "os.getcwd()"
      ],
      "execution_count": 2,
      "outputs": [
        {
          "output_type": "execute_result",
          "data": {
            "application/vnd.google.colaboratory.intrinsic+json": {
              "type": "string"
            },
            "text/plain": [
              "'/content/drive/My Drive/Big-Contest'"
            ]
          },
          "metadata": {
            "tags": []
          },
          "execution_count": 2
        }
      ]
    },
    {
      "cell_type": "code",
      "metadata": {
        "id": "VYpZy3XjcbqI",
        "colab_type": "code",
        "colab": {
          "base_uri": "https://localhost:8080/",
          "height": 35
        },
        "outputId": "a63d27e4-2f17-4f97-e797-37de57ab7705"
      },
      "source": [
        "!apt-get update -qq\n",
        "!apt-get install fonts-nanum* -qq\n",
        "\n",
        "path = '/usr/share/fonts/truetype/nanum/NanumGothicEco.ttf'\n",
        "font_name = fm.FontProperties(fname=path, size=10).get_name()\n",
        "print(font_name)\n",
        "plt.rc('font', family=font_name)\n",
        "\n",
        "fm._rebuild()"
      ],
      "execution_count": 3,
      "outputs": [
        {
          "output_type": "stream",
          "text": [
            "NanumGothic Eco\n"
          ],
          "name": "stdout"
        }
      ]
    },
    {
      "cell_type": "code",
      "metadata": {
        "id": "nvxgvpFvXSYP",
        "colab_type": "code",
        "colab": {}
      },
      "source": [
        "# RAW_DATA = \"./data/2020 빅콘테스트 데이터분석분야-챔피언리그_2019년 실적데이터_v1_200818.xlsx\"\n",
        "RAW_DATA_EXPOSURE_FILLED = \"./data/노출시간채운데이터.xlsx\"\n",
        "NSC_CLUSTERED_WITHOUT_OUTLIERS = \"./data/농수축_군집4개_이상치제외.csv\"\n",
        "NSC_CLUSTERED_WITH_OUTLIERS = \"./data/농수축_군집4개_이상치제외.csv\""
      ],
      "execution_count": 4,
      "outputs": []
    },
    {
      "cell_type": "code",
      "metadata": {
        "id": "FB6qB-1PXSUw",
        "colab_type": "code",
        "colab": {
          "base_uri": "https://localhost:8080/",
          "height": 284
        },
        "outputId": "8bd3bf5d-15b0-48fb-b6d7-bf2fc52489a8"
      },
      "source": [
        "data_raw = pd.read_excel(RAW_DATA_EXPOSURE_FILLED, usecols= lambda x: 'Unnamed' not in x)\n",
        "data_raw.info()"
      ],
      "execution_count": 5,
      "outputs": [
        {
          "output_type": "stream",
          "text": [
            "<class 'pandas.core.frame.DataFrame'>\n",
            "RangeIndex: 38309 entries, 0 to 38308\n",
            "Data columns (total 8 columns):\n",
            " #   Column  Non-Null Count  Dtype         \n",
            "---  ------  --------------  -----         \n",
            " 0   방송일시    38309 non-null  datetime64[ns]\n",
            " 1   노출(분)   38309 non-null  float64       \n",
            " 2   마더코드    38309 non-null  int64         \n",
            " 3   상품코드    38309 non-null  int64         \n",
            " 4   상품명     38309 non-null  object        \n",
            " 5   상품군     38309 non-null  object        \n",
            " 6   판매단가    38309 non-null  int64         \n",
            " 7   취급액     37372 non-null  float64       \n",
            "dtypes: datetime64[ns](1), float64(2), int64(3), object(2)\n",
            "memory usage: 2.3+ MB\n"
          ],
          "name": "stdout"
        }
      ]
    },
    {
      "cell_type": "code",
      "metadata": {
        "id": "Yql2eEHocntR",
        "colab_type": "code",
        "colab": {
          "base_uri": "https://localhost:8080/",
          "height": 319
        },
        "outputId": "624575d6-b82b-4c22-a651-c259270b8b50"
      },
      "source": [
        "data_nsc = data_raw[data_raw['상품군'] == '농수축']\n",
        "print(data_nsc.info())\n",
        "data_nsc['판매단가'].min(), data_nsc['판매단가'].max(), data_nsc['취급액'].min(), data_nsc['취급액'].max()"
      ],
      "execution_count": 6,
      "outputs": [
        {
          "output_type": "stream",
          "text": [
            "<class 'pandas.core.frame.DataFrame'>\n",
            "Int64Index: 3884 entries, 29 to 38249\n",
            "Data columns (total 8 columns):\n",
            " #   Column  Non-Null Count  Dtype         \n",
            "---  ------  --------------  -----         \n",
            " 0   방송일시    3884 non-null   datetime64[ns]\n",
            " 1   노출(분)   3884 non-null   float64       \n",
            " 2   마더코드    3884 non-null   int64         \n",
            " 3   상품코드    3884 non-null   int64         \n",
            " 4   상품명     3884 non-null   object        \n",
            " 5   상품군     3884 non-null   object        \n",
            " 6   판매단가    3884 non-null   int64         \n",
            " 7   취급액     3884 non-null   float64       \n",
            "dtypes: datetime64[ns](1), float64(2), int64(3), object(2)\n",
            "memory usage: 273.1+ KB\n",
            "None\n"
          ],
          "name": "stdout"
        },
        {
          "output_type": "execute_result",
          "data": {
            "text/plain": [
              "(28900, 109900, 1292000.0, 270284000.0)"
            ]
          },
          "metadata": {
            "tags": []
          },
          "execution_count": 6
        }
      ]
    },
    {
      "cell_type": "code",
      "metadata": {
        "id": "abLU6h9LFi1g",
        "colab_type": "code",
        "colab": {
          "base_uri": "https://localhost:8080/",
          "height": 399
        },
        "outputId": "d3c939d0-a16c-4a3d-bf67-1683e1f7fa88"
      },
      "source": [
        "data = data_nsc.drop(columns=['상품군'], axis=1)\n",
        "data = data.reset_index(drop=True)\n",
        "data"
      ],
      "execution_count": 7,
      "outputs": [
        {
          "output_type": "execute_result",
          "data": {
            "text/html": [
              "<div>\n",
              "<style scoped>\n",
              "    .dataframe tbody tr th:only-of-type {\n",
              "        vertical-align: middle;\n",
              "    }\n",
              "\n",
              "    .dataframe tbody tr th {\n",
              "        vertical-align: top;\n",
              "    }\n",
              "\n",
              "    .dataframe thead th {\n",
              "        text-align: right;\n",
              "    }\n",
              "</style>\n",
              "<table border=\"1\" class=\"dataframe\">\n",
              "  <thead>\n",
              "    <tr style=\"text-align: right;\">\n",
              "      <th></th>\n",
              "      <th>방송일시</th>\n",
              "      <th>노출(분)</th>\n",
              "      <th>마더코드</th>\n",
              "      <th>상품코드</th>\n",
              "      <th>상품명</th>\n",
              "      <th>판매단가</th>\n",
              "      <th>취급액</th>\n",
              "    </tr>\n",
              "  </thead>\n",
              "  <tbody>\n",
              "    <tr>\n",
              "      <th>0</th>\n",
              "      <td>2019-01-01 15:00:00</td>\n",
              "      <td>20.0</td>\n",
              "      <td>100496</td>\n",
              "      <td>201497</td>\n",
              "      <td>뽕셰프 이봉원 특갈비탕 12팩</td>\n",
              "      <td>60900</td>\n",
              "      <td>14113000.0</td>\n",
              "    </tr>\n",
              "    <tr>\n",
              "      <th>1</th>\n",
              "      <td>2019-01-01 15:20:00</td>\n",
              "      <td>20.0</td>\n",
              "      <td>100496</td>\n",
              "      <td>201497</td>\n",
              "      <td>뽕셰프 이봉원 특갈비탕 12팩</td>\n",
              "      <td>60900</td>\n",
              "      <td>32395000.0</td>\n",
              "    </tr>\n",
              "    <tr>\n",
              "      <th>2</th>\n",
              "      <td>2019-01-01 15:40:00</td>\n",
              "      <td>20.0</td>\n",
              "      <td>100496</td>\n",
              "      <td>201497</td>\n",
              "      <td>뽕셰프 이봉원 특갈비탕 12팩</td>\n",
              "      <td>60900</td>\n",
              "      <td>39669000.0</td>\n",
              "    </tr>\n",
              "    <tr>\n",
              "      <th>3</th>\n",
              "      <td>2019-01-01 16:00:00</td>\n",
              "      <td>20.0</td>\n",
              "      <td>100322</td>\n",
              "      <td>201479</td>\n",
              "      <td>국내산 손질갑오징어 8팩</td>\n",
              "      <td>49900</td>\n",
              "      <td>60787000.0</td>\n",
              "    </tr>\n",
              "    <tr>\n",
              "      <th>4</th>\n",
              "      <td>2019-01-01 16:20:00</td>\n",
              "      <td>20.0</td>\n",
              "      <td>100322</td>\n",
              "      <td>201479</td>\n",
              "      <td>국내산 손질갑오징어 8팩</td>\n",
              "      <td>49900</td>\n",
              "      <td>115457000.0</td>\n",
              "    </tr>\n",
              "    <tr>\n",
              "      <th>...</th>\n",
              "      <td>...</td>\n",
              "      <td>...</td>\n",
              "      <td>...</td>\n",
              "      <td>...</td>\n",
              "      <td>...</td>\n",
              "      <td>...</td>\n",
              "      <td>...</td>\n",
              "    </tr>\n",
              "    <tr>\n",
              "      <th>3879</th>\n",
              "      <td>2019-12-31 11:40:00</td>\n",
              "      <td>20.0</td>\n",
              "      <td>100253</td>\n",
              "      <td>200864</td>\n",
              "      <td>안동간고등어 20팩</td>\n",
              "      <td>30900</td>\n",
              "      <td>54879000.0</td>\n",
              "    </tr>\n",
              "    <tr>\n",
              "      <th>3880</th>\n",
              "      <td>2019-12-31 12:00:00</td>\n",
              "      <td>20.0</td>\n",
              "      <td>100253</td>\n",
              "      <td>200864</td>\n",
              "      <td>안동간고등어 20팩</td>\n",
              "      <td>30900</td>\n",
              "      <td>63460000.0</td>\n",
              "    </tr>\n",
              "    <tr>\n",
              "      <th>3881</th>\n",
              "      <td>2019-12-31 15:20:00</td>\n",
              "      <td>20.0</td>\n",
              "      <td>100812</td>\n",
              "      <td>202397</td>\n",
              "      <td>제주갈치+참조기세트</td>\n",
              "      <td>49900</td>\n",
              "      <td>34001000.0</td>\n",
              "    </tr>\n",
              "    <tr>\n",
              "      <th>3882</th>\n",
              "      <td>2019-12-31 15:40:00</td>\n",
              "      <td>20.0</td>\n",
              "      <td>100812</td>\n",
              "      <td>202397</td>\n",
              "      <td>제주갈치+참조기세트</td>\n",
              "      <td>49900</td>\n",
              "      <td>54234000.0</td>\n",
              "    </tr>\n",
              "    <tr>\n",
              "      <th>3883</th>\n",
              "      <td>2019-12-31 16:00:00</td>\n",
              "      <td>20.0</td>\n",
              "      <td>100812</td>\n",
              "      <td>202397</td>\n",
              "      <td>제주갈치+참조기세트</td>\n",
              "      <td>49900</td>\n",
              "      <td>52313000.0</td>\n",
              "    </tr>\n",
              "  </tbody>\n",
              "</table>\n",
              "<p>3884 rows × 7 columns</p>\n",
              "</div>"
            ],
            "text/plain": [
              "                    방송일시  노출(분)    마더코드  ...               상품명   판매단가          취급액\n",
              "0    2019-01-01 15:00:00   20.0  100496  ...  뽕셰프 이봉원 특갈비탕 12팩  60900   14113000.0\n",
              "1    2019-01-01 15:20:00   20.0  100496  ...  뽕셰프 이봉원 특갈비탕 12팩  60900   32395000.0\n",
              "2    2019-01-01 15:40:00   20.0  100496  ...  뽕셰프 이봉원 특갈비탕 12팩  60900   39669000.0\n",
              "3    2019-01-01 16:00:00   20.0  100322  ...     국내산 손질갑오징어 8팩  49900   60787000.0\n",
              "4    2019-01-01 16:20:00   20.0  100322  ...     국내산 손질갑오징어 8팩  49900  115457000.0\n",
              "...                  ...    ...     ...  ...               ...    ...          ...\n",
              "3879 2019-12-31 11:40:00   20.0  100253  ...        안동간고등어 20팩  30900   54879000.0\n",
              "3880 2019-12-31 12:00:00   20.0  100253  ...        안동간고등어 20팩  30900   63460000.0\n",
              "3881 2019-12-31 15:20:00   20.0  100812  ...        제주갈치+참조기세트  49900   34001000.0\n",
              "3882 2019-12-31 15:40:00   20.0  100812  ...        제주갈치+참조기세트  49900   54234000.0\n",
              "3883 2019-12-31 16:00:00   20.0  100812  ...        제주갈치+참조기세트  49900   52313000.0\n",
              "\n",
              "[3884 rows x 7 columns]"
            ]
          },
          "metadata": {
            "tags": []
          },
          "execution_count": 7
        }
      ]
    },
    {
      "cell_type": "markdown",
      "metadata": {
        "id": "l7qEeIOdUqzA",
        "colab_type": "text"
      },
      "source": [
        "## Feature 선택 1\n",
        "- 월\n",
        "- 일\n",
        "- 요일\n",
        "- 노출(분)\n",
        "- 마더코드\n",
        "- 상품코드\n",
        "- 판매단가"
      ]
    },
    {
      "cell_type": "code",
      "metadata": {
        "id": "C7NnZlR0gdE6",
        "colab_type": "code",
        "colab": {
          "base_uri": "https://localhost:8080/",
          "height": 399
        },
        "outputId": "6e75dd9c-5abe-4bbf-97de-047abf75132c"
      },
      "source": [
        "# data['판매량'] = data['취급액'] / data['판매단가']\n",
        "data['월'] = data['방송일시'].dt.month\n",
        "data['일'] = data['방송일시'].dt.day\n",
        "data['요일'] = data['방송일시'].dt.dayofweek\n",
        "day_mapping_dict = {0:'월요일', 1:'화요일', 2:'수요일', 3:'목요일', 4:'금요일', 5:'토요일', 6:'일요일'}\n",
        "data['요일'] = data['요일'].map(day_mapping_dict)\n",
        "data"
      ],
      "execution_count": 8,
      "outputs": [
        {
          "output_type": "execute_result",
          "data": {
            "text/html": [
              "<div>\n",
              "<style scoped>\n",
              "    .dataframe tbody tr th:only-of-type {\n",
              "        vertical-align: middle;\n",
              "    }\n",
              "\n",
              "    .dataframe tbody tr th {\n",
              "        vertical-align: top;\n",
              "    }\n",
              "\n",
              "    .dataframe thead th {\n",
              "        text-align: right;\n",
              "    }\n",
              "</style>\n",
              "<table border=\"1\" class=\"dataframe\">\n",
              "  <thead>\n",
              "    <tr style=\"text-align: right;\">\n",
              "      <th></th>\n",
              "      <th>방송일시</th>\n",
              "      <th>노출(분)</th>\n",
              "      <th>마더코드</th>\n",
              "      <th>상품코드</th>\n",
              "      <th>상품명</th>\n",
              "      <th>판매단가</th>\n",
              "      <th>취급액</th>\n",
              "      <th>월</th>\n",
              "      <th>일</th>\n",
              "      <th>요일</th>\n",
              "    </tr>\n",
              "  </thead>\n",
              "  <tbody>\n",
              "    <tr>\n",
              "      <th>0</th>\n",
              "      <td>2019-01-01 15:00:00</td>\n",
              "      <td>20.0</td>\n",
              "      <td>100496</td>\n",
              "      <td>201497</td>\n",
              "      <td>뽕셰프 이봉원 특갈비탕 12팩</td>\n",
              "      <td>60900</td>\n",
              "      <td>14113000.0</td>\n",
              "      <td>1</td>\n",
              "      <td>1</td>\n",
              "      <td>화요일</td>\n",
              "    </tr>\n",
              "    <tr>\n",
              "      <th>1</th>\n",
              "      <td>2019-01-01 15:20:00</td>\n",
              "      <td>20.0</td>\n",
              "      <td>100496</td>\n",
              "      <td>201497</td>\n",
              "      <td>뽕셰프 이봉원 특갈비탕 12팩</td>\n",
              "      <td>60900</td>\n",
              "      <td>32395000.0</td>\n",
              "      <td>1</td>\n",
              "      <td>1</td>\n",
              "      <td>화요일</td>\n",
              "    </tr>\n",
              "    <tr>\n",
              "      <th>2</th>\n",
              "      <td>2019-01-01 15:40:00</td>\n",
              "      <td>20.0</td>\n",
              "      <td>100496</td>\n",
              "      <td>201497</td>\n",
              "      <td>뽕셰프 이봉원 특갈비탕 12팩</td>\n",
              "      <td>60900</td>\n",
              "      <td>39669000.0</td>\n",
              "      <td>1</td>\n",
              "      <td>1</td>\n",
              "      <td>화요일</td>\n",
              "    </tr>\n",
              "    <tr>\n",
              "      <th>3</th>\n",
              "      <td>2019-01-01 16:00:00</td>\n",
              "      <td>20.0</td>\n",
              "      <td>100322</td>\n",
              "      <td>201479</td>\n",
              "      <td>국내산 손질갑오징어 8팩</td>\n",
              "      <td>49900</td>\n",
              "      <td>60787000.0</td>\n",
              "      <td>1</td>\n",
              "      <td>1</td>\n",
              "      <td>화요일</td>\n",
              "    </tr>\n",
              "    <tr>\n",
              "      <th>4</th>\n",
              "      <td>2019-01-01 16:20:00</td>\n",
              "      <td>20.0</td>\n",
              "      <td>100322</td>\n",
              "      <td>201479</td>\n",
              "      <td>국내산 손질갑오징어 8팩</td>\n",
              "      <td>49900</td>\n",
              "      <td>115457000.0</td>\n",
              "      <td>1</td>\n",
              "      <td>1</td>\n",
              "      <td>화요일</td>\n",
              "    </tr>\n",
              "    <tr>\n",
              "      <th>...</th>\n",
              "      <td>...</td>\n",
              "      <td>...</td>\n",
              "      <td>...</td>\n",
              "      <td>...</td>\n",
              "      <td>...</td>\n",
              "      <td>...</td>\n",
              "      <td>...</td>\n",
              "      <td>...</td>\n",
              "      <td>...</td>\n",
              "      <td>...</td>\n",
              "    </tr>\n",
              "    <tr>\n",
              "      <th>3879</th>\n",
              "      <td>2019-12-31 11:40:00</td>\n",
              "      <td>20.0</td>\n",
              "      <td>100253</td>\n",
              "      <td>200864</td>\n",
              "      <td>안동간고등어 20팩</td>\n",
              "      <td>30900</td>\n",
              "      <td>54879000.0</td>\n",
              "      <td>12</td>\n",
              "      <td>31</td>\n",
              "      <td>화요일</td>\n",
              "    </tr>\n",
              "    <tr>\n",
              "      <th>3880</th>\n",
              "      <td>2019-12-31 12:00:00</td>\n",
              "      <td>20.0</td>\n",
              "      <td>100253</td>\n",
              "      <td>200864</td>\n",
              "      <td>안동간고등어 20팩</td>\n",
              "      <td>30900</td>\n",
              "      <td>63460000.0</td>\n",
              "      <td>12</td>\n",
              "      <td>31</td>\n",
              "      <td>화요일</td>\n",
              "    </tr>\n",
              "    <tr>\n",
              "      <th>3881</th>\n",
              "      <td>2019-12-31 15:20:00</td>\n",
              "      <td>20.0</td>\n",
              "      <td>100812</td>\n",
              "      <td>202397</td>\n",
              "      <td>제주갈치+참조기세트</td>\n",
              "      <td>49900</td>\n",
              "      <td>34001000.0</td>\n",
              "      <td>12</td>\n",
              "      <td>31</td>\n",
              "      <td>화요일</td>\n",
              "    </tr>\n",
              "    <tr>\n",
              "      <th>3882</th>\n",
              "      <td>2019-12-31 15:40:00</td>\n",
              "      <td>20.0</td>\n",
              "      <td>100812</td>\n",
              "      <td>202397</td>\n",
              "      <td>제주갈치+참조기세트</td>\n",
              "      <td>49900</td>\n",
              "      <td>54234000.0</td>\n",
              "      <td>12</td>\n",
              "      <td>31</td>\n",
              "      <td>화요일</td>\n",
              "    </tr>\n",
              "    <tr>\n",
              "      <th>3883</th>\n",
              "      <td>2019-12-31 16:00:00</td>\n",
              "      <td>20.0</td>\n",
              "      <td>100812</td>\n",
              "      <td>202397</td>\n",
              "      <td>제주갈치+참조기세트</td>\n",
              "      <td>49900</td>\n",
              "      <td>52313000.0</td>\n",
              "      <td>12</td>\n",
              "      <td>31</td>\n",
              "      <td>화요일</td>\n",
              "    </tr>\n",
              "  </tbody>\n",
              "</table>\n",
              "<p>3884 rows × 10 columns</p>\n",
              "</div>"
            ],
            "text/plain": [
              "                    방송일시  노출(분)    마더코드    상품코드  ...          취급액   월   일   요일\n",
              "0    2019-01-01 15:00:00   20.0  100496  201497  ...   14113000.0   1   1  화요일\n",
              "1    2019-01-01 15:20:00   20.0  100496  201497  ...   32395000.0   1   1  화요일\n",
              "2    2019-01-01 15:40:00   20.0  100496  201497  ...   39669000.0   1   1  화요일\n",
              "3    2019-01-01 16:00:00   20.0  100322  201479  ...   60787000.0   1   1  화요일\n",
              "4    2019-01-01 16:20:00   20.0  100322  201479  ...  115457000.0   1   1  화요일\n",
              "...                  ...    ...     ...     ...  ...          ...  ..  ..  ...\n",
              "3879 2019-12-31 11:40:00   20.0  100253  200864  ...   54879000.0  12  31  화요일\n",
              "3880 2019-12-31 12:00:00   20.0  100253  200864  ...   63460000.0  12  31  화요일\n",
              "3881 2019-12-31 15:20:00   20.0  100812  202397  ...   34001000.0  12  31  화요일\n",
              "3882 2019-12-31 15:40:00   20.0  100812  202397  ...   54234000.0  12  31  화요일\n",
              "3883 2019-12-31 16:00:00   20.0  100812  202397  ...   52313000.0  12  31  화요일\n",
              "\n",
              "[3884 rows x 10 columns]"
            ]
          },
          "metadata": {
            "tags": []
          },
          "execution_count": 8
        }
      ]
    },
    {
      "cell_type": "code",
      "metadata": {
        "id": "b0d3IIhcFKjJ",
        "colab_type": "code",
        "colab": {}
      },
      "source": [
        "df = data[['월', '일', '요일', '노출(분)', '마더코드', '상품코드', '판매단가', '취급액']]\n",
        "dtypes = df.dtypes\n",
        "\n",
        "encoders = {}\n",
        "for column in df.columns:\n",
        "    if str(dtypes[column]) == 'object':\n",
        "        encoder = LabelEncoder()\n",
        "        encoder.fit(df[column])\n",
        "        encoders[column] = encoder"
      ],
      "execution_count": 9,
      "outputs": []
    },
    {
      "cell_type": "code",
      "metadata": {
        "id": "JBlAKSSxIzOa",
        "colab_type": "code",
        "colab": {
          "base_uri": "https://localhost:8080/",
          "height": 666
        },
        "outputId": "01a8b0fc-4aca-4b03-acb8-5ee873b1914b"
      },
      "source": [
        "for column in encoders.keys():\n",
        "    encoder = encoders[column]\n",
        "    df[column] = encoder.transform(df[column])\n",
        "\n",
        "display(df)\n",
        "df.info() "
      ],
      "execution_count": 10,
      "outputs": [
        {
          "output_type": "display_data",
          "data": {
            "text/html": [
              "<div>\n",
              "<style scoped>\n",
              "    .dataframe tbody tr th:only-of-type {\n",
              "        vertical-align: middle;\n",
              "    }\n",
              "\n",
              "    .dataframe tbody tr th {\n",
              "        vertical-align: top;\n",
              "    }\n",
              "\n",
              "    .dataframe thead th {\n",
              "        text-align: right;\n",
              "    }\n",
              "</style>\n",
              "<table border=\"1\" class=\"dataframe\">\n",
              "  <thead>\n",
              "    <tr style=\"text-align: right;\">\n",
              "      <th></th>\n",
              "      <th>월</th>\n",
              "      <th>일</th>\n",
              "      <th>요일</th>\n",
              "      <th>노출(분)</th>\n",
              "      <th>마더코드</th>\n",
              "      <th>상품코드</th>\n",
              "      <th>판매단가</th>\n",
              "      <th>취급액</th>\n",
              "    </tr>\n",
              "  </thead>\n",
              "  <tbody>\n",
              "    <tr>\n",
              "      <th>0</th>\n",
              "      <td>1</td>\n",
              "      <td>1</td>\n",
              "      <td>6</td>\n",
              "      <td>20.0</td>\n",
              "      <td>100496</td>\n",
              "      <td>201497</td>\n",
              "      <td>60900</td>\n",
              "      <td>14113000.0</td>\n",
              "    </tr>\n",
              "    <tr>\n",
              "      <th>1</th>\n",
              "      <td>1</td>\n",
              "      <td>1</td>\n",
              "      <td>6</td>\n",
              "      <td>20.0</td>\n",
              "      <td>100496</td>\n",
              "      <td>201497</td>\n",
              "      <td>60900</td>\n",
              "      <td>32395000.0</td>\n",
              "    </tr>\n",
              "    <tr>\n",
              "      <th>2</th>\n",
              "      <td>1</td>\n",
              "      <td>1</td>\n",
              "      <td>6</td>\n",
              "      <td>20.0</td>\n",
              "      <td>100496</td>\n",
              "      <td>201497</td>\n",
              "      <td>60900</td>\n",
              "      <td>39669000.0</td>\n",
              "    </tr>\n",
              "    <tr>\n",
              "      <th>3</th>\n",
              "      <td>1</td>\n",
              "      <td>1</td>\n",
              "      <td>6</td>\n",
              "      <td>20.0</td>\n",
              "      <td>100322</td>\n",
              "      <td>201479</td>\n",
              "      <td>49900</td>\n",
              "      <td>60787000.0</td>\n",
              "    </tr>\n",
              "    <tr>\n",
              "      <th>4</th>\n",
              "      <td>1</td>\n",
              "      <td>1</td>\n",
              "      <td>6</td>\n",
              "      <td>20.0</td>\n",
              "      <td>100322</td>\n",
              "      <td>201479</td>\n",
              "      <td>49900</td>\n",
              "      <td>115457000.0</td>\n",
              "    </tr>\n",
              "    <tr>\n",
              "      <th>...</th>\n",
              "      <td>...</td>\n",
              "      <td>...</td>\n",
              "      <td>...</td>\n",
              "      <td>...</td>\n",
              "      <td>...</td>\n",
              "      <td>...</td>\n",
              "      <td>...</td>\n",
              "      <td>...</td>\n",
              "    </tr>\n",
              "    <tr>\n",
              "      <th>3879</th>\n",
              "      <td>12</td>\n",
              "      <td>31</td>\n",
              "      <td>6</td>\n",
              "      <td>20.0</td>\n",
              "      <td>100253</td>\n",
              "      <td>200864</td>\n",
              "      <td>30900</td>\n",
              "      <td>54879000.0</td>\n",
              "    </tr>\n",
              "    <tr>\n",
              "      <th>3880</th>\n",
              "      <td>12</td>\n",
              "      <td>31</td>\n",
              "      <td>6</td>\n",
              "      <td>20.0</td>\n",
              "      <td>100253</td>\n",
              "      <td>200864</td>\n",
              "      <td>30900</td>\n",
              "      <td>63460000.0</td>\n",
              "    </tr>\n",
              "    <tr>\n",
              "      <th>3881</th>\n",
              "      <td>12</td>\n",
              "      <td>31</td>\n",
              "      <td>6</td>\n",
              "      <td>20.0</td>\n",
              "      <td>100812</td>\n",
              "      <td>202397</td>\n",
              "      <td>49900</td>\n",
              "      <td>34001000.0</td>\n",
              "    </tr>\n",
              "    <tr>\n",
              "      <th>3882</th>\n",
              "      <td>12</td>\n",
              "      <td>31</td>\n",
              "      <td>6</td>\n",
              "      <td>20.0</td>\n",
              "      <td>100812</td>\n",
              "      <td>202397</td>\n",
              "      <td>49900</td>\n",
              "      <td>54234000.0</td>\n",
              "    </tr>\n",
              "    <tr>\n",
              "      <th>3883</th>\n",
              "      <td>12</td>\n",
              "      <td>31</td>\n",
              "      <td>6</td>\n",
              "      <td>20.0</td>\n",
              "      <td>100812</td>\n",
              "      <td>202397</td>\n",
              "      <td>49900</td>\n",
              "      <td>52313000.0</td>\n",
              "    </tr>\n",
              "  </tbody>\n",
              "</table>\n",
              "<p>3884 rows × 8 columns</p>\n",
              "</div>"
            ],
            "text/plain": [
              "       월   일  요일  노출(분)    마더코드    상품코드   판매단가          취급액\n",
              "0      1   1   6   20.0  100496  201497  60900   14113000.0\n",
              "1      1   1   6   20.0  100496  201497  60900   32395000.0\n",
              "2      1   1   6   20.0  100496  201497  60900   39669000.0\n",
              "3      1   1   6   20.0  100322  201479  49900   60787000.0\n",
              "4      1   1   6   20.0  100322  201479  49900  115457000.0\n",
              "...   ..  ..  ..    ...     ...     ...    ...          ...\n",
              "3879  12  31   6   20.0  100253  200864  30900   54879000.0\n",
              "3880  12  31   6   20.0  100253  200864  30900   63460000.0\n",
              "3881  12  31   6   20.0  100812  202397  49900   34001000.0\n",
              "3882  12  31   6   20.0  100812  202397  49900   54234000.0\n",
              "3883  12  31   6   20.0  100812  202397  49900   52313000.0\n",
              "\n",
              "[3884 rows x 8 columns]"
            ]
          },
          "metadata": {
            "tags": []
          }
        },
        {
          "output_type": "stream",
          "text": [
            "<class 'pandas.core.frame.DataFrame'>\n",
            "RangeIndex: 3884 entries, 0 to 3883\n",
            "Data columns (total 8 columns):\n",
            " #   Column  Non-Null Count  Dtype  \n",
            "---  ------  --------------  -----  \n",
            " 0   월       3884 non-null   int64  \n",
            " 1   일       3884 non-null   int64  \n",
            " 2   요일      3884 non-null   int64  \n",
            " 3   노출(분)   3884 non-null   float64\n",
            " 4   마더코드    3884 non-null   int64  \n",
            " 5   상품코드    3884 non-null   int64  \n",
            " 6   판매단가    3884 non-null   int64  \n",
            " 7   취급액     3884 non-null   float64\n",
            "dtypes: float64(2), int64(6)\n",
            "memory usage: 242.9 KB\n"
          ],
          "name": "stdout"
        }
      ]
    },
    {
      "cell_type": "code",
      "metadata": {
        "id": "QqP95E4pGfh7",
        "colab_type": "code",
        "colab": {}
      },
      "source": [
        "sss = StratifiedShuffleSplit(n_splits=1, test_size=0.2, random_state=42)\n",
        "for train_index, test_index in sss.split(df, df['요일']):\n",
        "    train_data = df.loc[train_index]\n",
        "    test_data = df.loc[test_index]"
      ],
      "execution_count": 11,
      "outputs": []
    },
    {
      "cell_type": "code",
      "metadata": {
        "id": "BhB-Bd5QKOX4",
        "colab_type": "code",
        "colab": {}
      },
      "source": [
        "X_train = train_data.iloc[:, :-1]\n",
        "y_train = train_data.iloc[:, -1]\n",
        "X_test = test_data.iloc[:, :-1]\n",
        "y_test = test_data.iloc[:, -1]"
      ],
      "execution_count": 12,
      "outputs": []
    },
    {
      "cell_type": "markdown",
      "metadata": {
        "id": "2qdmZUESoWcO",
        "colab_type": "text"
      },
      "source": [
        "### 데이터셋 구성"
      ]
    },
    {
      "cell_type": "code",
      "metadata": {
        "id": "hJF9WcOgLYAM",
        "colab_type": "code",
        "colab": {}
      },
      "source": [
        "ds_train = lgb.Dataset(X_train, label=y_train, categorical_feature=[0, 1, 2, 4, 5], free_raw_data=False)\n",
        "ds_test = lgb.Dataset(X_test, label=y_test, categorical_feature=[0, 1, 2, 4, 5], free_raw_data=False)"
      ],
      "execution_count": 14,
      "outputs": []
    },
    {
      "cell_type": "code",
      "metadata": {
        "id": "apOsRodCWMZ3",
        "colab_type": "code",
        "colab": {}
      },
      "source": [
        "def mean_absolute_percentage_error(y_true, y_pred):\n",
        "    return np.mean(np.abs((y_true - y_pred) / y_true)) * 100"
      ],
      "execution_count": 15,
      "outputs": []
    },
    {
      "cell_type": "markdown",
      "metadata": {
        "id": "_9cfGx5Woctg",
        "colab_type": "text"
      },
      "source": [
        "### 파라미터 구성"
      ]
    },
    {
      "cell_type": "markdown",
      "metadata": {
        "id": "mvqX2Ej6bXgd",
        "colab_type": "text"
      },
      "source": [
        "#### 파라미터 조합 1"
      ]
    },
    {
      "cell_type": "code",
      "metadata": {
        "id": "HudOvIGFKj9N",
        "colab_type": "code",
        "colab": {}
      },
      "source": [
        "params = {'learning_rate': 0.01, \n",
        "          'max_depth': 16, \n",
        "          'boosting': 'gbdt', \n",
        "          'objective': 'regression', \n",
        "          'metric': 'mape', \n",
        "          'is_training_metric': True, \n",
        "          'num_leaves': 144, \n",
        "          'feature_fraction': 0.9, \n",
        "          'bagging_fraction': 0.7, \n",
        "          'bagging_freq': 5, \n",
        "          'seed':42,\n",
        "          'cat_smooth':10}"
      ],
      "execution_count": 16,
      "outputs": []
    },
    {
      "cell_type": "code",
      "metadata": {
        "id": "AiniambQTzX3",
        "colab_type": "code",
        "colab": {
          "base_uri": "https://localhost:8080/",
          "height": 230
        },
        "outputId": "08d9486d-7fa7-4319-e9c3-fa9d0f81a4e9"
      },
      "source": [
        "model = lgb.train(params=params, \n",
        "                  train_set=ds_train,\n",
        "                  num_boost_round=1000,\n",
        "                  valid_sets=ds_test, \n",
        "                  verbose_eval=100, \n",
        "                  early_stopping_rounds=100)"
      ],
      "execution_count": 17,
      "outputs": [
        {
          "output_type": "stream",
          "text": [
            "Training until validation scores don't improve for 100 rounds.\n",
            "[100]\tvalid_0's mape: 0.456438\n",
            "[200]\tvalid_0's mape: 0.413137\n",
            "[300]\tvalid_0's mape: 0.394657\n",
            "[400]\tvalid_0's mape: 0.387641\n",
            "[500]\tvalid_0's mape: 0.382338\n",
            "[600]\tvalid_0's mape: 0.38066\n",
            "[700]\tvalid_0's mape: 0.379546\n",
            "[800]\tvalid_0's mape: 0.379556\n",
            "[900]\tvalid_0's mape: 0.380129\n",
            "Early stopping, best iteration is:\n",
            "[806]\tvalid_0's mape: 0.379256\n"
          ],
          "name": "stdout"
        }
      ]
    },
    {
      "cell_type": "code",
      "metadata": {
        "id": "xs9u53P_TzPG",
        "colab_type": "code",
        "colab": {
          "base_uri": "https://localhost:8080/",
          "height": 310
        },
        "outputId": "34d502b0-b644-46eb-bf04-b9862b1b9351"
      },
      "source": [
        "lgb.plot_importance(model)"
      ],
      "execution_count": 18,
      "outputs": [
        {
          "output_type": "execute_result",
          "data": {
            "text/plain": [
              "<matplotlib.axes._subplots.AxesSubplot at 0x7f7fd2be8dd8>"
            ]
          },
          "metadata": {
            "tags": []
          },
          "execution_count": 18
        },
        {
          "output_type": "display_data",
          "data": {
            "image/png": "[encoded data removed]",
            "text/plain": [
              "<Figure size 432x288 with 1 Axes>"
            ]
          },
          "metadata": {
            "tags": [],
            "needs_background": "light"
          }
        }
      ]
    },
    {
      "cell_type": "code",
      "metadata": {
        "id": "moMp_bQIVPYN",
        "colab_type": "code",
        "colab": {
          "base_uri": "https://localhost:8080/",
          "height": 35
        },
        "outputId": "7f47a3c5-a34b-4627-86cc-7e5058a95082"
      },
      "source": [
        "y_pred = model.predict(X_test)\n",
        "len(y_pred)"
      ],
      "execution_count": 19,
      "outputs": [
        {
          "output_type": "execute_result",
          "data": {
            "text/plain": [
              "777"
            ]
          },
          "metadata": {
            "tags": []
          },
          "execution_count": 19
        }
      ]
    },
    {
      "cell_type": "code",
      "metadata": {
        "id": "nx94oeDkWNH5",
        "colab_type": "code",
        "colab": {
          "base_uri": "https://localhost:8080/",
          "height": 35
        },
        "outputId": "42075645-f3e9-4e09-de3b-03ebfc66eb4f"
      },
      "source": [
        "mean_absolute_percentage_error(y_test, y_pred)"
      ],
      "execution_count": 20,
      "outputs": [
        {
          "output_type": "execute_result",
          "data": {
            "text/plain": [
              "37.925610390897354"
            ]
          },
          "metadata": {
            "tags": []
          },
          "execution_count": 20
        }
      ]
    },
    {
      "cell_type": "code",
      "metadata": {
        "id": "Q963wZdcU4My",
        "colab_type": "code",
        "colab": {
          "base_uri": "https://localhost:8080/",
          "height": 399
        },
        "outputId": "e203985f-4032-40db-938c-fc503a5e1961"
      },
      "source": [
        "test_data['취급액_예측'] = y_pred\n",
        "test_data"
      ],
      "execution_count": 21,
      "outputs": [
        {
          "output_type": "execute_result",
          "data": {
            "text/html": [
              "<div>\n",
              "<style scoped>\n",
              "    .dataframe tbody tr th:only-of-type {\n",
              "        vertical-align: middle;\n",
              "    }\n",
              "\n",
              "    .dataframe tbody tr th {\n",
              "        vertical-align: top;\n",
              "    }\n",
              "\n",
              "    .dataframe thead th {\n",
              "        text-align: right;\n",
              "    }\n",
              "</style>\n",
              "<table border=\"1\" class=\"dataframe\">\n",
              "  <thead>\n",
              "    <tr style=\"text-align: right;\">\n",
              "      <th></th>\n",
              "      <th>월</th>\n",
              "      <th>일</th>\n",
              "      <th>요일</th>\n",
              "      <th>노출(분)</th>\n",
              "      <th>마더코드</th>\n",
              "      <th>상품코드</th>\n",
              "      <th>판매단가</th>\n",
              "      <th>취급액</th>\n",
              "      <th>취급액_예측</th>\n",
              "    </tr>\n",
              "  </thead>\n",
              "  <tbody>\n",
              "    <tr>\n",
              "      <th>1960</th>\n",
              "      <td>8</td>\n",
              "      <td>6</td>\n",
              "      <td>6</td>\n",
              "      <td>20.00</td>\n",
              "      <td>100545</td>\n",
              "      <td>201630</td>\n",
              "      <td>38900</td>\n",
              "      <td>31298000.0</td>\n",
              "      <td>4.015728e+07</td>\n",
              "    </tr>\n",
              "    <tr>\n",
              "      <th>2704</th>\n",
              "      <td>9</td>\n",
              "      <td>19</td>\n",
              "      <td>1</td>\n",
              "      <td>18.25</td>\n",
              "      <td>100492</td>\n",
              "      <td>201487</td>\n",
              "      <td>49900</td>\n",
              "      <td>71481000.0</td>\n",
              "      <td>6.741155e+07</td>\n",
              "    </tr>\n",
              "    <tr>\n",
              "      <th>2127</th>\n",
              "      <td>8</td>\n",
              "      <td>18</td>\n",
              "      <td>4</td>\n",
              "      <td>20.00</td>\n",
              "      <td>100202</td>\n",
              "      <td>200685</td>\n",
              "      <td>55900</td>\n",
              "      <td>28919000.0</td>\n",
              "      <td>5.331014e+07</td>\n",
              "    </tr>\n",
              "    <tr>\n",
              "      <th>3471</th>\n",
              "      <td>11</td>\n",
              "      <td>22</td>\n",
              "      <td>0</td>\n",
              "      <td>20.00</td>\n",
              "      <td>100317</td>\n",
              "      <td>201665</td>\n",
              "      <td>49900</td>\n",
              "      <td>241079000.0</td>\n",
              "      <td>5.608210e+07</td>\n",
              "    </tr>\n",
              "    <tr>\n",
              "      <th>2366</th>\n",
              "      <td>8</td>\n",
              "      <td>30</td>\n",
              "      <td>0</td>\n",
              "      <td>20.00</td>\n",
              "      <td>100202</td>\n",
              "      <td>200685</td>\n",
              "      <td>55900</td>\n",
              "      <td>26805000.0</td>\n",
              "      <td>4.613590e+07</td>\n",
              "    </tr>\n",
              "    <tr>\n",
              "      <th>...</th>\n",
              "      <td>...</td>\n",
              "      <td>...</td>\n",
              "      <td>...</td>\n",
              "      <td>...</td>\n",
              "      <td>...</td>\n",
              "      <td>...</td>\n",
              "      <td>...</td>\n",
              "      <td>...</td>\n",
              "      <td>...</td>\n",
              "    </tr>\n",
              "    <tr>\n",
              "      <th>2362</th>\n",
              "      <td>8</td>\n",
              "      <td>29</td>\n",
              "      <td>1</td>\n",
              "      <td>20.00</td>\n",
              "      <td>100167</td>\n",
              "      <td>200579</td>\n",
              "      <td>38900</td>\n",
              "      <td>100719000.0</td>\n",
              "      <td>5.452965e+07</td>\n",
              "    </tr>\n",
              "    <tr>\n",
              "      <th>651</th>\n",
              "      <td>2</td>\n",
              "      <td>21</td>\n",
              "      <td>1</td>\n",
              "      <td>20.00</td>\n",
              "      <td>100849</td>\n",
              "      <td>202510</td>\n",
              "      <td>59900</td>\n",
              "      <td>61458000.0</td>\n",
              "      <td>4.055056e+07</td>\n",
              "    </tr>\n",
              "    <tr>\n",
              "      <th>1926</th>\n",
              "      <td>8</td>\n",
              "      <td>2</td>\n",
              "      <td>0</td>\n",
              "      <td>20.00</td>\n",
              "      <td>100199</td>\n",
              "      <td>200671</td>\n",
              "      <td>50900</td>\n",
              "      <td>20474000.0</td>\n",
              "      <td>3.717018e+07</td>\n",
              "    </tr>\n",
              "    <tr>\n",
              "      <th>3235</th>\n",
              "      <td>11</td>\n",
              "      <td>1</td>\n",
              "      <td>0</td>\n",
              "      <td>20.00</td>\n",
              "      <td>100323</td>\n",
              "      <td>201025</td>\n",
              "      <td>49900</td>\n",
              "      <td>62040000.0</td>\n",
              "      <td>5.141938e+07</td>\n",
              "    </tr>\n",
              "    <tr>\n",
              "      <th>2052</th>\n",
              "      <td>8</td>\n",
              "      <td>12</td>\n",
              "      <td>3</td>\n",
              "      <td>20.00</td>\n",
              "      <td>100166</td>\n",
              "      <td>200576</td>\n",
              "      <td>30900</td>\n",
              "      <td>53983000.0</td>\n",
              "      <td>4.918767e+07</td>\n",
              "    </tr>\n",
              "  </tbody>\n",
              "</table>\n",
              "<p>777 rows × 9 columns</p>\n",
              "</div>"
            ],
            "text/plain": [
              "       월   일  요일  노출(분)    마더코드    상품코드   판매단가          취급액        취급액_예측\n",
              "1960   8   6   6  20.00  100545  201630  38900   31298000.0  4.015728e+07\n",
              "2704   9  19   1  18.25  100492  201487  49900   71481000.0  6.741155e+07\n",
              "2127   8  18   4  20.00  100202  200685  55900   28919000.0  5.331014e+07\n",
              "3471  11  22   0  20.00  100317  201665  49900  241079000.0  5.608210e+07\n",
              "2366   8  30   0  20.00  100202  200685  55900   26805000.0  4.613590e+07\n",
              "...   ..  ..  ..    ...     ...     ...    ...          ...           ...\n",
              "2362   8  29   1  20.00  100167  200579  38900  100719000.0  5.452965e+07\n",
              "651    2  21   1  20.00  100849  202510  59900   61458000.0  4.055056e+07\n",
              "1926   8   2   0  20.00  100199  200671  50900   20474000.0  3.717018e+07\n",
              "3235  11   1   0  20.00  100323  201025  49900   62040000.0  5.141938e+07\n",
              "2052   8  12   3  20.00  100166  200576  30900   53983000.0  4.918767e+07\n",
              "\n",
              "[777 rows x 9 columns]"
            ]
          },
          "metadata": {
            "tags": []
          },
          "execution_count": 21
        }
      ]
    },
    {
      "cell_type": "markdown",
      "metadata": {
        "id": "8QbuA7vebZ-i",
        "colab_type": "text"
      },
      "source": [
        "#### 파라미터 조합 2\n"
      ]
    },
    {
      "cell_type": "code",
      "metadata": {
        "id": "7FnBb8psbbCW",
        "colab_type": "code",
        "colab": {
          "base_uri": "https://localhost:8080/",
          "height": 1000
        },
        "outputId": "0b87d112-fec4-4103-cdf6-9028099eac3c"
      },
      "source": [
        "params = {'learning_rate': 0.001, \n",
        "          'max_depth': 16, \n",
        "          'boosting': 'gbdt', \n",
        "          'objective': 'regression', \n",
        "          'metric': 'mape', \n",
        "          'is_training_metric': True, \n",
        "          'num_leaves': 144, \n",
        "          'feature_fraction': 0.9, \n",
        "          'bagging_fraction': 0.7, \n",
        "          'bagging_freq': 5, \n",
        "          'seed':42,\n",
        "          'cat_smooth':10}\n",
        "\n",
        "model = lgb.train(params=params, \n",
        "                  train_set=ds_train,\n",
        "                  num_boost_round=10000,\n",
        "                  valid_sets=ds_test, \n",
        "                  verbose_eval=100, \n",
        "                  early_stopping_rounds=100)"
      ],
      "execution_count": 22,
      "outputs": [
        {
          "output_type": "stream",
          "text": [
            "Training until validation scores don't improve for 100 rounds.\n",
            "[100]\tvalid_0's mape: 0.574207\n",
            "[200]\tvalid_0's mape: 0.55514\n",
            "[300]\tvalid_0's mape: 0.538087\n",
            "[400]\tvalid_0's mape: 0.52263\n",
            "[500]\tvalid_0's mape: 0.508525\n",
            "[600]\tvalid_0's mape: 0.495918\n",
            "[700]\tvalid_0's mape: 0.485502\n",
            "[800]\tvalid_0's mape: 0.475237\n",
            "[900]\tvalid_0's mape: 0.466718\n",
            "[1000]\tvalid_0's mape: 0.459104\n",
            "[1100]\tvalid_0's mape: 0.452144\n",
            "[1200]\tvalid_0's mape: 0.445876\n",
            "[1300]\tvalid_0's mape: 0.4401\n",
            "[1400]\tvalid_0's mape: 0.435016\n",
            "[1500]\tvalid_0's mape: 0.43018\n",
            "[1600]\tvalid_0's mape: 0.426026\n",
            "[1700]\tvalid_0's mape: 0.422336\n",
            "[1800]\tvalid_0's mape: 0.418729\n",
            "[1900]\tvalid_0's mape: 0.415593\n",
            "[2000]\tvalid_0's mape: 0.412583\n",
            "[2100]\tvalid_0's mape: 0.409572\n",
            "[2200]\tvalid_0's mape: 0.40725\n",
            "[2300]\tvalid_0's mape: 0.40489\n",
            "[2400]\tvalid_0's mape: 0.402705\n",
            "[2500]\tvalid_0's mape: 0.400716\n",
            "[2600]\tvalid_0's mape: 0.398683\n",
            "[2700]\tvalid_0's mape: 0.396889\n",
            "[2800]\tvalid_0's mape: 0.395492\n",
            "[2900]\tvalid_0's mape: 0.394293\n",
            "[3000]\tvalid_0's mape: 0.392968\n",
            "[3100]\tvalid_0's mape: 0.391729\n",
            "[3200]\tvalid_0's mape: 0.390582\n",
            "[3300]\tvalid_0's mape: 0.389559\n",
            "[3400]\tvalid_0's mape: 0.388454\n",
            "[3500]\tvalid_0's mape: 0.387277\n",
            "[3600]\tvalid_0's mape: 0.38643\n",
            "[3700]\tvalid_0's mape: 0.385567\n",
            "[3800]\tvalid_0's mape: 0.384819\n",
            "[3900]\tvalid_0's mape: 0.384082\n",
            "[4000]\tvalid_0's mape: 0.383385\n",
            "[4100]\tvalid_0's mape: 0.382868\n",
            "[4200]\tvalid_0's mape: 0.382469\n",
            "[4300]\tvalid_0's mape: 0.38193\n",
            "[4400]\tvalid_0's mape: 0.381789\n",
            "[4500]\tvalid_0's mape: 0.381437\n",
            "[4600]\tvalid_0's mape: 0.380892\n",
            "[4700]\tvalid_0's mape: 0.380363\n",
            "[4800]\tvalid_0's mape: 0.380111\n",
            "[4900]\tvalid_0's mape: 0.379863\n",
            "[5000]\tvalid_0's mape: 0.379333\n",
            "[5100]\tvalid_0's mape: 0.37925\n",
            "[5200]\tvalid_0's mape: 0.378879\n",
            "[5300]\tvalid_0's mape: 0.37862\n",
            "[5400]\tvalid_0's mape: 0.378415\n",
            "[5500]\tvalid_0's mape: 0.378145\n",
            "[5600]\tvalid_0's mape: 0.378042\n",
            "[5700]\tvalid_0's mape: 0.378026\n",
            "[5800]\tvalid_0's mape: 0.377964\n",
            "[5900]\tvalid_0's mape: 0.37794\n",
            "[6000]\tvalid_0's mape: 0.377726\n",
            "[6100]\tvalid_0's mape: 0.377586\n",
            "[6200]\tvalid_0's mape: 0.377377\n",
            "[6300]\tvalid_0's mape: 0.377149\n",
            "[6400]\tvalid_0's mape: 0.37706\n",
            "[6500]\tvalid_0's mape: 0.377015\n",
            "Early stopping, best iteration is:\n",
            "[6415]\tvalid_0's mape: 0.376991\n"
          ],
          "name": "stdout"
        }
      ]
    },
    {
      "cell_type": "code",
      "metadata": {
        "id": "th7gwpONbeQr",
        "colab_type": "code",
        "colab": {
          "base_uri": "https://localhost:8080/",
          "height": 310
        },
        "outputId": "cc08a3c3-8e10-4197-ca21-0fca0873aa22"
      },
      "source": [
        "lgb.plot_importance(model)"
      ],
      "execution_count": 23,
      "outputs": [
        {
          "output_type": "execute_result",
          "data": {
            "text/plain": [
              "<matplotlib.axes._subplots.AxesSubplot at 0x7f7fd2622e48>"
            ]
          },
          "metadata": {
            "tags": []
          },
          "execution_count": 23
        },
        {
          "output_type": "display_data",
          "data": {
            "image/png": "[encoded data removed]",
            "text/plain": [
              "<Figure size 432x288 with 1 Axes>"
            ]
          },
          "metadata": {
            "tags": [],
            "needs_background": "light"
          }
        }
      ]
    },
    {
      "cell_type": "code",
      "metadata": {
        "id": "qiKl0z7pbnwK",
        "colab_type": "code",
        "colab": {
          "base_uri": "https://localhost:8080/",
          "height": 35
        },
        "outputId": "5a5b72a2-19da-44e6-f160-ba58668f687c"
      },
      "source": [
        "y_pred = model.predict(X_test)\n",
        "mean_absolute_percentage_error(y_test, y_pred)"
      ],
      "execution_count": 24,
      "outputs": [
        {
          "output_type": "execute_result",
          "data": {
            "text/plain": [
              "37.69911290910791"
            ]
          },
          "metadata": {
            "tags": []
          },
          "execution_count": 24
        }
      ]
    },
    {
      "cell_type": "code",
      "metadata": {
        "id": "owiGKYnTbpFT",
        "colab_type": "code",
        "colab": {
          "base_uri": "https://localhost:8080/",
          "height": 399
        },
        "outputId": "0bd9e5f5-d95a-4f12-eee8-fc4e55b48169"
      },
      "source": [
        "test_data['취급액_예측'] = y_pred\n",
        "test_data"
      ],
      "execution_count": 25,
      "outputs": [
        {
          "output_type": "execute_result",
          "data": {
            "text/html": [
              "<div>\n",
              "<style scoped>\n",
              "    .dataframe tbody tr th:only-of-type {\n",
              "        vertical-align: middle;\n",
              "    }\n",
              "\n",
              "    .dataframe tbody tr th {\n",
              "        vertical-align: top;\n",
              "    }\n",
              "\n",
              "    .dataframe thead th {\n",
              "        text-align: right;\n",
              "    }\n",
              "</style>\n",
              "<table border=\"1\" class=\"dataframe\">\n",
              "  <thead>\n",
              "    <tr style=\"text-align: right;\">\n",
              "      <th></th>\n",
              "      <th>월</th>\n",
              "      <th>일</th>\n",
              "      <th>요일</th>\n",
              "      <th>노출(분)</th>\n",
              "      <th>마더코드</th>\n",
              "      <th>상품코드</th>\n",
              "      <th>판매단가</th>\n",
              "      <th>취급액</th>\n",
              "      <th>취급액_예측</th>\n",
              "    </tr>\n",
              "  </thead>\n",
              "  <tbody>\n",
              "    <tr>\n",
              "      <th>1960</th>\n",
              "      <td>8</td>\n",
              "      <td>6</td>\n",
              "      <td>6</td>\n",
              "      <td>20.00</td>\n",
              "      <td>100545</td>\n",
              "      <td>201630</td>\n",
              "      <td>38900</td>\n",
              "      <td>31298000.0</td>\n",
              "      <td>3.971548e+07</td>\n",
              "    </tr>\n",
              "    <tr>\n",
              "      <th>2704</th>\n",
              "      <td>9</td>\n",
              "      <td>19</td>\n",
              "      <td>1</td>\n",
              "      <td>18.25</td>\n",
              "      <td>100492</td>\n",
              "      <td>201487</td>\n",
              "      <td>49900</td>\n",
              "      <td>71481000.0</td>\n",
              "      <td>6.552552e+07</td>\n",
              "    </tr>\n",
              "    <tr>\n",
              "      <th>2127</th>\n",
              "      <td>8</td>\n",
              "      <td>18</td>\n",
              "      <td>4</td>\n",
              "      <td>20.00</td>\n",
              "      <td>100202</td>\n",
              "      <td>200685</td>\n",
              "      <td>55900</td>\n",
              "      <td>28919000.0</td>\n",
              "      <td>5.214668e+07</td>\n",
              "    </tr>\n",
              "    <tr>\n",
              "      <th>3471</th>\n",
              "      <td>11</td>\n",
              "      <td>22</td>\n",
              "      <td>0</td>\n",
              "      <td>20.00</td>\n",
              "      <td>100317</td>\n",
              "      <td>201665</td>\n",
              "      <td>49900</td>\n",
              "      <td>241079000.0</td>\n",
              "      <td>5.469496e+07</td>\n",
              "    </tr>\n",
              "    <tr>\n",
              "      <th>2366</th>\n",
              "      <td>8</td>\n",
              "      <td>30</td>\n",
              "      <td>0</td>\n",
              "      <td>20.00</td>\n",
              "      <td>100202</td>\n",
              "      <td>200685</td>\n",
              "      <td>55900</td>\n",
              "      <td>26805000.0</td>\n",
              "      <td>4.519784e+07</td>\n",
              "    </tr>\n",
              "    <tr>\n",
              "      <th>...</th>\n",
              "      <td>...</td>\n",
              "      <td>...</td>\n",
              "      <td>...</td>\n",
              "      <td>...</td>\n",
              "      <td>...</td>\n",
              "      <td>...</td>\n",
              "      <td>...</td>\n",
              "      <td>...</td>\n",
              "      <td>...</td>\n",
              "    </tr>\n",
              "    <tr>\n",
              "      <th>2362</th>\n",
              "      <td>8</td>\n",
              "      <td>29</td>\n",
              "      <td>1</td>\n",
              "      <td>20.00</td>\n",
              "      <td>100167</td>\n",
              "      <td>200579</td>\n",
              "      <td>38900</td>\n",
              "      <td>100719000.0</td>\n",
              "      <td>5.481491e+07</td>\n",
              "    </tr>\n",
              "    <tr>\n",
              "      <th>651</th>\n",
              "      <td>2</td>\n",
              "      <td>21</td>\n",
              "      <td>1</td>\n",
              "      <td>20.00</td>\n",
              "      <td>100849</td>\n",
              "      <td>202510</td>\n",
              "      <td>59900</td>\n",
              "      <td>61458000.0</td>\n",
              "      <td>4.106051e+07</td>\n",
              "    </tr>\n",
              "    <tr>\n",
              "      <th>1926</th>\n",
              "      <td>8</td>\n",
              "      <td>2</td>\n",
              "      <td>0</td>\n",
              "      <td>20.00</td>\n",
              "      <td>100199</td>\n",
              "      <td>200671</td>\n",
              "      <td>50900</td>\n",
              "      <td>20474000.0</td>\n",
              "      <td>3.821987e+07</td>\n",
              "    </tr>\n",
              "    <tr>\n",
              "      <th>3235</th>\n",
              "      <td>11</td>\n",
              "      <td>1</td>\n",
              "      <td>0</td>\n",
              "      <td>20.00</td>\n",
              "      <td>100323</td>\n",
              "      <td>201025</td>\n",
              "      <td>49900</td>\n",
              "      <td>62040000.0</td>\n",
              "      <td>5.457311e+07</td>\n",
              "    </tr>\n",
              "    <tr>\n",
              "      <th>2052</th>\n",
              "      <td>8</td>\n",
              "      <td>12</td>\n",
              "      <td>3</td>\n",
              "      <td>20.00</td>\n",
              "      <td>100166</td>\n",
              "      <td>200576</td>\n",
              "      <td>30900</td>\n",
              "      <td>53983000.0</td>\n",
              "      <td>4.822914e+07</td>\n",
              "    </tr>\n",
              "  </tbody>\n",
              "</table>\n",
              "<p>777 rows × 9 columns</p>\n",
              "</div>"
            ],
            "text/plain": [
              "       월   일  요일  노출(분)    마더코드    상품코드   판매단가          취급액        취급액_예측\n",
              "1960   8   6   6  20.00  100545  201630  38900   31298000.0  3.971548e+07\n",
              "2704   9  19   1  18.25  100492  201487  49900   71481000.0  6.552552e+07\n",
              "2127   8  18   4  20.00  100202  200685  55900   28919000.0  5.214668e+07\n",
              "3471  11  22   0  20.00  100317  201665  49900  241079000.0  5.469496e+07\n",
              "2366   8  30   0  20.00  100202  200685  55900   26805000.0  4.519784e+07\n",
              "...   ..  ..  ..    ...     ...     ...    ...          ...           ...\n",
              "2362   8  29   1  20.00  100167  200579  38900  100719000.0  5.481491e+07\n",
              "651    2  21   1  20.00  100849  202510  59900   61458000.0  4.106051e+07\n",
              "1926   8   2   0  20.00  100199  200671  50900   20474000.0  3.821987e+07\n",
              "3235  11   1   0  20.00  100323  201025  49900   62040000.0  5.457311e+07\n",
              "2052   8  12   3  20.00  100166  200576  30900   53983000.0  4.822914e+07\n",
              "\n",
              "[777 rows x 9 columns]"
            ]
          },
          "metadata": {
            "tags": []
          },
          "execution_count": 25
        }
      ]
    },
    {
      "cell_type": "markdown",
      "metadata": {
        "id": "ypxlZaZcd0nr",
        "colab_type": "text"
      },
      "source": [
        "#### 파라미터 조합 3"
      ]
    },
    {
      "cell_type": "code",
      "metadata": {
        "id": "ZeDqVODUby9X",
        "colab_type": "code",
        "colab": {
          "base_uri": "https://localhost:8080/",
          "height": 461
        },
        "outputId": "baed8a19-4adf-49ff-b1f6-9e40a95d9573"
      },
      "source": [
        "params = {'learning_rate': 0.0025, \n",
        "          'max_depth': -1, \n",
        "          'boosting': 'gbdt', \n",
        "          'objective': 'regression', \n",
        "          'metric': 'mape', \n",
        "          'is_training_metric': True, \n",
        "          'num_leaves': 144, \n",
        "          'feature_fraction': 1, \n",
        "          'bagging_fraction': 0.7, \n",
        "          'bagging_freq': 5, \n",
        "          'seed':42,\n",
        "          'cat_smooth':10}\n",
        "\n",
        "model = lgb.train(params=params, \n",
        "                  train_set=ds_train,\n",
        "                  num_boost_round=10000,\n",
        "                  valid_sets=ds_test, \n",
        "                  verbose_eval=100, \n",
        "                  early_stopping_rounds=100)"
      ],
      "execution_count": 28,
      "outputs": [
        {
          "output_type": "stream",
          "text": [
            "Training until validation scores don't improve for 100 rounds.\n",
            "[100]\tvalid_0's mape: 0.542898\n",
            "[200]\tvalid_0's mape: 0.50411\n",
            "[300]\tvalid_0's mape: 0.474897\n",
            "[400]\tvalid_0's mape: 0.453076\n",
            "[500]\tvalid_0's mape: 0.437871\n",
            "[600]\tvalid_0's mape: 0.425947\n",
            "[700]\tvalid_0's mape: 0.416797\n",
            "[800]\tvalid_0's mape: 0.408363\n",
            "[900]\tvalid_0's mape: 0.402667\n",
            "[1000]\tvalid_0's mape: 0.398441\n",
            "[1100]\tvalid_0's mape: 0.394006\n",
            "[1200]\tvalid_0's mape: 0.39091\n",
            "[1300]\tvalid_0's mape: 0.388051\n",
            "[1400]\tvalid_0's mape: 0.386012\n",
            "[1500]\tvalid_0's mape: 0.384428\n",
            "[1600]\tvalid_0's mape: 0.383028\n",
            "[1700]\tvalid_0's mape: 0.381455\n",
            "[1800]\tvalid_0's mape: 0.379883\n",
            "[1900]\tvalid_0's mape: 0.379077\n",
            "[2000]\tvalid_0's mape: 0.378373\n",
            "[2100]\tvalid_0's mape: 0.377959\n",
            "[2200]\tvalid_0's mape: 0.377874\n",
            "Early stopping, best iteration is:\n",
            "[2135]\tvalid_0's mape: 0.377591\n"
          ],
          "name": "stdout"
        }
      ]
    },
    {
      "cell_type": "code",
      "metadata": {
        "id": "K1lGaRISevWM",
        "colab_type": "code",
        "colab": {
          "base_uri": "https://localhost:8080/",
          "height": 310
        },
        "outputId": "070a6f75-3286-4c27-9e3d-da9ce0f50143"
      },
      "source": [
        "lgb.plot_importance(model)"
      ],
      "execution_count": 32,
      "outputs": [
        {
          "output_type": "execute_result",
          "data": {
            "text/plain": [
              "<matplotlib.axes._subplots.AxesSubplot at 0x7f7fce216438>"
            ]
          },
          "metadata": {
            "tags": []
          },
          "execution_count": 32
        },
        {
          "output_type": "display_data",
          "data": {
            "image/png": "[encoded data removed]",
            "text/plain": [
              "<Figure size 432x288 with 1 Axes>"
            ]
          },
          "metadata": {
            "tags": [],
            "needs_background": "light"
          }
        }
      ]
    },
    {
      "cell_type": "markdown",
      "metadata": {
        "id": "pWX-9Bg-ng5T",
        "colab_type": "text"
      },
      "source": [
        "## Feature 선택 2\n",
        "- 월\n",
        "- 일\n",
        "- 요일\n",
        "- 노출(분)\n",
        "- 마더코드\n",
        "- 상품코드\n",
        "- 판매단가\n",
        "- 판매량"
      ]
    },
    {
      "cell_type": "code",
      "metadata": {
        "id": "itAiotXifR-3",
        "colab_type": "code",
        "colab": {
          "base_uri": "https://localhost:8080/",
          "height": 399
        },
        "outputId": "e71d4cd5-50a1-4083-fed6-0096a884a3a1"
      },
      "source": [
        "data['판매량'] = data['취급액'] / data['판매단가']\n",
        "data['월'] = data['방송일시'].dt.month\n",
        "data['일'] = data['방송일시'].dt.day\n",
        "data['요일'] = data['방송일시'].dt.dayofweek\n",
        "day_mapping_dict = {0:'월요일', 1:'화요일', 2:'수요일', 3:'목요일', 4:'금요일', 5:'토요일', 6:'일요일'}\n",
        "data['요일'] = data['요일'].map(day_mapping_dict)\n",
        "data"
      ],
      "execution_count": 8,
      "outputs": [
        {
          "output_type": "execute_result",
          "data": {
            "text/html": [
              "<div>\n",
              "<style scoped>\n",
              "    .dataframe tbody tr th:only-of-type {\n",
              "        vertical-align: middle;\n",
              "    }\n",
              "\n",
              "    .dataframe tbody tr th {\n",
              "        vertical-align: top;\n",
              "    }\n",
              "\n",
              "    .dataframe thead th {\n",
              "        text-align: right;\n",
              "    }\n",
              "</style>\n",
              "<table border=\"1\" class=\"dataframe\">\n",
              "  <thead>\n",
              "    <tr style=\"text-align: right;\">\n",
              "      <th></th>\n",
              "      <th>방송일시</th>\n",
              "      <th>노출(분)</th>\n",
              "      <th>마더코드</th>\n",
              "      <th>상품코드</th>\n",
              "      <th>상품명</th>\n",
              "      <th>판매단가</th>\n",
              "      <th>취급액</th>\n",
              "      <th>판매량</th>\n",
              "      <th>월</th>\n",
              "      <th>일</th>\n",
              "      <th>요일</th>\n",
              "    </tr>\n",
              "  </thead>\n",
              "  <tbody>\n",
              "    <tr>\n",
              "      <th>0</th>\n",
              "      <td>2019-01-01 15:00:00</td>\n",
              "      <td>20.0</td>\n",
              "      <td>100496</td>\n",
              "      <td>201497</td>\n",
              "      <td>뽕셰프 이봉원 특갈비탕 12팩</td>\n",
              "      <td>60900</td>\n",
              "      <td>14113000.0</td>\n",
              "      <td>231.740558</td>\n",
              "      <td>1</td>\n",
              "      <td>1</td>\n",
              "      <td>화요일</td>\n",
              "    </tr>\n",
              "    <tr>\n",
              "      <th>1</th>\n",
              "      <td>2019-01-01 15:20:00</td>\n",
              "      <td>20.0</td>\n",
              "      <td>100496</td>\n",
              "      <td>201497</td>\n",
              "      <td>뽕셰프 이봉원 특갈비탕 12팩</td>\n",
              "      <td>60900</td>\n",
              "      <td>32395000.0</td>\n",
              "      <td>531.937603</td>\n",
              "      <td>1</td>\n",
              "      <td>1</td>\n",
              "      <td>화요일</td>\n",
              "    </tr>\n",
              "    <tr>\n",
              "      <th>2</th>\n",
              "      <td>2019-01-01 15:40:00</td>\n",
              "      <td>20.0</td>\n",
              "      <td>100496</td>\n",
              "      <td>201497</td>\n",
              "      <td>뽕셰프 이봉원 특갈비탕 12팩</td>\n",
              "      <td>60900</td>\n",
              "      <td>39669000.0</td>\n",
              "      <td>651.379310</td>\n",
              "      <td>1</td>\n",
              "      <td>1</td>\n",
              "      <td>화요일</td>\n",
              "    </tr>\n",
              "    <tr>\n",
              "      <th>3</th>\n",
              "      <td>2019-01-01 16:00:00</td>\n",
              "      <td>20.0</td>\n",
              "      <td>100322</td>\n",
              "      <td>201479</td>\n",
              "      <td>국내산 손질갑오징어 8팩</td>\n",
              "      <td>49900</td>\n",
              "      <td>60787000.0</td>\n",
              "      <td>1218.176353</td>\n",
              "      <td>1</td>\n",
              "      <td>1</td>\n",
              "      <td>화요일</td>\n",
              "    </tr>\n",
              "    <tr>\n",
              "      <th>4</th>\n",
              "      <td>2019-01-01 16:20:00</td>\n",
              "      <td>20.0</td>\n",
              "      <td>100322</td>\n",
              "      <td>201479</td>\n",
              "      <td>국내산 손질갑오징어 8팩</td>\n",
              "      <td>49900</td>\n",
              "      <td>115457000.0</td>\n",
              "      <td>2313.767535</td>\n",
              "      <td>1</td>\n",
              "      <td>1</td>\n",
              "      <td>화요일</td>\n",
              "    </tr>\n",
              "    <tr>\n",
              "      <th>...</th>\n",
              "      <td>...</td>\n",
              "      <td>...</td>\n",
              "      <td>...</td>\n",
              "      <td>...</td>\n",
              "      <td>...</td>\n",
              "      <td>...</td>\n",
              "      <td>...</td>\n",
              "      <td>...</td>\n",
              "      <td>...</td>\n",
              "      <td>...</td>\n",
              "      <td>...</td>\n",
              "    </tr>\n",
              "    <tr>\n",
              "      <th>3879</th>\n",
              "      <td>2019-12-31 11:40:00</td>\n",
              "      <td>20.0</td>\n",
              "      <td>100253</td>\n",
              "      <td>200864</td>\n",
              "      <td>안동간고등어 20팩</td>\n",
              "      <td>30900</td>\n",
              "      <td>54879000.0</td>\n",
              "      <td>1776.019417</td>\n",
              "      <td>12</td>\n",
              "      <td>31</td>\n",
              "      <td>화요일</td>\n",
              "    </tr>\n",
              "    <tr>\n",
              "      <th>3880</th>\n",
              "      <td>2019-12-31 12:00:00</td>\n",
              "      <td>20.0</td>\n",
              "      <td>100253</td>\n",
              "      <td>200864</td>\n",
              "      <td>안동간고등어 20팩</td>\n",
              "      <td>30900</td>\n",
              "      <td>63460000.0</td>\n",
              "      <td>2053.721683</td>\n",
              "      <td>12</td>\n",
              "      <td>31</td>\n",
              "      <td>화요일</td>\n",
              "    </tr>\n",
              "    <tr>\n",
              "      <th>3881</th>\n",
              "      <td>2019-12-31 15:20:00</td>\n",
              "      <td>20.0</td>\n",
              "      <td>100812</td>\n",
              "      <td>202397</td>\n",
              "      <td>제주갈치+참조기세트</td>\n",
              "      <td>49900</td>\n",
              "      <td>34001000.0</td>\n",
              "      <td>681.382766</td>\n",
              "      <td>12</td>\n",
              "      <td>31</td>\n",
              "      <td>화요일</td>\n",
              "    </tr>\n",
              "    <tr>\n",
              "      <th>3882</th>\n",
              "      <td>2019-12-31 15:40:00</td>\n",
              "      <td>20.0</td>\n",
              "      <td>100812</td>\n",
              "      <td>202397</td>\n",
              "      <td>제주갈치+참조기세트</td>\n",
              "      <td>49900</td>\n",
              "      <td>54234000.0</td>\n",
              "      <td>1086.853707</td>\n",
              "      <td>12</td>\n",
              "      <td>31</td>\n",
              "      <td>화요일</td>\n",
              "    </tr>\n",
              "    <tr>\n",
              "      <th>3883</th>\n",
              "      <td>2019-12-31 16:00:00</td>\n",
              "      <td>20.0</td>\n",
              "      <td>100812</td>\n",
              "      <td>202397</td>\n",
              "      <td>제주갈치+참조기세트</td>\n",
              "      <td>49900</td>\n",
              "      <td>52313000.0</td>\n",
              "      <td>1048.356713</td>\n",
              "      <td>12</td>\n",
              "      <td>31</td>\n",
              "      <td>화요일</td>\n",
              "    </tr>\n",
              "  </tbody>\n",
              "</table>\n",
              "<p>3884 rows × 11 columns</p>\n",
              "</div>"
            ],
            "text/plain": [
              "                    방송일시  노출(분)    마더코드    상품코드  ...          판매량   월   일   요일\n",
              "0    2019-01-01 15:00:00   20.0  100496  201497  ...   231.740558   1   1  화요일\n",
              "1    2019-01-01 15:20:00   20.0  100496  201497  ...   531.937603   1   1  화요일\n",
              "2    2019-01-01 15:40:00   20.0  100496  201497  ...   651.379310   1   1  화요일\n",
              "3    2019-01-01 16:00:00   20.0  100322  201479  ...  1218.176353   1   1  화요일\n",
              "4    2019-01-01 16:20:00   20.0  100322  201479  ...  2313.767535   1   1  화요일\n",
              "...                  ...    ...     ...     ...  ...          ...  ..  ..  ...\n",
              "3879 2019-12-31 11:40:00   20.0  100253  200864  ...  1776.019417  12  31  화요일\n",
              "3880 2019-12-31 12:00:00   20.0  100253  200864  ...  2053.721683  12  31  화요일\n",
              "3881 2019-12-31 15:20:00   20.0  100812  202397  ...   681.382766  12  31  화요일\n",
              "3882 2019-12-31 15:40:00   20.0  100812  202397  ...  1086.853707  12  31  화요일\n",
              "3883 2019-12-31 16:00:00   20.0  100812  202397  ...  1048.356713  12  31  화요일\n",
              "\n",
              "[3884 rows x 11 columns]"
            ]
          },
          "metadata": {
            "tags": []
          },
          "execution_count": 8
        }
      ]
    },
    {
      "cell_type": "code",
      "metadata": {
        "id": "UCt6iN76nlIQ",
        "colab_type": "code",
        "colab": {}
      },
      "source": [
        "df = data[['월', '일', '요일', '노출(분)', '마더코드', '상품코드', '판매단가', '판매량', '취급액']]\n",
        "dtypes = df.dtypes\n",
        "\n",
        "encoders = {}\n",
        "for column in df.columns:\n",
        "    if str(dtypes[column]) == 'object':\n",
        "        encoder = LabelEncoder()\n",
        "        encoder.fit(df[column])\n",
        "        encoders[column] = encoder"
      ],
      "execution_count": 9,
      "outputs": []
    },
    {
      "cell_type": "code",
      "metadata": {
        "id": "PXTjRY2EnrwD",
        "colab_type": "code",
        "colab": {
          "base_uri": "https://localhost:8080/",
          "height": 684
        },
        "outputId": "0c57eac1-2d22-41ad-a664-e4e0f4388c80"
      },
      "source": [
        "for column in encoders.keys():\n",
        "    encoder = encoders[column]\n",
        "    df[column] = encoder.transform(df[column])\n",
        "\n",
        "display(df)\n",
        "df.info() "
      ],
      "execution_count": 10,
      "outputs": [
        {
          "output_type": "display_data",
          "data": {
            "text/html": [
              "<div>\n",
              "<style scoped>\n",
              "    .dataframe tbody tr th:only-of-type {\n",
              "        vertical-align: middle;\n",
              "    }\n",
              "\n",
              "    .dataframe tbody tr th {\n",
              "        vertical-align: top;\n",
              "    }\n",
              "\n",
              "    .dataframe thead th {\n",
              "        text-align: right;\n",
              "    }\n",
              "</style>\n",
              "<table border=\"1\" class=\"dataframe\">\n",
              "  <thead>\n",
              "    <tr style=\"text-align: right;\">\n",
              "      <th></th>\n",
              "      <th>월</th>\n",
              "      <th>일</th>\n",
              "      <th>요일</th>\n",
              "      <th>노출(분)</th>\n",
              "      <th>마더코드</th>\n",
              "      <th>상품코드</th>\n",
              "      <th>판매단가</th>\n",
              "      <th>판매량</th>\n",
              "      <th>취급액</th>\n",
              "    </tr>\n",
              "  </thead>\n",
              "  <tbody>\n",
              "    <tr>\n",
              "      <th>0</th>\n",
              "      <td>1</td>\n",
              "      <td>1</td>\n",
              "      <td>6</td>\n",
              "      <td>20.0</td>\n",
              "      <td>100496</td>\n",
              "      <td>201497</td>\n",
              "      <td>60900</td>\n",
              "      <td>231.740558</td>\n",
              "      <td>14113000.0</td>\n",
              "    </tr>\n",
              "    <tr>\n",
              "      <th>1</th>\n",
              "      <td>1</td>\n",
              "      <td>1</td>\n",
              "      <td>6</td>\n",
              "      <td>20.0</td>\n",
              "      <td>100496</td>\n",
              "      <td>201497</td>\n",
              "      <td>60900</td>\n",
              "      <td>531.937603</td>\n",
              "      <td>32395000.0</td>\n",
              "    </tr>\n",
              "    <tr>\n",
              "      <th>2</th>\n",
              "      <td>1</td>\n",
              "      <td>1</td>\n",
              "      <td>6</td>\n",
              "      <td>20.0</td>\n",
              "      <td>100496</td>\n",
              "      <td>201497</td>\n",
              "      <td>60900</td>\n",
              "      <td>651.379310</td>\n",
              "      <td>39669000.0</td>\n",
              "    </tr>\n",
              "    <tr>\n",
              "      <th>3</th>\n",
              "      <td>1</td>\n",
              "      <td>1</td>\n",
              "      <td>6</td>\n",
              "      <td>20.0</td>\n",
              "      <td>100322</td>\n",
              "      <td>201479</td>\n",
              "      <td>49900</td>\n",
              "      <td>1218.176353</td>\n",
              "      <td>60787000.0</td>\n",
              "    </tr>\n",
              "    <tr>\n",
              "      <th>4</th>\n",
              "      <td>1</td>\n",
              "      <td>1</td>\n",
              "      <td>6</td>\n",
              "      <td>20.0</td>\n",
              "      <td>100322</td>\n",
              "      <td>201479</td>\n",
              "      <td>49900</td>\n",
              "      <td>2313.767535</td>\n",
              "      <td>115457000.0</td>\n",
              "    </tr>\n",
              "    <tr>\n",
              "      <th>...</th>\n",
              "      <td>...</td>\n",
              "      <td>...</td>\n",
              "      <td>...</td>\n",
              "      <td>...</td>\n",
              "      <td>...</td>\n",
              "      <td>...</td>\n",
              "      <td>...</td>\n",
              "      <td>...</td>\n",
              "      <td>...</td>\n",
              "    </tr>\n",
              "    <tr>\n",
              "      <th>3879</th>\n",
              "      <td>12</td>\n",
              "      <td>31</td>\n",
              "      <td>6</td>\n",
              "      <td>20.0</td>\n",
              "      <td>100253</td>\n",
              "      <td>200864</td>\n",
              "      <td>30900</td>\n",
              "      <td>1776.019417</td>\n",
              "      <td>54879000.0</td>\n",
              "    </tr>\n",
              "    <tr>\n",
              "      <th>3880</th>\n",
              "      <td>12</td>\n",
              "      <td>31</td>\n",
              "      <td>6</td>\n",
              "      <td>20.0</td>\n",
              "      <td>100253</td>\n",
              "      <td>200864</td>\n",
              "      <td>30900</td>\n",
              "      <td>2053.721683</td>\n",
              "      <td>63460000.0</td>\n",
              "    </tr>\n",
              "    <tr>\n",
              "      <th>3881</th>\n",
              "      <td>12</td>\n",
              "      <td>31</td>\n",
              "      <td>6</td>\n",
              "      <td>20.0</td>\n",
              "      <td>100812</td>\n",
              "      <td>202397</td>\n",
              "      <td>49900</td>\n",
              "      <td>681.382766</td>\n",
              "      <td>34001000.0</td>\n",
              "    </tr>\n",
              "    <tr>\n",
              "      <th>3882</th>\n",
              "      <td>12</td>\n",
              "      <td>31</td>\n",
              "      <td>6</td>\n",
              "      <td>20.0</td>\n",
              "      <td>100812</td>\n",
              "      <td>202397</td>\n",
              "      <td>49900</td>\n",
              "      <td>1086.853707</td>\n",
              "      <td>54234000.0</td>\n",
              "    </tr>\n",
              "    <tr>\n",
              "      <th>3883</th>\n",
              "      <td>12</td>\n",
              "      <td>31</td>\n",
              "      <td>6</td>\n",
              "      <td>20.0</td>\n",
              "      <td>100812</td>\n",
              "      <td>202397</td>\n",
              "      <td>49900</td>\n",
              "      <td>1048.356713</td>\n",
              "      <td>52313000.0</td>\n",
              "    </tr>\n",
              "  </tbody>\n",
              "</table>\n",
              "<p>3884 rows × 9 columns</p>\n",
              "</div>"
            ],
            "text/plain": [
              "       월   일  요일  노출(분)    마더코드    상품코드   판매단가          판매량          취급액\n",
              "0      1   1   6   20.0  100496  201497  60900   231.740558   14113000.0\n",
              "1      1   1   6   20.0  100496  201497  60900   531.937603   32395000.0\n",
              "2      1   1   6   20.0  100496  201497  60900   651.379310   39669000.0\n",
              "3      1   1   6   20.0  100322  201479  49900  1218.176353   60787000.0\n",
              "4      1   1   6   20.0  100322  201479  49900  2313.767535  115457000.0\n",
              "...   ..  ..  ..    ...     ...     ...    ...          ...          ...\n",
              "3879  12  31   6   20.0  100253  200864  30900  1776.019417   54879000.0\n",
              "3880  12  31   6   20.0  100253  200864  30900  2053.721683   63460000.0\n",
              "3881  12  31   6   20.0  100812  202397  49900   681.382766   34001000.0\n",
              "3882  12  31   6   20.0  100812  202397  49900  1086.853707   54234000.0\n",
              "3883  12  31   6   20.0  100812  202397  49900  1048.356713   52313000.0\n",
              "\n",
              "[3884 rows x 9 columns]"
            ]
          },
          "metadata": {
            "tags": []
          }
        },
        {
          "output_type": "stream",
          "text": [
            "<class 'pandas.core.frame.DataFrame'>\n",
            "RangeIndex: 3884 entries, 0 to 3883\n",
            "Data columns (total 9 columns):\n",
            " #   Column  Non-Null Count  Dtype  \n",
            "---  ------  --------------  -----  \n",
            " 0   월       3884 non-null   int64  \n",
            " 1   일       3884 non-null   int64  \n",
            " 2   요일      3884 non-null   int64  \n",
            " 3   노출(분)   3884 non-null   float64\n",
            " 4   마더코드    3884 non-null   int64  \n",
            " 5   상품코드    3884 non-null   int64  \n",
            " 6   판매단가    3884 non-null   int64  \n",
            " 7   판매량     3884 non-null   float64\n",
            " 8   취급액     3884 non-null   float64\n",
            "dtypes: float64(3), int64(6)\n",
            "memory usage: 273.2 KB\n"
          ],
          "name": "stdout"
        }
      ]
    },
    {
      "cell_type": "code",
      "metadata": {
        "id": "mq27tkpOnv19",
        "colab_type": "code",
        "colab": {}
      },
      "source": [
        "sss = StratifiedShuffleSplit(n_splits=1, test_size=0.2, random_state=42)\n",
        "for train_index, test_index in sss.split(df, df['요일']):\n",
        "    train_data = df.loc[train_index]\n",
        "    test_data = df.loc[test_index]"
      ],
      "execution_count": 11,
      "outputs": []
    },
    {
      "cell_type": "markdown",
      "metadata": {
        "id": "qVd1FvGspNR1",
        "colab_type": "text"
      },
      "source": [
        "### 데이터셋 구성"
      ]
    },
    {
      "cell_type": "code",
      "metadata": {
        "id": "dc-PeWA4n0Cc",
        "colab_type": "code",
        "colab": {}
      },
      "source": [
        "X_train = train_data.iloc[:, :-1]\n",
        "y_train = train_data.iloc[:, -1]\n",
        "X_test = test_data.iloc[:, :-1]\n",
        "y_test = test_data.iloc[:, -1]"
      ],
      "execution_count": 12,
      "outputs": []
    },
    {
      "cell_type": "code",
      "metadata": {
        "id": "Lf7ufWlmofks",
        "colab_type": "code",
        "colab": {}
      },
      "source": [
        "ds_train = lgb.Dataset(X_train, label=y_train, categorical_feature=[0, 1, 2, 4, 5], free_raw_data=False)\n",
        "ds_test = lgb.Dataset(X_test, label=y_test, categorical_feature=[0, 1, 2, 4, 5], free_raw_data=False)"
      ],
      "execution_count": 13,
      "outputs": []
    },
    {
      "cell_type": "markdown",
      "metadata": {
        "id": "T7ONd0GApMBF",
        "colab_type": "text"
      },
      "source": [
        "### 파라미터 구성"
      ]
    },
    {
      "cell_type": "markdown",
      "metadata": {
        "id": "CvBg2LbJn_31",
        "colab_type": "text"
      },
      "source": [
        "#### 파라미터 조합 1"
      ]
    },
    {
      "cell_type": "code",
      "metadata": {
        "id": "C5QWw12rn_t5",
        "colab_type": "code",
        "colab": {
          "base_uri": "https://localhost:8080/",
          "height": 1000
        },
        "outputId": "e49fd169-82da-4da5-c4f5-44e3bd2bb3ea"
      },
      "source": [
        "params = {'learning_rate': 0.001, \n",
        "          'max_depth': 16, \n",
        "          'boosting': 'gbdt', \n",
        "          'objective': 'regression', \n",
        "          'metric': 'mape', \n",
        "          'is_training_metric': True, \n",
        "          'num_leaves': 144, \n",
        "          'feature_fraction': 1, \n",
        "          'bagging_fraction': 0.7, \n",
        "          'bagging_freq': 5, \n",
        "          'seed':42,\n",
        "          'cat_smooth':5}\n",
        "\n",
        "model = lgb.train(params=params, \n",
        "                  train_set=ds_train,\n",
        "                  num_boost_round=10000,\n",
        "                  valid_sets=ds_test, \n",
        "                  verbose_eval=100, \n",
        "                  early_stopping_rounds=100)"
      ],
      "execution_count": 14,
      "outputs": [
        {
          "output_type": "stream",
          "text": [
            "Training until validation scores don't improve for 100 rounds.\n",
            "[100]\tvalid_0's mape: 0.540485\n",
            "[200]\tvalid_0's mape: 0.489601\n",
            "[300]\tvalid_0's mape: 0.443498\n",
            "[400]\tvalid_0's mape: 0.401839\n",
            "[500]\tvalid_0's mape: 0.364138\n",
            "[600]\tvalid_0's mape: 0.329868\n",
            "[700]\tvalid_0's mape: 0.298859\n",
            "[800]\tvalid_0's mape: 0.270775\n",
            "[900]\tvalid_0's mape: 0.245685\n",
            "[1000]\tvalid_0's mape: 0.223092\n",
            "[1100]\tvalid_0's mape: 0.202734\n",
            "[1200]\tvalid_0's mape: 0.184298\n",
            "[1300]\tvalid_0's mape: 0.167608\n",
            "[1400]\tvalid_0's mape: 0.152541\n",
            "[1500]\tvalid_0's mape: 0.138966\n",
            "[1600]\tvalid_0's mape: 0.126715\n",
            "[1700]\tvalid_0's mape: 0.115653\n",
            "[1800]\tvalid_0's mape: 0.10559\n",
            "[1900]\tvalid_0's mape: 0.0965595\n",
            "[2000]\tvalid_0's mape: 0.0884225\n",
            "[2100]\tvalid_0's mape: 0.081108\n",
            "[2200]\tvalid_0's mape: 0.0744205\n",
            "[2300]\tvalid_0's mape: 0.0683467\n",
            "[2400]\tvalid_0's mape: 0.0628225\n",
            "[2500]\tvalid_0's mape: 0.0577943\n",
            "[2600]\tvalid_0's mape: 0.0532521\n",
            "[2700]\tvalid_0's mape: 0.0490802\n",
            "[2800]\tvalid_0's mape: 0.0453943\n",
            "[2900]\tvalid_0's mape: 0.0420933\n",
            "[3000]\tvalid_0's mape: 0.0390768\n",
            "[3100]\tvalid_0's mape: 0.0363009\n",
            "[3200]\tvalid_0's mape: 0.0338346\n",
            "[3300]\tvalid_0's mape: 0.0317143\n",
            "[3400]\tvalid_0's mape: 0.0298208\n",
            "[3500]\tvalid_0's mape: 0.0281703\n",
            "[3600]\tvalid_0's mape: 0.0266931\n",
            "[3700]\tvalid_0's mape: 0.0254055\n",
            "[3800]\tvalid_0's mape: 0.0242706\n",
            "[3900]\tvalid_0's mape: 0.0232702\n",
            "[4000]\tvalid_0's mape: 0.0223872\n",
            "[4100]\tvalid_0's mape: 0.0216492\n",
            "[4200]\tvalid_0's mape: 0.0209841\n",
            "[4300]\tvalid_0's mape: 0.0204554\n",
            "[4400]\tvalid_0's mape: 0.0199868\n",
            "[4500]\tvalid_0's mape: 0.019606\n",
            "[4600]\tvalid_0's mape: 0.0192823\n",
            "[4700]\tvalid_0's mape: 0.0189878\n",
            "[4800]\tvalid_0's mape: 0.0187203\n",
            "[4900]\tvalid_0's mape: 0.0184854\n",
            "[5000]\tvalid_0's mape: 0.018268\n",
            "[5100]\tvalid_0's mape: 0.0180701\n",
            "[5200]\tvalid_0's mape: 0.0178944\n",
            "[5300]\tvalid_0's mape: 0.0177366\n",
            "[5400]\tvalid_0's mape: 0.0175569\n",
            "[5500]\tvalid_0's mape: 0.017444\n",
            "[5600]\tvalid_0's mape: 0.0173149\n",
            "[5700]\tvalid_0's mape: 0.0171857\n",
            "[5800]\tvalid_0's mape: 0.0170772\n",
            "[5900]\tvalid_0's mape: 0.0169817\n",
            "[6000]\tvalid_0's mape: 0.016882\n",
            "[6100]\tvalid_0's mape: 0.0168391\n",
            "[6200]\tvalid_0's mape: 0.0167665\n",
            "[6300]\tvalid_0's mape: 0.0167167\n",
            "[6400]\tvalid_0's mape: 0.0166362\n",
            "[6500]\tvalid_0's mape: 0.0165807\n",
            "[6600]\tvalid_0's mape: 0.0165355\n",
            "[6700]\tvalid_0's mape: 0.0164994\n",
            "[6800]\tvalid_0's mape: 0.0164602\n",
            "[6900]\tvalid_0's mape: 0.0164044\n",
            "[7000]\tvalid_0's mape: 0.0163661\n",
            "[7100]\tvalid_0's mape: 0.0163238\n",
            "[7200]\tvalid_0's mape: 0.0162861\n",
            "[7300]\tvalid_0's mape: 0.0162561\n",
            "[7400]\tvalid_0's mape: 0.0162134\n",
            "[7500]\tvalid_0's mape: 0.016186\n",
            "[7600]\tvalid_0's mape: 0.0161465\n",
            "[7700]\tvalid_0's mape: 0.0161177\n",
            "[7800]\tvalid_0's mape: 0.0160759\n",
            "[7900]\tvalid_0's mape: 0.016046\n",
            "[8000]\tvalid_0's mape: 0.0160221\n",
            "[8100]\tvalid_0's mape: 0.0159942\n",
            "[8200]\tvalid_0's mape: 0.0159565\n",
            "[8300]\tvalid_0's mape: 0.0159317\n",
            "[8400]\tvalid_0's mape: 0.0158918\n",
            "[8500]\tvalid_0's mape: 0.0158469\n",
            "[8600]\tvalid_0's mape: 0.0158269\n",
            "[8700]\tvalid_0's mape: 0.0157844\n",
            "[8800]\tvalid_0's mape: 0.0157574\n",
            "[8900]\tvalid_0's mape: 0.0157322\n",
            "[9000]\tvalid_0's mape: 0.01571\n",
            "[9100]\tvalid_0's mape: 0.0156887\n",
            "[9200]\tvalid_0's mape: 0.0156689\n",
            "[9300]\tvalid_0's mape: 0.0156536\n",
            "Early stopping, best iteration is:\n",
            "[9260]\tvalid_0's mape: 0.0156423\n"
          ],
          "name": "stdout"
        }
      ]
    },
    {
      "cell_type": "code",
      "metadata": {
        "id": "kIiBypMxn5Sk",
        "colab_type": "code",
        "colab": {
          "base_uri": "https://localhost:8080/",
          "height": 310
        },
        "outputId": "96ddba87-eb8f-4407-a832-246c0fb1dce2"
      },
      "source": [
        "lgb.plot_importance(model)"
      ],
      "execution_count": 15,
      "outputs": [
        {
          "output_type": "execute_result",
          "data": {
            "text/plain": [
              "<matplotlib.axes._subplots.AxesSubplot at 0x7fd530b56128>"
            ]
          },
          "metadata": {
            "tags": []
          },
          "execution_count": 15
        },
        {
          "output_type": "display_data",
          "data": {
            "image/png": "[encoded data removed]",
            "text/plain": [
              "<Figure size 432x288 with 1 Axes>"
            ]
          },
          "metadata": {
            "tags": [],
            "needs_background": "light"
          }
        }
      ]
    },
    {
      "cell_type": "code",
      "metadata": {
        "id": "P20lf5U3oLj-",
        "colab_type": "code",
        "colab": {
          "base_uri": "https://localhost:8080/",
          "height": 399
        },
        "outputId": "700b67c5-df1a-449f-8d42-8826cec8879e"
      },
      "source": [
        "y_pred = model.predict(X_test)\n",
        "test_data['취급액_예측'] = y_pred\n",
        "test_data"
      ],
      "execution_count": 16,
      "outputs": [
        {
          "output_type": "execute_result",
          "data": {
            "text/html": [
              "<div>\n",
              "<style scoped>\n",
              "    .dataframe tbody tr th:only-of-type {\n",
              "        vertical-align: middle;\n",
              "    }\n",
              "\n",
              "    .dataframe tbody tr th {\n",
              "        vertical-align: top;\n",
              "    }\n",
              "\n",
              "    .dataframe thead th {\n",
              "        text-align: right;\n",
              "    }\n",
              "</style>\n",
              "<table border=\"1\" class=\"dataframe\">\n",
              "  <thead>\n",
              "    <tr style=\"text-align: right;\">\n",
              "      <th></th>\n",
              "      <th>월</th>\n",
              "      <th>일</th>\n",
              "      <th>요일</th>\n",
              "      <th>노출(분)</th>\n",
              "      <th>마더코드</th>\n",
              "      <th>상품코드</th>\n",
              "      <th>판매단가</th>\n",
              "      <th>판매량</th>\n",
              "      <th>취급액</th>\n",
              "      <th>취급액_예측</th>\n",
              "    </tr>\n",
              "  </thead>\n",
              "  <tbody>\n",
              "    <tr>\n",
              "      <th>1960</th>\n",
              "      <td>8</td>\n",
              "      <td>6</td>\n",
              "      <td>6</td>\n",
              "      <td>20.00</td>\n",
              "      <td>100545</td>\n",
              "      <td>201630</td>\n",
              "      <td>38900</td>\n",
              "      <td>804.575835</td>\n",
              "      <td>31298000.0</td>\n",
              "      <td>3.134383e+07</td>\n",
              "    </tr>\n",
              "    <tr>\n",
              "      <th>2704</th>\n",
              "      <td>9</td>\n",
              "      <td>19</td>\n",
              "      <td>1</td>\n",
              "      <td>18.25</td>\n",
              "      <td>100492</td>\n",
              "      <td>201487</td>\n",
              "      <td>49900</td>\n",
              "      <td>1432.484970</td>\n",
              "      <td>71481000.0</td>\n",
              "      <td>7.208205e+07</td>\n",
              "    </tr>\n",
              "    <tr>\n",
              "      <th>2127</th>\n",
              "      <td>8</td>\n",
              "      <td>18</td>\n",
              "      <td>4</td>\n",
              "      <td>20.00</td>\n",
              "      <td>100202</td>\n",
              "      <td>200685</td>\n",
              "      <td>55900</td>\n",
              "      <td>517.334526</td>\n",
              "      <td>28919000.0</td>\n",
              "      <td>2.890013e+07</td>\n",
              "    </tr>\n",
              "    <tr>\n",
              "      <th>3471</th>\n",
              "      <td>11</td>\n",
              "      <td>22</td>\n",
              "      <td>0</td>\n",
              "      <td>20.00</td>\n",
              "      <td>100317</td>\n",
              "      <td>201665</td>\n",
              "      <td>49900</td>\n",
              "      <td>4831.242485</td>\n",
              "      <td>241079000.0</td>\n",
              "      <td>1.335572e+08</td>\n",
              "    </tr>\n",
              "    <tr>\n",
              "      <th>2366</th>\n",
              "      <td>8</td>\n",
              "      <td>30</td>\n",
              "      <td>0</td>\n",
              "      <td>20.00</td>\n",
              "      <td>100202</td>\n",
              "      <td>200685</td>\n",
              "      <td>55900</td>\n",
              "      <td>479.516995</td>\n",
              "      <td>26805000.0</td>\n",
              "      <td>2.686495e+07</td>\n",
              "    </tr>\n",
              "    <tr>\n",
              "      <th>...</th>\n",
              "      <td>...</td>\n",
              "      <td>...</td>\n",
              "      <td>...</td>\n",
              "      <td>...</td>\n",
              "      <td>...</td>\n",
              "      <td>...</td>\n",
              "      <td>...</td>\n",
              "      <td>...</td>\n",
              "      <td>...</td>\n",
              "      <td>...</td>\n",
              "    </tr>\n",
              "    <tr>\n",
              "      <th>2362</th>\n",
              "      <td>8</td>\n",
              "      <td>29</td>\n",
              "      <td>1</td>\n",
              "      <td>20.00</td>\n",
              "      <td>100167</td>\n",
              "      <td>200579</td>\n",
              "      <td>38900</td>\n",
              "      <td>2589.177378</td>\n",
              "      <td>100719000.0</td>\n",
              "      <td>9.891756e+07</td>\n",
              "    </tr>\n",
              "    <tr>\n",
              "      <th>651</th>\n",
              "      <td>2</td>\n",
              "      <td>21</td>\n",
              "      <td>1</td>\n",
              "      <td>20.00</td>\n",
              "      <td>100849</td>\n",
              "      <td>202510</td>\n",
              "      <td>59900</td>\n",
              "      <td>1026.010017</td>\n",
              "      <td>61458000.0</td>\n",
              "      <td>6.288339e+07</td>\n",
              "    </tr>\n",
              "    <tr>\n",
              "      <th>1926</th>\n",
              "      <td>8</td>\n",
              "      <td>2</td>\n",
              "      <td>0</td>\n",
              "      <td>20.00</td>\n",
              "      <td>100199</td>\n",
              "      <td>200671</td>\n",
              "      <td>50900</td>\n",
              "      <td>402.239686</td>\n",
              "      <td>20474000.0</td>\n",
              "      <td>2.128468e+07</td>\n",
              "    </tr>\n",
              "    <tr>\n",
              "      <th>3235</th>\n",
              "      <td>11</td>\n",
              "      <td>1</td>\n",
              "      <td>0</td>\n",
              "      <td>20.00</td>\n",
              "      <td>100323</td>\n",
              "      <td>201025</td>\n",
              "      <td>49900</td>\n",
              "      <td>1243.286573</td>\n",
              "      <td>62040000.0</td>\n",
              "      <td>6.203216e+07</td>\n",
              "    </tr>\n",
              "    <tr>\n",
              "      <th>2052</th>\n",
              "      <td>8</td>\n",
              "      <td>12</td>\n",
              "      <td>3</td>\n",
              "      <td>20.00</td>\n",
              "      <td>100166</td>\n",
              "      <td>200576</td>\n",
              "      <td>30900</td>\n",
              "      <td>1747.022654</td>\n",
              "      <td>53983000.0</td>\n",
              "      <td>5.409140e+07</td>\n",
              "    </tr>\n",
              "  </tbody>\n",
              "</table>\n",
              "<p>777 rows × 10 columns</p>\n",
              "</div>"
            ],
            "text/plain": [
              "       월   일  요일  노출(분)  ...   판매단가          판매량          취급액        취급액_예측\n",
              "1960   8   6   6  20.00  ...  38900   804.575835   31298000.0  3.134383e+07\n",
              "2704   9  19   1  18.25  ...  49900  1432.484970   71481000.0  7.208205e+07\n",
              "2127   8  18   4  20.00  ...  55900   517.334526   28919000.0  2.890013e+07\n",
              "3471  11  22   0  20.00  ...  49900  4831.242485  241079000.0  1.335572e+08\n",
              "2366   8  30   0  20.00  ...  55900   479.516995   26805000.0  2.686495e+07\n",
              "...   ..  ..  ..    ...  ...    ...          ...          ...           ...\n",
              "2362   8  29   1  20.00  ...  38900  2589.177378  100719000.0  9.891756e+07\n",
              "651    2  21   1  20.00  ...  59900  1026.010017   61458000.0  6.288339e+07\n",
              "1926   8   2   0  20.00  ...  50900   402.239686   20474000.0  2.128468e+07\n",
              "3235  11   1   0  20.00  ...  49900  1243.286573   62040000.0  6.203216e+07\n",
              "2052   8  12   3  20.00  ...  30900  1747.022654   53983000.0  5.409140e+07\n",
              "\n",
              "[777 rows x 10 columns]"
            ]
          },
          "metadata": {
            "tags": []
          },
          "execution_count": 16
        }
      ]
    },
    {
      "cell_type": "markdown",
      "metadata": {
        "id": "DqU0RiPWpTaL",
        "colab_type": "text"
      },
      "source": [
        "#### 파라미터 조합 2"
      ]
    },
    {
      "cell_type": "code",
      "metadata": {
        "id": "u7Xxzt__pF5m",
        "colab_type": "code",
        "colab": {
          "base_uri": "https://localhost:8080/",
          "height": 1000
        },
        "outputId": "97915b77-4490-463e-d2b1-59fd2cd37d3e"
      },
      "source": [
        "params = {'learning_rate': 0.001, \n",
        "          'max_depth': -1, \n",
        "          'boosting': 'gbdt', \n",
        "          'objective': 'regression', \n",
        "          'metric': 'mape', \n",
        "          'is_training_metric': True, \n",
        "          'num_leaves': 144, \n",
        "          'feature_fraction': 1, \n",
        "          'bagging_fraction': 0.7, \n",
        "          'bagging_freq': 5, \n",
        "          'seed':42,\n",
        "          'cat_smooth':5}\n",
        "\n",
        "model = lgb.train(params=params, \n",
        "                  train_set=ds_train,\n",
        "                  num_boost_round=10000,\n",
        "                  valid_sets=ds_test, \n",
        "                  verbose_eval=100, \n",
        "                  early_stopping_rounds=100)"
      ],
      "execution_count": 17,
      "outputs": [
        {
          "output_type": "stream",
          "text": [
            "Training until validation scores don't improve for 100 rounds.\n",
            "[100]\tvalid_0's mape: 0.540485\n",
            "[200]\tvalid_0's mape: 0.489601\n",
            "[300]\tvalid_0's mape: 0.443498\n",
            "[400]\tvalid_0's mape: 0.401839\n",
            "[500]\tvalid_0's mape: 0.364138\n",
            "[600]\tvalid_0's mape: 0.329868\n",
            "[700]\tvalid_0's mape: 0.298859\n",
            "[800]\tvalid_0's mape: 0.270775\n",
            "[900]\tvalid_0's mape: 0.245685\n",
            "[1000]\tvalid_0's mape: 0.223092\n",
            "[1100]\tvalid_0's mape: 0.202734\n",
            "[1200]\tvalid_0's mape: 0.184298\n",
            "[1300]\tvalid_0's mape: 0.167608\n",
            "[1400]\tvalid_0's mape: 0.152541\n",
            "[1500]\tvalid_0's mape: 0.138966\n",
            "[1600]\tvalid_0's mape: 0.126715\n",
            "[1700]\tvalid_0's mape: 0.115653\n",
            "[1800]\tvalid_0's mape: 0.10559\n",
            "[1900]\tvalid_0's mape: 0.0965595\n",
            "[2000]\tvalid_0's mape: 0.0884225\n",
            "[2100]\tvalid_0's mape: 0.081108\n",
            "[2200]\tvalid_0's mape: 0.0744205\n",
            "[2300]\tvalid_0's mape: 0.0683467\n",
            "[2400]\tvalid_0's mape: 0.0628225\n",
            "[2500]\tvalid_0's mape: 0.0577943\n",
            "[2600]\tvalid_0's mape: 0.0532521\n",
            "[2700]\tvalid_0's mape: 0.0490802\n",
            "[2800]\tvalid_0's mape: 0.0453943\n",
            "[2900]\tvalid_0's mape: 0.0420933\n",
            "[3000]\tvalid_0's mape: 0.0390768\n",
            "[3100]\tvalid_0's mape: 0.0363009\n",
            "[3200]\tvalid_0's mape: 0.0338346\n",
            "[3300]\tvalid_0's mape: 0.0317143\n",
            "[3400]\tvalid_0's mape: 0.0298208\n",
            "[3500]\tvalid_0's mape: 0.0281703\n",
            "[3600]\tvalid_0's mape: 0.0266931\n",
            "[3700]\tvalid_0's mape: 0.0254055\n",
            "[3800]\tvalid_0's mape: 0.0242706\n",
            "[3900]\tvalid_0's mape: 0.0232702\n",
            "[4000]\tvalid_0's mape: 0.0223872\n",
            "[4100]\tvalid_0's mape: 0.0216492\n",
            "[4200]\tvalid_0's mape: 0.0209841\n",
            "[4300]\tvalid_0's mape: 0.0204555\n",
            "[4400]\tvalid_0's mape: 0.0199868\n",
            "[4500]\tvalid_0's mape: 0.0196058\n",
            "[4600]\tvalid_0's mape: 0.0192821\n",
            "[4700]\tvalid_0's mape: 0.0189878\n",
            "[4800]\tvalid_0's mape: 0.0187211\n",
            "[4900]\tvalid_0's mape: 0.0184866\n",
            "[5000]\tvalid_0's mape: 0.0182689\n",
            "[5100]\tvalid_0's mape: 0.0180707\n",
            "[5200]\tvalid_0's mape: 0.0178948\n",
            "[5300]\tvalid_0's mape: 0.0177351\n",
            "[5400]\tvalid_0's mape: 0.0175564\n",
            "[5500]\tvalid_0's mape: 0.017439\n",
            "[5600]\tvalid_0's mape: 0.0173118\n",
            "[5700]\tvalid_0's mape: 0.0171815\n",
            "[5800]\tvalid_0's mape: 0.0170736\n",
            "[5900]\tvalid_0's mape: 0.0169762\n",
            "[6000]\tvalid_0's mape: 0.0168801\n",
            "[6100]\tvalid_0's mape: 0.0168323\n",
            "[6200]\tvalid_0's mape: 0.0167597\n",
            "[6300]\tvalid_0's mape: 0.0167057\n",
            "[6400]\tvalid_0's mape: 0.0166244\n",
            "[6500]\tvalid_0's mape: 0.0165696\n",
            "[6600]\tvalid_0's mape: 0.0165245\n",
            "[6700]\tvalid_0's mape: 0.0164879\n",
            "[6800]\tvalid_0's mape: 0.0164474\n",
            "[6900]\tvalid_0's mape: 0.0163919\n",
            "[7000]\tvalid_0's mape: 0.0163554\n",
            "[7100]\tvalid_0's mape: 0.0163131\n",
            "[7200]\tvalid_0's mape: 0.0162718\n",
            "[7300]\tvalid_0's mape: 0.0162418\n",
            "[7400]\tvalid_0's mape: 0.0162036\n",
            "[7500]\tvalid_0's mape: 0.0161754\n",
            "[7600]\tvalid_0's mape: 0.0161338\n",
            "[7700]\tvalid_0's mape: 0.0161039\n",
            "[7800]\tvalid_0's mape: 0.0160649\n",
            "[7900]\tvalid_0's mape: 0.0160314\n",
            "[8000]\tvalid_0's mape: 0.0160056\n",
            "[8100]\tvalid_0's mape: 0.0159769\n",
            "[8200]\tvalid_0's mape: 0.0159416\n",
            "[8300]\tvalid_0's mape: 0.0159188\n",
            "[8400]\tvalid_0's mape: 0.0158787\n",
            "[8500]\tvalid_0's mape: 0.0158355\n",
            "[8600]\tvalid_0's mape: 0.0158141\n",
            "[8700]\tvalid_0's mape: 0.0157728\n",
            "[8800]\tvalid_0's mape: 0.0157467\n",
            "[8900]\tvalid_0's mape: 0.0157255\n",
            "[9000]\tvalid_0's mape: 0.0157024\n",
            "[9100]\tvalid_0's mape: 0.0156825\n",
            "[9200]\tvalid_0's mape: 0.0156621\n",
            "[9300]\tvalid_0's mape: 0.015647\n",
            "Early stopping, best iteration is:\n",
            "[9260]\tvalid_0's mape: 0.0156389\n"
          ],
          "name": "stdout"
        }
      ]
    },
    {
      "cell_type": "code",
      "metadata": {
        "id": "thogOkecpXB-",
        "colab_type": "code",
        "colab": {
          "base_uri": "https://localhost:8080/",
          "height": 248
        },
        "outputId": "11ae3266-da01-49ca-88e2-4e9201a58923"
      },
      "source": [
        "params = {'learning_rate': 0.025, \n",
        "          'max_depth': -1, \n",
        "          'boosting': 'gbdt', \n",
        "          'objective': 'regression', \n",
        "          'metric': 'mape', \n",
        "          'is_training_metric': True, \n",
        "          'num_leaves': 144, \n",
        "          'feature_fraction': 1, \n",
        "          'bagging_fraction': 0.7, \n",
        "          'bagging_freq': 5, \n",
        "          'seed':42,\n",
        "          'cat_smooth':15}\n",
        "\n",
        "model = lgb.train(params=params, \n",
        "                  train_set=ds_train,\n",
        "                  num_boost_round=10000,\n",
        "                  valid_sets=ds_test, \n",
        "                  verbose_eval=100, \n",
        "                  early_stopping_rounds=100)"
      ],
      "execution_count": 18,
      "outputs": [
        {
          "output_type": "stream",
          "text": [
            "Training until validation scores don't improve for 100 rounds.\n",
            "[100]\tvalid_0's mape: 0.0572309\n",
            "[200]\tvalid_0's mape: 0.0185637\n",
            "[300]\tvalid_0's mape: 0.017274\n",
            "[400]\tvalid_0's mape: 0.016953\n",
            "[500]\tvalid_0's mape: 0.0169834\n",
            "[600]\tvalid_0's mape: 0.016216\n",
            "[700]\tvalid_0's mape: 0.0159721\n",
            "[800]\tvalid_0's mape: 0.01572\n",
            "[900]\tvalid_0's mape: 0.0154263\n",
            "[1000]\tvalid_0's mape: 0.0154232\n",
            "Early stopping, best iteration is:\n",
            "[920]\tvalid_0's mape: 0.0152086\n"
          ],
          "name": "stdout"
        }
      ]
    }
  ]
}