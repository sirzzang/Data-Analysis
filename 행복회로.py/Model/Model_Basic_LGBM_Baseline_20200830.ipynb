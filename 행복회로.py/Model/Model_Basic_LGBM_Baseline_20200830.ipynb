{
  "nbformat": 4,
  "nbformat_minor": 0,
  "metadata": {
    "colab": {
      "name": "LGBM-Basic-Baseline.ipynb",
      "provenance": [],
      "collapsed_sections": [],
      "toc_visible": true,
      "machine_shape": "hm"
    },
    "kernelspec": {
      "name": "python3",
      "display_name": "Python 3"
    }
  },
  "cells": [
    {
      "cell_type": "markdown",
      "metadata": {
        "id": "K1taq3-xWP8G",
        "colab_type": "text"
      },
      "source": [
        "# LGBM Regressor Baseline\n",
        "\n",
        "*방향*\n",
        "\n",
        " 전체 데이터에 대해 제공된 데이터에서 뽑아낼 수 있는 feature만 가지고 진행했을 때 어느 정도 맞는지 확인해 보자.\n",
        "\n",
        "- train, test set split: cluster 기준 계층적 샘플링.\n",
        "- 판매량을 넣었을 때, 안 넣었을 때 기준으로 MAPE 측정.\n",
        "\n",
        "*문제*\n",
        "\n",
        "- 군집을 반영해줄 수 없다!\n",
        "\n",
        "\n",
        "*결과*\n",
        "\n",
        "1. 트리 기반으로 할 수 있는 상품군이 정해져 있는 듯. 농수축 상품군을 대상으로 할 때보다 확 늘어난다.\n",
        "2. 370000(;;)대 정도가 이 정도 파라미터 조합에서는 수렴하는 MAPE 스코어.\n",
        "3. 변수 중요도\n",
        "    - 예상했던 대로 판매단가가 높다.\n",
        "    - 마더코드, 상품코드 등이 높다. : 구분할 수 있는 것이 필요한가?\n",
        "    - 방송시간대 중요하다."
      ]
    },
    {
      "cell_type": "code",
      "metadata": {
        "id": "E1ORXBT0WKIY",
        "colab_type": "code",
        "colab": {}
      },
      "source": [
        "import warnings\n",
        "warnings.filterwarnings(action='ignore')\n",
        "\n",
        "import pandas as pd\n",
        "import numpy as np\n",
        "from sklearn.model_selection import StratifiedShuffleSplit\n",
        "from sklearn.model_selection import GridSearchCV\n",
        "from sklearn.preprocessing import StandardScaler, LabelEncoder\n",
        "import lightgbm as lgb\n",
        "\n",
        "import os\n",
        "import matplotlib as mpl\n",
        "import matplotlib.pyplot as plt\n",
        "import matplotlib.font_manager as fm"
      ],
      "execution_count": 1,
      "outputs": []
    },
    {
      "cell_type": "code",
      "metadata": {
        "id": "ncQXk3J0Xhg2",
        "colab_type": "code",
        "colab": {
          "base_uri": "https://localhost:8080/",
          "height": 35
        },
        "outputId": "e6264632-9759-4b67-df9b-a11abec8a818"
      },
      "source": [
        "os.getcwd()\n",
        "os.chdir(\"/content/drive/My Drive/Big-Contest\")\n",
        "os.getcwd()"
      ],
      "execution_count": 2,
      "outputs": [
        {
          "output_type": "execute_result",
          "data": {
            "application/vnd.google.colaboratory.intrinsic+json": {
              "type": "string"
            },
            "text/plain": [
              "'/content/drive/My Drive/Big-Contest'"
            ]
          },
          "metadata": {
            "tags": []
          },
          "execution_count": 2
        }
      ]
    },
    {
      "cell_type": "code",
      "metadata": {
        "id": "VYpZy3XjcbqI",
        "colab_type": "code",
        "colab": {
          "base_uri": "https://localhost:8080/",
          "height": 35
        },
        "outputId": "58e6be19-71bf-41ac-ba6c-88f731ca3f54"
      },
      "source": [
        "!apt-get update -qq\n",
        "!apt-get install fonts-nanum* -qq\n",
        "\n",
        "path = '/usr/share/fonts/truetype/nanum/NanumGothicEco.ttf'\n",
        "font_name = fm.FontProperties(fname=path, size=10).get_name()\n",
        "print(font_name)\n",
        "plt.rc('font', family=font_name)\n",
        "\n",
        "fm._rebuild()"
      ],
      "execution_count": 3,
      "outputs": [
        {
          "output_type": "stream",
          "text": [
            "NanumGothic Eco\n"
          ],
          "name": "stdout"
        }
      ]
    },
    {
      "cell_type": "code",
      "metadata": {
        "id": "nvxgvpFvXSYP",
        "colab_type": "code",
        "colab": {}
      },
      "source": [
        "# 경로 설정\n",
        "# RAW_DATA = \"./data/2020 빅콘테스트 데이터분석분야-챔피언리그_2019년 실적데이터_v1_200818.xlsx\"\n",
        "RAW_DATA_EXPOSURE_FILLED = \"./data/노출시간채운데이터.xlsx\"\n",
        "NSC_CLUSTERED_WITHOUT_OUTLIERS = \"./data/농수축_군집4개_이상치제외.csv\"\n",
        "NSC_CLUSTERED_WITH_OUTLIERS = \"./data/농수축_군집4개_이상치제외.csv\""
      ],
      "execution_count": 4,
      "outputs": []
    },
    {
      "cell_type": "code",
      "metadata": {
        "id": "FB6qB-1PXSUw",
        "colab_type": "code",
        "colab": {
          "base_uri": "https://localhost:8080/",
          "height": 284
        },
        "outputId": "2014430b-b2b8-440f-dd76-feaf43fe05ce"
      },
      "source": [
        "# 데이터 로드\n",
        "data_raw = pd.read_excel(RAW_DATA_EXPOSURE_FILLED, usecols= lambda x: 'Unnamed' not in x)\n",
        "data_raw.info()"
      ],
      "execution_count": 5,
      "outputs": [
        {
          "output_type": "stream",
          "text": [
            "<class 'pandas.core.frame.DataFrame'>\n",
            "RangeIndex: 38309 entries, 0 to 38308\n",
            "Data columns (total 8 columns):\n",
            " #   Column  Non-Null Count  Dtype         \n",
            "---  ------  --------------  -----         \n",
            " 0   방송일시    38309 non-null  datetime64[ns]\n",
            " 1   노출(분)   38309 non-null  float64       \n",
            " 2   마더코드    38309 non-null  int64         \n",
            " 3   상품코드    38309 non-null  int64         \n",
            " 4   상품명     38309 non-null  object        \n",
            " 5   상품군     38309 non-null  object        \n",
            " 6   판매단가    38309 non-null  int64         \n",
            " 7   취급액     37372 non-null  float64       \n",
            "dtypes: datetime64[ns](1), float64(2), int64(3), object(2)\n",
            "memory usage: 2.3+ MB\n"
          ],
          "name": "stdout"
        }
      ]
    },
    {
      "cell_type": "code",
      "metadata": {
        "id": "bYvtf_G3C6UU",
        "colab_type": "code",
        "colab": {
          "base_uri": "https://localhost:8080/",
          "height": 284
        },
        "outputId": "334b5d63-5e37-4c19-9514-5cfb2e3cd0ca"
      },
      "source": [
        "# 무형 제거\n",
        "data_raw = data_raw[data_raw['상품군'] != '무형']\n",
        "data_raw.info()\n",
        "data_raw = data_raw.reset_index(drop=True)"
      ],
      "execution_count": 6,
      "outputs": [
        {
          "output_type": "stream",
          "text": [
            "<class 'pandas.core.frame.DataFrame'>\n",
            "Int64Index: 37372 entries, 0 to 38303\n",
            "Data columns (total 8 columns):\n",
            " #   Column  Non-Null Count  Dtype         \n",
            "---  ------  --------------  -----         \n",
            " 0   방송일시    37372 non-null  datetime64[ns]\n",
            " 1   노출(분)   37372 non-null  float64       \n",
            " 2   마더코드    37372 non-null  int64         \n",
            " 3   상품코드    37372 non-null  int64         \n",
            " 4   상품명     37372 non-null  object        \n",
            " 5   상품군     37372 non-null  object        \n",
            " 6   판매단가    37372 non-null  int64         \n",
            " 7   취급액     37372 non-null  float64       \n",
            "dtypes: datetime64[ns](1), float64(2), int64(3), object(2)\n",
            "memory usage: 2.6+ MB\n"
          ],
          "name": "stdout"
        }
      ]
    },
    {
      "cell_type": "code",
      "metadata": {
        "id": "xpp6QMutCXR7",
        "colab_type": "code",
        "colab": {}
      },
      "source": [
        "# 원본 보존\n",
        "data = data_raw.copy()"
      ],
      "execution_count": 7,
      "outputs": []
    },
    {
      "cell_type": "code",
      "metadata": {
        "id": "uYcVeVRBDiKW",
        "colab_type": "code",
        "colab": {}
      },
      "source": [
        "# 평가지표 산식\n",
        "def mean_absolute_percentage_error(y_true, y_pred):\n",
        "    return np.mean(np.abs((y_true - y_pred) / y_true)) * 100"
      ],
      "execution_count": 10,
      "outputs": []
    },
    {
      "cell_type": "markdown",
      "metadata": {
        "id": "l7qEeIOdUqzA",
        "colab_type": "text"
      },
      "source": [
        "## Feature 선택 1\n",
        "- 월\n",
        "- 일\n",
        "- 요일\n",
        "- 노출(분)\n",
        "- ~~마더코드~~\n",
        "- ~~상품코드~~\n",
        "- 상품군\n",
        "- 판매단가\n"
      ]
    },
    {
      "cell_type": "code",
      "metadata": {
        "id": "C7NnZlR0gdE6",
        "colab_type": "code",
        "colab": {
          "base_uri": "https://localhost:8080/",
          "height": 399
        },
        "outputId": "e85870a5-bc1b-45d8-aa35-c2a6c517966e"
      },
      "source": [
        "# feature 분리 및 추가\n",
        "data['월'] = data['방송일시'].dt.month\n",
        "data['일'] = data['방송일시'].dt.day\n",
        "data['요일'] = data['방송일시'].dt.dayofweek\n",
        "day_mapping_dict = {0:'월요일', 1:'화요일', 2:'수요일', 3:'목요일', 4:'금요일', 5:'토요일', 6:'일요일'}\n",
        "data['요일'] = data['요일'].map(day_mapping_dict)\n",
        "data"
      ],
      "execution_count": 11,
      "outputs": [
        {
          "output_type": "execute_result",
          "data": {
            "text/html": [
              "<div>\n",
              "<style scoped>\n",
              "    .dataframe tbody tr th:only-of-type {\n",
              "        vertical-align: middle;\n",
              "    }\n",
              "\n",
              "    .dataframe tbody tr th {\n",
              "        vertical-align: top;\n",
              "    }\n",
              "\n",
              "    .dataframe thead th {\n",
              "        text-align: right;\n",
              "    }\n",
              "</style>\n",
              "<table border=\"1\" class=\"dataframe\">\n",
              "  <thead>\n",
              "    <tr style=\"text-align: right;\">\n",
              "      <th></th>\n",
              "      <th>방송일시</th>\n",
              "      <th>노출(분)</th>\n",
              "      <th>마더코드</th>\n",
              "      <th>상품코드</th>\n",
              "      <th>상품명</th>\n",
              "      <th>상품군</th>\n",
              "      <th>판매단가</th>\n",
              "      <th>취급액</th>\n",
              "      <th>월</th>\n",
              "      <th>일</th>\n",
              "      <th>요일</th>\n",
              "    </tr>\n",
              "  </thead>\n",
              "  <tbody>\n",
              "    <tr>\n",
              "      <th>0</th>\n",
              "      <td>2019-01-01 06:00:00</td>\n",
              "      <td>20.0</td>\n",
              "      <td>100346</td>\n",
              "      <td>201072</td>\n",
              "      <td>테이트 남성 셀린니트3종</td>\n",
              "      <td>의류</td>\n",
              "      <td>39900</td>\n",
              "      <td>2099000.0</td>\n",
              "      <td>1</td>\n",
              "      <td>1</td>\n",
              "      <td>화요일</td>\n",
              "    </tr>\n",
              "    <tr>\n",
              "      <th>1</th>\n",
              "      <td>2019-01-01 06:00:00</td>\n",
              "      <td>20.0</td>\n",
              "      <td>100346</td>\n",
              "      <td>201079</td>\n",
              "      <td>테이트 여성 셀린니트3종</td>\n",
              "      <td>의류</td>\n",
              "      <td>39900</td>\n",
              "      <td>4371000.0</td>\n",
              "      <td>1</td>\n",
              "      <td>1</td>\n",
              "      <td>화요일</td>\n",
              "    </tr>\n",
              "    <tr>\n",
              "      <th>2</th>\n",
              "      <td>2019-01-01 06:20:00</td>\n",
              "      <td>20.0</td>\n",
              "      <td>100346</td>\n",
              "      <td>201072</td>\n",
              "      <td>테이트 남성 셀린니트3종</td>\n",
              "      <td>의류</td>\n",
              "      <td>39900</td>\n",
              "      <td>3262000.0</td>\n",
              "      <td>1</td>\n",
              "      <td>1</td>\n",
              "      <td>화요일</td>\n",
              "    </tr>\n",
              "    <tr>\n",
              "      <th>3</th>\n",
              "      <td>2019-01-01 06:20:00</td>\n",
              "      <td>20.0</td>\n",
              "      <td>100346</td>\n",
              "      <td>201079</td>\n",
              "      <td>테이트 여성 셀린니트3종</td>\n",
              "      <td>의류</td>\n",
              "      <td>39900</td>\n",
              "      <td>6955000.0</td>\n",
              "      <td>1</td>\n",
              "      <td>1</td>\n",
              "      <td>화요일</td>\n",
              "    </tr>\n",
              "    <tr>\n",
              "      <th>4</th>\n",
              "      <td>2019-01-01 06:40:00</td>\n",
              "      <td>20.0</td>\n",
              "      <td>100346</td>\n",
              "      <td>201072</td>\n",
              "      <td>테이트 남성 셀린니트3종</td>\n",
              "      <td>의류</td>\n",
              "      <td>39900</td>\n",
              "      <td>6672000.0</td>\n",
              "      <td>1</td>\n",
              "      <td>1</td>\n",
              "      <td>화요일</td>\n",
              "    </tr>\n",
              "    <tr>\n",
              "      <th>...</th>\n",
              "      <td>...</td>\n",
              "      <td>...</td>\n",
              "      <td>...</td>\n",
              "      <td>...</td>\n",
              "      <td>...</td>\n",
              "      <td>...</td>\n",
              "      <td>...</td>\n",
              "      <td>...</td>\n",
              "      <td>...</td>\n",
              "      <td>...</td>\n",
              "      <td>...</td>\n",
              "    </tr>\n",
              "    <tr>\n",
              "      <th>37367</th>\n",
              "      <td>2019-12-31 23:40:00</td>\n",
              "      <td>20.0</td>\n",
              "      <td>100448</td>\n",
              "      <td>201391</td>\n",
              "      <td>일시불쿠첸압력밥솥 6인용</td>\n",
              "      <td>주방</td>\n",
              "      <td>148000</td>\n",
              "      <td>10157000.0</td>\n",
              "      <td>12</td>\n",
              "      <td>31</td>\n",
              "      <td>화요일</td>\n",
              "    </tr>\n",
              "    <tr>\n",
              "      <th>37368</th>\n",
              "      <td>2020-01-01 00:00:00</td>\n",
              "      <td>20.0</td>\n",
              "      <td>100448</td>\n",
              "      <td>201383</td>\n",
              "      <td>무이자쿠첸압력밥솥 10인용</td>\n",
              "      <td>주방</td>\n",
              "      <td>178000</td>\n",
              "      <td>50929000.0</td>\n",
              "      <td>1</td>\n",
              "      <td>1</td>\n",
              "      <td>수요일</td>\n",
              "    </tr>\n",
              "    <tr>\n",
              "      <th>37369</th>\n",
              "      <td>2020-01-01 00:00:00</td>\n",
              "      <td>20.0</td>\n",
              "      <td>100448</td>\n",
              "      <td>201390</td>\n",
              "      <td>일시불쿠첸압력밥솥 10인용</td>\n",
              "      <td>주방</td>\n",
              "      <td>168000</td>\n",
              "      <td>104392000.0</td>\n",
              "      <td>1</td>\n",
              "      <td>1</td>\n",
              "      <td>수요일</td>\n",
              "    </tr>\n",
              "    <tr>\n",
              "      <th>37370</th>\n",
              "      <td>2020-01-01 00:00:00</td>\n",
              "      <td>20.0</td>\n",
              "      <td>100448</td>\n",
              "      <td>201384</td>\n",
              "      <td>무이자쿠첸압력밥솥 6인용</td>\n",
              "      <td>주방</td>\n",
              "      <td>158000</td>\n",
              "      <td>13765000.0</td>\n",
              "      <td>1</td>\n",
              "      <td>1</td>\n",
              "      <td>수요일</td>\n",
              "    </tr>\n",
              "    <tr>\n",
              "      <th>37371</th>\n",
              "      <td>2020-01-01 00:00:00</td>\n",
              "      <td>20.0</td>\n",
              "      <td>100448</td>\n",
              "      <td>201391</td>\n",
              "      <td>일시불쿠첸압력밥솥 6인용</td>\n",
              "      <td>주방</td>\n",
              "      <td>148000</td>\n",
              "      <td>46608000.0</td>\n",
              "      <td>1</td>\n",
              "      <td>1</td>\n",
              "      <td>수요일</td>\n",
              "    </tr>\n",
              "  </tbody>\n",
              "</table>\n",
              "<p>37372 rows × 11 columns</p>\n",
              "</div>"
            ],
            "text/plain": [
              "                     방송일시  노출(분)    마더코드    상품코드  ...          취급액   월   일   요일\n",
              "0     2019-01-01 06:00:00   20.0  100346  201072  ...    2099000.0   1   1  화요일\n",
              "1     2019-01-01 06:00:00   20.0  100346  201079  ...    4371000.0   1   1  화요일\n",
              "2     2019-01-01 06:20:00   20.0  100346  201072  ...    3262000.0   1   1  화요일\n",
              "3     2019-01-01 06:20:00   20.0  100346  201079  ...    6955000.0   1   1  화요일\n",
              "4     2019-01-01 06:40:00   20.0  100346  201072  ...    6672000.0   1   1  화요일\n",
              "...                   ...    ...     ...     ...  ...          ...  ..  ..  ...\n",
              "37367 2019-12-31 23:40:00   20.0  100448  201391  ...   10157000.0  12  31  화요일\n",
              "37368 2020-01-01 00:00:00   20.0  100448  201383  ...   50929000.0   1   1  수요일\n",
              "37369 2020-01-01 00:00:00   20.0  100448  201390  ...  104392000.0   1   1  수요일\n",
              "37370 2020-01-01 00:00:00   20.0  100448  201384  ...   13765000.0   1   1  수요일\n",
              "37371 2020-01-01 00:00:00   20.0  100448  201391  ...   46608000.0   1   1  수요일\n",
              "\n",
              "[37372 rows x 11 columns]"
            ]
          },
          "metadata": {
            "tags": []
          },
          "execution_count": 11
        }
      ]
    },
    {
      "cell_type": "code",
      "metadata": {
        "id": "JBlAKSSxIzOa",
        "colab_type": "code",
        "colab": {
          "base_uri": "https://localhost:8080/",
          "height": 648
        },
        "outputId": "6d49af6f-9d1e-41ae-aa63-a0281779062b"
      },
      "source": [
        "# 범주형 변수 인코딩\n",
        "df = data[['월', '일', '요일', '노출(분)', '상품군', '판매단가', '취급액']]\n",
        "dtypes = df.dtypes\n",
        "\n",
        "encoders = {}\n",
        "for column in df.columns:\n",
        "    if str(dtypes[column]) == 'object':\n",
        "        encoder = LabelEncoder()\n",
        "        encoder.fit(df[column])\n",
        "        encoders[column] = encoder\n",
        "        \n",
        "for column in encoders.keys():\n",
        "    encoder = encoders[column]\n",
        "    df[column] = encoder.transform(df[column])\n",
        "\n",
        "display(df)\n",
        "df.info() "
      ],
      "execution_count": 12,
      "outputs": [
        {
          "output_type": "display_data",
          "data": {
            "text/html": [
              "<div>\n",
              "<style scoped>\n",
              "    .dataframe tbody tr th:only-of-type {\n",
              "        vertical-align: middle;\n",
              "    }\n",
              "\n",
              "    .dataframe tbody tr th {\n",
              "        vertical-align: top;\n",
              "    }\n",
              "\n",
              "    .dataframe thead th {\n",
              "        text-align: right;\n",
              "    }\n",
              "</style>\n",
              "<table border=\"1\" class=\"dataframe\">\n",
              "  <thead>\n",
              "    <tr style=\"text-align: right;\">\n",
              "      <th></th>\n",
              "      <th>월</th>\n",
              "      <th>일</th>\n",
              "      <th>요일</th>\n",
              "      <th>노출(분)</th>\n",
              "      <th>상품군</th>\n",
              "      <th>판매단가</th>\n",
              "      <th>취급액</th>\n",
              "    </tr>\n",
              "  </thead>\n",
              "  <tbody>\n",
              "    <tr>\n",
              "      <th>0</th>\n",
              "      <td>1</td>\n",
              "      <td>1</td>\n",
              "      <td>6</td>\n",
              "      <td>20.0</td>\n",
              "      <td>6</td>\n",
              "      <td>39900</td>\n",
              "      <td>2099000.0</td>\n",
              "    </tr>\n",
              "    <tr>\n",
              "      <th>1</th>\n",
              "      <td>1</td>\n",
              "      <td>1</td>\n",
              "      <td>6</td>\n",
              "      <td>20.0</td>\n",
              "      <td>6</td>\n",
              "      <td>39900</td>\n",
              "      <td>4371000.0</td>\n",
              "    </tr>\n",
              "    <tr>\n",
              "      <th>2</th>\n",
              "      <td>1</td>\n",
              "      <td>1</td>\n",
              "      <td>6</td>\n",
              "      <td>20.0</td>\n",
              "      <td>6</td>\n",
              "      <td>39900</td>\n",
              "      <td>3262000.0</td>\n",
              "    </tr>\n",
              "    <tr>\n",
              "      <th>3</th>\n",
              "      <td>1</td>\n",
              "      <td>1</td>\n",
              "      <td>6</td>\n",
              "      <td>20.0</td>\n",
              "      <td>6</td>\n",
              "      <td>39900</td>\n",
              "      <td>6955000.0</td>\n",
              "    </tr>\n",
              "    <tr>\n",
              "      <th>4</th>\n",
              "      <td>1</td>\n",
              "      <td>1</td>\n",
              "      <td>6</td>\n",
              "      <td>20.0</td>\n",
              "      <td>6</td>\n",
              "      <td>39900</td>\n",
              "      <td>6672000.0</td>\n",
              "    </tr>\n",
              "    <tr>\n",
              "      <th>...</th>\n",
              "      <td>...</td>\n",
              "      <td>...</td>\n",
              "      <td>...</td>\n",
              "      <td>...</td>\n",
              "      <td>...</td>\n",
              "      <td>...</td>\n",
              "      <td>...</td>\n",
              "    </tr>\n",
              "    <tr>\n",
              "      <th>37367</th>\n",
              "      <td>12</td>\n",
              "      <td>31</td>\n",
              "      <td>6</td>\n",
              "      <td>20.0</td>\n",
              "      <td>9</td>\n",
              "      <td>148000</td>\n",
              "      <td>10157000.0</td>\n",
              "    </tr>\n",
              "    <tr>\n",
              "      <th>37368</th>\n",
              "      <td>1</td>\n",
              "      <td>1</td>\n",
              "      <td>2</td>\n",
              "      <td>20.0</td>\n",
              "      <td>9</td>\n",
              "      <td>178000</td>\n",
              "      <td>50929000.0</td>\n",
              "    </tr>\n",
              "    <tr>\n",
              "      <th>37369</th>\n",
              "      <td>1</td>\n",
              "      <td>1</td>\n",
              "      <td>2</td>\n",
              "      <td>20.0</td>\n",
              "      <td>9</td>\n",
              "      <td>168000</td>\n",
              "      <td>104392000.0</td>\n",
              "    </tr>\n",
              "    <tr>\n",
              "      <th>37370</th>\n",
              "      <td>1</td>\n",
              "      <td>1</td>\n",
              "      <td>2</td>\n",
              "      <td>20.0</td>\n",
              "      <td>9</td>\n",
              "      <td>158000</td>\n",
              "      <td>13765000.0</td>\n",
              "    </tr>\n",
              "    <tr>\n",
              "      <th>37371</th>\n",
              "      <td>1</td>\n",
              "      <td>1</td>\n",
              "      <td>2</td>\n",
              "      <td>20.0</td>\n",
              "      <td>9</td>\n",
              "      <td>148000</td>\n",
              "      <td>46608000.0</td>\n",
              "    </tr>\n",
              "  </tbody>\n",
              "</table>\n",
              "<p>37372 rows × 7 columns</p>\n",
              "</div>"
            ],
            "text/plain": [
              "        월   일  요일  노출(분)  상품군    판매단가          취급액\n",
              "0       1   1   6   20.0    6   39900    2099000.0\n",
              "1       1   1   6   20.0    6   39900    4371000.0\n",
              "2       1   1   6   20.0    6   39900    3262000.0\n",
              "3       1   1   6   20.0    6   39900    6955000.0\n",
              "4       1   1   6   20.0    6   39900    6672000.0\n",
              "...    ..  ..  ..    ...  ...     ...          ...\n",
              "37367  12  31   6   20.0    9  148000   10157000.0\n",
              "37368   1   1   2   20.0    9  178000   50929000.0\n",
              "37369   1   1   2   20.0    9  168000  104392000.0\n",
              "37370   1   1   2   20.0    9  158000   13765000.0\n",
              "37371   1   1   2   20.0    9  148000   46608000.0\n",
              "\n",
              "[37372 rows x 7 columns]"
            ]
          },
          "metadata": {
            "tags": []
          }
        },
        {
          "output_type": "stream",
          "text": [
            "<class 'pandas.core.frame.DataFrame'>\n",
            "RangeIndex: 37372 entries, 0 to 37371\n",
            "Data columns (total 7 columns):\n",
            " #   Column  Non-Null Count  Dtype  \n",
            "---  ------  --------------  -----  \n",
            " 0   월       37372 non-null  int64  \n",
            " 1   일       37372 non-null  int64  \n",
            " 2   요일      37372 non-null  int64  \n",
            " 3   노출(분)   37372 non-null  float64\n",
            " 4   상품군     37372 non-null  int64  \n",
            " 5   판매단가    37372 non-null  int64  \n",
            " 6   취급액     37372 non-null  float64\n",
            "dtypes: float64(2), int64(5)\n",
            "memory usage: 2.0 MB\n"
          ],
          "name": "stdout"
        }
      ]
    },
    {
      "cell_type": "code",
      "metadata": {
        "id": "QqP95E4pGfh7",
        "colab_type": "code",
        "colab": {}
      },
      "source": [
        "# 요일 기준 계층적 샘플링\n",
        "sss = StratifiedShuffleSplit(n_splits=1, test_size=0.2, random_state=42)\n",
        "for train_index, test_index in sss.split(df, df['요일']):\n",
        "    train_data = df.loc[train_index]\n",
        "    test_data = df.loc[test_index]"
      ],
      "execution_count": 15,
      "outputs": []
    },
    {
      "cell_type": "code",
      "metadata": {
        "id": "BhB-Bd5QKOX4",
        "colab_type": "code",
        "colab": {}
      },
      "source": [
        "# 독립변수, 종속변수 분리\n",
        "X_train = train_data.iloc[:, :-1]\n",
        "y_train = train_data.iloc[:, -1]\n",
        "X_test = test_data.iloc[:, :-1]\n",
        "y_test = test_data.iloc[:, -1]"
      ],
      "execution_count": 16,
      "outputs": []
    },
    {
      "cell_type": "markdown",
      "metadata": {
        "id": "2qdmZUESoWcO",
        "colab_type": "text"
      },
      "source": [
        "### 데이터셋 구성"
      ]
    },
    {
      "cell_type": "code",
      "metadata": {
        "id": "hJF9WcOgLYAM",
        "colab_type": "code",
        "colab": {}
      },
      "source": [
        "# LGBM 데이터셋 구성\n",
        "ds_train = lgb.Dataset(X_train, label=y_train, categorical_feature=[0, 1, 2, 4, 5], free_raw_data=False)\n",
        "ds_test = lgb.Dataset(X_test, label=y_test, categorical_feature=[0, 1, 2, 4, 5], free_raw_data=False)"
      ],
      "execution_count": 17,
      "outputs": []
    },
    {
      "cell_type": "markdown",
      "metadata": {
        "id": "_9cfGx5Woctg",
        "colab_type": "text"
      },
      "source": [
        "### 파라미터 구성"
      ]
    },
    {
      "cell_type": "markdown",
      "metadata": {
        "id": "mvqX2Ej6bXgd",
        "colab_type": "text"
      },
      "source": [
        "#### 파라미터 조합 1"
      ]
    },
    {
      "cell_type": "code",
      "metadata": {
        "id": "HudOvIGFKj9N",
        "colab_type": "code",
        "colab": {}
      },
      "source": [
        "params = {'learning_rate': 0.01, \n",
        "          'max_depth': 16, \n",
        "          'boosting': 'gbdt', \n",
        "          'objective': 'regression', \n",
        "          'metric': 'mape', \n",
        "          'is_training_metric': True, \n",
        "          'num_leaves': 144, \n",
        "          'feature_fraction': 0.9, \n",
        "          'bagging_fraction': 0.7, \n",
        "          'bagging_freq': 5, \n",
        "          'seed':42,\n",
        "          'cat_smooth':10}"
      ],
      "execution_count": 24,
      "outputs": []
    },
    {
      "cell_type": "code",
      "metadata": {
        "id": "AiniambQTzX3",
        "colab_type": "code",
        "colab": {
          "base_uri": "https://localhost:8080/",
          "height": 248
        },
        "outputId": "7c83a660-7ace-491d-d78e-0845d0039728"
      },
      "source": [
        "model = lgb.train(params=params, \n",
        "                  train_set=ds_train,\n",
        "                  num_boost_round=1000,\n",
        "                  valid_sets=ds_test, \n",
        "                  verbose_eval=100, \n",
        "                  early_stopping_rounds=100)"
      ],
      "execution_count": 25,
      "outputs": [
        {
          "output_type": "stream",
          "text": [
            "Training until validation scores don't improve for 100 rounds.\n",
            "[100]\tvalid_0's mape: 735984\n",
            "[200]\tvalid_0's mape: 536650\n",
            "[300]\tvalid_0's mape: 448079\n",
            "[400]\tvalid_0's mape: 411461\n",
            "[500]\tvalid_0's mape: 394120\n",
            "[600]\tvalid_0's mape: 385213\n",
            "[700]\tvalid_0's mape: 378517\n",
            "[800]\tvalid_0's mape: 374006\n",
            "[900]\tvalid_0's mape: 370966\n",
            "[1000]\tvalid_0's mape: 369282\n",
            "Did not meet early stopping. Best iteration is:\n",
            "[983]\tvalid_0's mape: 369003\n"
          ],
          "name": "stdout"
        }
      ]
    },
    {
      "cell_type": "markdown",
      "metadata": {
        "id": "8QbuA7vebZ-i",
        "colab_type": "text"
      },
      "source": [
        "#### 파라미터 조합 2\n"
      ]
    },
    {
      "cell_type": "code",
      "metadata": {
        "id": "7FnBb8psbbCW",
        "colab_type": "code",
        "colab": {
          "base_uri": "https://localhost:8080/",
          "height": 639
        },
        "outputId": "9f8ea519-f730-43bf-c8af-66750c2bf10d"
      },
      "source": [
        "params = {'learning_rate': 0.001, \n",
        "          'max_depth': 16, \n",
        "          'boosting': 'gbdt', \n",
        "          'objective': 'regression', \n",
        "          'metric': 'mape', \n",
        "          'is_training_metric': True, \n",
        "          'num_leaves': 144, \n",
        "          'feature_fraction': 0.9, \n",
        "          'bagging_fraction': 0.7, \n",
        "          'bagging_freq': 5, \n",
        "          'seed':42,\n",
        "          'cat_smooth':10}\n",
        "\n",
        "model = lgb.train(params=params, \n",
        "                  train_set=ds_train,\n",
        "                  num_boost_round=10000,\n",
        "                  valid_sets=ds_test, \n",
        "                  verbose_eval=100, \n",
        "                  early_stopping_rounds=100)"
      ],
      "execution_count": null,
      "outputs": [
        {
          "output_type": "stream",
          "text": [
            "Training until validation scores don't improve for 100 rounds.\n",
            "[100]\tvalid_0's mape: 1.14809e+06\n",
            "[200]\tvalid_0's mape: 1.08608e+06\n",
            "[300]\tvalid_0's mape: 1.02917e+06\n",
            "[400]\tvalid_0's mape: 977022\n",
            "[500]\tvalid_0's mape: 929348\n",
            "[600]\tvalid_0's mape: 883862\n",
            "[700]\tvalid_0's mape: 843590\n",
            "[800]\tvalid_0's mape: 805447\n",
            "[900]\tvalid_0's mape: 770175\n",
            "[1000]\tvalid_0's mape: 738948\n",
            "[1100]\tvalid_0's mape: 709750\n",
            "[1200]\tvalid_0's mape: 683347\n",
            "[1300]\tvalid_0's mape: 659078\n",
            "[1400]\tvalid_0's mape: 636407\n",
            "[1500]\tvalid_0's mape: 615780\n",
            "[1600]\tvalid_0's mape: 596588\n",
            "[1700]\tvalid_0's mape: 579156\n",
            "[1800]\tvalid_0's mape: 563432\n",
            "[1900]\tvalid_0's mape: 548817\n",
            "[2000]\tvalid_0's mape: 535719\n",
            "[2100]\tvalid_0's mape: 522785\n",
            "[2200]\tvalid_0's mape: 510959\n",
            "[2300]\tvalid_0's mape: 500574\n",
            "[2400]\tvalid_0's mape: 490722\n",
            "[2500]\tvalid_0's mape: 481929\n",
            "[2600]\tvalid_0's mape: 473918\n",
            "[2700]\tvalid_0's mape: 466686\n",
            "[2800]\tvalid_0's mape: 459573\n",
            "[2900]\tvalid_0's mape: 453402\n",
            "[3000]\tvalid_0's mape: 447684\n",
            "[3100]\tvalid_0's mape: 442429\n",
            "[3200]\tvalid_0's mape: 437344\n",
            "[3300]\tvalid_0's mape: 432687\n",
            "[3400]\tvalid_0's mape: 428706\n"
          ],
          "name": "stdout"
        }
      ]
    },
    {
      "cell_type": "markdown",
      "metadata": {
        "id": "ypxlZaZcd0nr",
        "colab_type": "text"
      },
      "source": [
        "#### 파라미터 조합 3"
      ]
    },
    {
      "cell_type": "code",
      "metadata": {
        "id": "ZeDqVODUby9X",
        "colab_type": "code",
        "colab": {
          "base_uri": "https://localhost:8080/",
          "height": 692
        },
        "outputId": "67c0bad0-f07b-418a-8023-dde9d51ed533"
      },
      "source": [
        "params = {'learning_rate': 0.0025, \n",
        "          'max_depth': -1, \n",
        "          'boosting': 'gbdt', \n",
        "          'objective': 'regression', \n",
        "          'metric': 'mape', \n",
        "          'is_training_metric': True, \n",
        "          'num_leaves': 144, \n",
        "          'feature_fraction': 1, \n",
        "          'bagging_fraction': 0.7, \n",
        "          'bagging_freq': 5,\n",
        "          'seed':42,\n",
        "          'cat_smooth':10}\n",
        "\n",
        "model = lgb.train(params=params, \n",
        "                  train_set=ds_train,\n",
        "                  num_boost_round=10000,\n",
        "                  valid_sets=ds_test, \n",
        "                  verbose_eval=100, \n",
        "                  early_stopping_rounds=100)"
      ],
      "execution_count": null,
      "outputs": [
        {
          "output_type": "stream",
          "text": [
            "Training until validation scores don't improve for 100 rounds.\n",
            "[100]\tvalid_0's mape: 1.04654e+06\n",
            "[200]\tvalid_0's mape: 912229\n",
            "[300]\tvalid_0's mape: 804810\n",
            "[400]\tvalid_0's mape: 720138\n",
            "[500]\tvalid_0's mape: 652014\n",
            "[600]\tvalid_0's mape: 596748\n",
            "[700]\tvalid_0's mape: 552645\n",
            "[800]\tvalid_0's mape: 517486\n",
            "[900]\tvalid_0's mape: 489526\n",
            "[1000]\tvalid_0's mape: 467966\n",
            "[1100]\tvalid_0's mape: 451360\n",
            "[1200]\tvalid_0's mape: 437251\n",
            "[1300]\tvalid_0's mape: 426484\n",
            "[1400]\tvalid_0's mape: 417794\n",
            "[1500]\tvalid_0's mape: 411246\n",
            "[1600]\tvalid_0's mape: 404807\n",
            "[1700]\tvalid_0's mape: 400832\n",
            "[1800]\tvalid_0's mape: 398041\n",
            "[1900]\tvalid_0's mape: 394784\n",
            "[2000]\tvalid_0's mape: 392369\n",
            "[2100]\tvalid_0's mape: 389952\n",
            "[2200]\tvalid_0's mape: 387578\n",
            "[2300]\tvalid_0's mape: 385377\n",
            "[2400]\tvalid_0's mape: 384181\n",
            "[2500]\tvalid_0's mape: 383369\n",
            "[2600]\tvalid_0's mape: 382140\n",
            "[2700]\tvalid_0's mape: 380971\n",
            "[2800]\tvalid_0's mape: 379284\n",
            "[2900]\tvalid_0's mape: 378612\n",
            "[3000]\tvalid_0's mape: 377920\n",
            "[3100]\tvalid_0's mape: 377440\n",
            "[3200]\tvalid_0's mape: 376735\n",
            "[3300]\tvalid_0's mape: 376444\n",
            "[3400]\tvalid_0's mape: 375663\n",
            "[3500]\tvalid_0's mape: 375680\n",
            "[3600]\tvalid_0's mape: 375208\n",
            "[3700]\tvalid_0's mape: 374919\n"
          ],
          "name": "stdout"
        }
      ]
    },
    {
      "cell_type": "code",
      "metadata": {
        "id": "K1lGaRISevWM",
        "colab_type": "code",
        "colab": {
          "base_uri": "https://localhost:8080/",
          "height": 310
        },
        "outputId": "070a6f75-3286-4c27-9e3d-da9ce0f50143"
      },
      "source": [
        "lgb.plot_importance(model)"
      ],
      "execution_count": null,
      "outputs": [
        {
          "output_type": "execute_result",
          "data": {
            "text/plain": [
              "<matplotlib.axes._subplots.AxesSubplot at 0x7f7fce216438>"
            ]
          },
          "metadata": {
            "tags": []
          },
          "execution_count": 32
        },
        {
          "output_type": "display_data",
          "data": {
            "image/png": "[encoded data removed]",
            "text/plain": [
              "<Figure size 432x288 with 1 Axes>"
            ]
          },
          "metadata": {
            "tags": [],
            "needs_background": "light"
          }
        }
      ]
    },
    {
      "cell_type": "markdown",
      "metadata": {
        "id": "pWX-9Bg-ng5T",
        "colab_type": "text"
      },
      "source": [
        "## Feature 선택 2\n",
        "- 월\n",
        "- 일\n",
        "- 요일\n",
        "- 방송시간대\n",
        "- 노출(분)\n",
        "- ~~마더코드~~\n",
        "- ~~상품코드~~\n",
        "- 판매단가"
      ]
    },
    {
      "cell_type": "code",
      "metadata": {
        "id": "itAiotXifR-3",
        "colab_type": "code",
        "colab": {
          "base_uri": "https://localhost:8080/",
          "height": 399
        },
        "outputId": "04ae2c51-2e0c-40cd-954a-1dd37a6f094e"
      },
      "source": [
        "# feature 분리 및 추가\n",
        "data['월'] = data['방송일시'].dt.month\n",
        "data['일'] = data['방송일시'].dt.day\n",
        "data['요일'] = data['방송일시'].dt.dayofweek\n",
        "data['방송시간대'] = data['방송일시'].dt.hour\n",
        "day_mapping_dict = {0:'월요일', 1:'화요일', 2:'수요일', 3:'목요일', 4:'금요일', 5:'토요일', 6:'일요일'}\n",
        "data['요일'] = data['요일'].map(day_mapping_dict)\n",
        "data"
      ],
      "execution_count": 8,
      "outputs": [
        {
          "output_type": "execute_result",
          "data": {
            "text/html": [
              "<div>\n",
              "<style scoped>\n",
              "    .dataframe tbody tr th:only-of-type {\n",
              "        vertical-align: middle;\n",
              "    }\n",
              "\n",
              "    .dataframe tbody tr th {\n",
              "        vertical-align: top;\n",
              "    }\n",
              "\n",
              "    .dataframe thead th {\n",
              "        text-align: right;\n",
              "    }\n",
              "</style>\n",
              "<table border=\"1\" class=\"dataframe\">\n",
              "  <thead>\n",
              "    <tr style=\"text-align: right;\">\n",
              "      <th></th>\n",
              "      <th>방송일시</th>\n",
              "      <th>노출(분)</th>\n",
              "      <th>마더코드</th>\n",
              "      <th>상품코드</th>\n",
              "      <th>상품명</th>\n",
              "      <th>상품군</th>\n",
              "      <th>판매단가</th>\n",
              "      <th>취급액</th>\n",
              "      <th>월</th>\n",
              "      <th>일</th>\n",
              "      <th>요일</th>\n",
              "      <th>방송시간대</th>\n",
              "    </tr>\n",
              "  </thead>\n",
              "  <tbody>\n",
              "    <tr>\n",
              "      <th>0</th>\n",
              "      <td>2019-01-01 06:00:00</td>\n",
              "      <td>20.0</td>\n",
              "      <td>100346</td>\n",
              "      <td>201072</td>\n",
              "      <td>테이트 남성 셀린니트3종</td>\n",
              "      <td>의류</td>\n",
              "      <td>39900</td>\n",
              "      <td>2099000.0</td>\n",
              "      <td>1</td>\n",
              "      <td>1</td>\n",
              "      <td>화요일</td>\n",
              "      <td>6</td>\n",
              "    </tr>\n",
              "    <tr>\n",
              "      <th>1</th>\n",
              "      <td>2019-01-01 06:00:00</td>\n",
              "      <td>20.0</td>\n",
              "      <td>100346</td>\n",
              "      <td>201079</td>\n",
              "      <td>테이트 여성 셀린니트3종</td>\n",
              "      <td>의류</td>\n",
              "      <td>39900</td>\n",
              "      <td>4371000.0</td>\n",
              "      <td>1</td>\n",
              "      <td>1</td>\n",
              "      <td>화요일</td>\n",
              "      <td>6</td>\n",
              "    </tr>\n",
              "    <tr>\n",
              "      <th>2</th>\n",
              "      <td>2019-01-01 06:20:00</td>\n",
              "      <td>20.0</td>\n",
              "      <td>100346</td>\n",
              "      <td>201072</td>\n",
              "      <td>테이트 남성 셀린니트3종</td>\n",
              "      <td>의류</td>\n",
              "      <td>39900</td>\n",
              "      <td>3262000.0</td>\n",
              "      <td>1</td>\n",
              "      <td>1</td>\n",
              "      <td>화요일</td>\n",
              "      <td>6</td>\n",
              "    </tr>\n",
              "    <tr>\n",
              "      <th>3</th>\n",
              "      <td>2019-01-01 06:20:00</td>\n",
              "      <td>20.0</td>\n",
              "      <td>100346</td>\n",
              "      <td>201079</td>\n",
              "      <td>테이트 여성 셀린니트3종</td>\n",
              "      <td>의류</td>\n",
              "      <td>39900</td>\n",
              "      <td>6955000.0</td>\n",
              "      <td>1</td>\n",
              "      <td>1</td>\n",
              "      <td>화요일</td>\n",
              "      <td>6</td>\n",
              "    </tr>\n",
              "    <tr>\n",
              "      <th>4</th>\n",
              "      <td>2019-01-01 06:40:00</td>\n",
              "      <td>20.0</td>\n",
              "      <td>100346</td>\n",
              "      <td>201072</td>\n",
              "      <td>테이트 남성 셀린니트3종</td>\n",
              "      <td>의류</td>\n",
              "      <td>39900</td>\n",
              "      <td>6672000.0</td>\n",
              "      <td>1</td>\n",
              "      <td>1</td>\n",
              "      <td>화요일</td>\n",
              "      <td>6</td>\n",
              "    </tr>\n",
              "    <tr>\n",
              "      <th>...</th>\n",
              "      <td>...</td>\n",
              "      <td>...</td>\n",
              "      <td>...</td>\n",
              "      <td>...</td>\n",
              "      <td>...</td>\n",
              "      <td>...</td>\n",
              "      <td>...</td>\n",
              "      <td>...</td>\n",
              "      <td>...</td>\n",
              "      <td>...</td>\n",
              "      <td>...</td>\n",
              "      <td>...</td>\n",
              "    </tr>\n",
              "    <tr>\n",
              "      <th>37367</th>\n",
              "      <td>2019-12-31 23:40:00</td>\n",
              "      <td>20.0</td>\n",
              "      <td>100448</td>\n",
              "      <td>201391</td>\n",
              "      <td>일시불쿠첸압력밥솥 6인용</td>\n",
              "      <td>주방</td>\n",
              "      <td>148000</td>\n",
              "      <td>10157000.0</td>\n",
              "      <td>12</td>\n",
              "      <td>31</td>\n",
              "      <td>화요일</td>\n",
              "      <td>23</td>\n",
              "    </tr>\n",
              "    <tr>\n",
              "      <th>37368</th>\n",
              "      <td>2020-01-01 00:00:00</td>\n",
              "      <td>20.0</td>\n",
              "      <td>100448</td>\n",
              "      <td>201383</td>\n",
              "      <td>무이자쿠첸압력밥솥 10인용</td>\n",
              "      <td>주방</td>\n",
              "      <td>178000</td>\n",
              "      <td>50929000.0</td>\n",
              "      <td>1</td>\n",
              "      <td>1</td>\n",
              "      <td>수요일</td>\n",
              "      <td>0</td>\n",
              "    </tr>\n",
              "    <tr>\n",
              "      <th>37369</th>\n",
              "      <td>2020-01-01 00:00:00</td>\n",
              "      <td>20.0</td>\n",
              "      <td>100448</td>\n",
              "      <td>201390</td>\n",
              "      <td>일시불쿠첸압력밥솥 10인용</td>\n",
              "      <td>주방</td>\n",
              "      <td>168000</td>\n",
              "      <td>104392000.0</td>\n",
              "      <td>1</td>\n",
              "      <td>1</td>\n",
              "      <td>수요일</td>\n",
              "      <td>0</td>\n",
              "    </tr>\n",
              "    <tr>\n",
              "      <th>37370</th>\n",
              "      <td>2020-01-01 00:00:00</td>\n",
              "      <td>20.0</td>\n",
              "      <td>100448</td>\n",
              "      <td>201384</td>\n",
              "      <td>무이자쿠첸압력밥솥 6인용</td>\n",
              "      <td>주방</td>\n",
              "      <td>158000</td>\n",
              "      <td>13765000.0</td>\n",
              "      <td>1</td>\n",
              "      <td>1</td>\n",
              "      <td>수요일</td>\n",
              "      <td>0</td>\n",
              "    </tr>\n",
              "    <tr>\n",
              "      <th>37371</th>\n",
              "      <td>2020-01-01 00:00:00</td>\n",
              "      <td>20.0</td>\n",
              "      <td>100448</td>\n",
              "      <td>201391</td>\n",
              "      <td>일시불쿠첸압력밥솥 6인용</td>\n",
              "      <td>주방</td>\n",
              "      <td>148000</td>\n",
              "      <td>46608000.0</td>\n",
              "      <td>1</td>\n",
              "      <td>1</td>\n",
              "      <td>수요일</td>\n",
              "      <td>0</td>\n",
              "    </tr>\n",
              "  </tbody>\n",
              "</table>\n",
              "<p>37372 rows × 12 columns</p>\n",
              "</div>"
            ],
            "text/plain": [
              "                     방송일시  노출(분)    마더코드    상품코드  ...   월   일   요일  방송시간대\n",
              "0     2019-01-01 06:00:00   20.0  100346  201072  ...   1   1  화요일      6\n",
              "1     2019-01-01 06:00:00   20.0  100346  201079  ...   1   1  화요일      6\n",
              "2     2019-01-01 06:20:00   20.0  100346  201072  ...   1   1  화요일      6\n",
              "3     2019-01-01 06:20:00   20.0  100346  201079  ...   1   1  화요일      6\n",
              "4     2019-01-01 06:40:00   20.0  100346  201072  ...   1   1  화요일      6\n",
              "...                   ...    ...     ...     ...  ...  ..  ..  ...    ...\n",
              "37367 2019-12-31 23:40:00   20.0  100448  201391  ...  12  31  화요일     23\n",
              "37368 2020-01-01 00:00:00   20.0  100448  201383  ...   1   1  수요일      0\n",
              "37369 2020-01-01 00:00:00   20.0  100448  201390  ...   1   1  수요일      0\n",
              "37370 2020-01-01 00:00:00   20.0  100448  201384  ...   1   1  수요일      0\n",
              "37371 2020-01-01 00:00:00   20.0  100448  201391  ...   1   1  수요일      0\n",
              "\n",
              "[37372 rows x 12 columns]"
            ]
          },
          "metadata": {
            "tags": []
          },
          "execution_count": 8
        }
      ]
    },
    {
      "cell_type": "code",
      "metadata": {
        "id": "UCt6iN76nlIQ",
        "colab_type": "code",
        "colab": {
          "base_uri": "https://localhost:8080/",
          "height": 666
        },
        "outputId": "549f5bf7-673a-4a3f-bea2-630bf1413e63"
      },
      "source": [
        "# 범주형 변수 인코딩\n",
        "df = data[['월', '일', '요일', '방송시간대', '노출(분)', '상품군', '판매단가', '취급액']]\n",
        "dtypes = df.dtypes\n",
        "\n",
        "encoders = {}\n",
        "for column in df.columns:\n",
        "    if str(dtypes[column]) == 'object':\n",
        "        encoder = LabelEncoder()\n",
        "        encoder.fit(df[column])\n",
        "        encoders[column] = encoder\n",
        "        \n",
        "for column in encoders.keys():\n",
        "    encoder = encoders[column]\n",
        "    df[column] = encoder.transform(df[column])\n",
        "\n",
        "display(df)\n",
        "df.info() "
      ],
      "execution_count": 9,
      "outputs": [
        {
          "output_type": "display_data",
          "data": {
            "text/html": [
              "<div>\n",
              "<style scoped>\n",
              "    .dataframe tbody tr th:only-of-type {\n",
              "        vertical-align: middle;\n",
              "    }\n",
              "\n",
              "    .dataframe tbody tr th {\n",
              "        vertical-align: top;\n",
              "    }\n",
              "\n",
              "    .dataframe thead th {\n",
              "        text-align: right;\n",
              "    }\n",
              "</style>\n",
              "<table border=\"1\" class=\"dataframe\">\n",
              "  <thead>\n",
              "    <tr style=\"text-align: right;\">\n",
              "      <th></th>\n",
              "      <th>월</th>\n",
              "      <th>일</th>\n",
              "      <th>요일</th>\n",
              "      <th>방송시간대</th>\n",
              "      <th>노출(분)</th>\n",
              "      <th>상품군</th>\n",
              "      <th>판매단가</th>\n",
              "      <th>취급액</th>\n",
              "    </tr>\n",
              "  </thead>\n",
              "  <tbody>\n",
              "    <tr>\n",
              "      <th>0</th>\n",
              "      <td>1</td>\n",
              "      <td>1</td>\n",
              "      <td>6</td>\n",
              "      <td>6</td>\n",
              "      <td>20.0</td>\n",
              "      <td>6</td>\n",
              "      <td>39900</td>\n",
              "      <td>2099000.0</td>\n",
              "    </tr>\n",
              "    <tr>\n",
              "      <th>1</th>\n",
              "      <td>1</td>\n",
              "      <td>1</td>\n",
              "      <td>6</td>\n",
              "      <td>6</td>\n",
              "      <td>20.0</td>\n",
              "      <td>6</td>\n",
              "      <td>39900</td>\n",
              "      <td>4371000.0</td>\n",
              "    </tr>\n",
              "    <tr>\n",
              "      <th>2</th>\n",
              "      <td>1</td>\n",
              "      <td>1</td>\n",
              "      <td>6</td>\n",
              "      <td>6</td>\n",
              "      <td>20.0</td>\n",
              "      <td>6</td>\n",
              "      <td>39900</td>\n",
              "      <td>3262000.0</td>\n",
              "    </tr>\n",
              "    <tr>\n",
              "      <th>3</th>\n",
              "      <td>1</td>\n",
              "      <td>1</td>\n",
              "      <td>6</td>\n",
              "      <td>6</td>\n",
              "      <td>20.0</td>\n",
              "      <td>6</td>\n",
              "      <td>39900</td>\n",
              "      <td>6955000.0</td>\n",
              "    </tr>\n",
              "    <tr>\n",
              "      <th>4</th>\n",
              "      <td>1</td>\n",
              "      <td>1</td>\n",
              "      <td>6</td>\n",
              "      <td>6</td>\n",
              "      <td>20.0</td>\n",
              "      <td>6</td>\n",
              "      <td>39900</td>\n",
              "      <td>6672000.0</td>\n",
              "    </tr>\n",
              "    <tr>\n",
              "      <th>...</th>\n",
              "      <td>...</td>\n",
              "      <td>...</td>\n",
              "      <td>...</td>\n",
              "      <td>...</td>\n",
              "      <td>...</td>\n",
              "      <td>...</td>\n",
              "      <td>...</td>\n",
              "      <td>...</td>\n",
              "    </tr>\n",
              "    <tr>\n",
              "      <th>37367</th>\n",
              "      <td>12</td>\n",
              "      <td>31</td>\n",
              "      <td>6</td>\n",
              "      <td>23</td>\n",
              "      <td>20.0</td>\n",
              "      <td>9</td>\n",
              "      <td>148000</td>\n",
              "      <td>10157000.0</td>\n",
              "    </tr>\n",
              "    <tr>\n",
              "      <th>37368</th>\n",
              "      <td>1</td>\n",
              "      <td>1</td>\n",
              "      <td>2</td>\n",
              "      <td>0</td>\n",
              "      <td>20.0</td>\n",
              "      <td>9</td>\n",
              "      <td>178000</td>\n",
              "      <td>50929000.0</td>\n",
              "    </tr>\n",
              "    <tr>\n",
              "      <th>37369</th>\n",
              "      <td>1</td>\n",
              "      <td>1</td>\n",
              "      <td>2</td>\n",
              "      <td>0</td>\n",
              "      <td>20.0</td>\n",
              "      <td>9</td>\n",
              "      <td>168000</td>\n",
              "      <td>104392000.0</td>\n",
              "    </tr>\n",
              "    <tr>\n",
              "      <th>37370</th>\n",
              "      <td>1</td>\n",
              "      <td>1</td>\n",
              "      <td>2</td>\n",
              "      <td>0</td>\n",
              "      <td>20.0</td>\n",
              "      <td>9</td>\n",
              "      <td>158000</td>\n",
              "      <td>13765000.0</td>\n",
              "    </tr>\n",
              "    <tr>\n",
              "      <th>37371</th>\n",
              "      <td>1</td>\n",
              "      <td>1</td>\n",
              "      <td>2</td>\n",
              "      <td>0</td>\n",
              "      <td>20.0</td>\n",
              "      <td>9</td>\n",
              "      <td>148000</td>\n",
              "      <td>46608000.0</td>\n",
              "    </tr>\n",
              "  </tbody>\n",
              "</table>\n",
              "<p>37372 rows × 8 columns</p>\n",
              "</div>"
            ],
            "text/plain": [
              "        월   일  요일  방송시간대  노출(분)  상품군    판매단가          취급액\n",
              "0       1   1   6      6   20.0    6   39900    2099000.0\n",
              "1       1   1   6      6   20.0    6   39900    4371000.0\n",
              "2       1   1   6      6   20.0    6   39900    3262000.0\n",
              "3       1   1   6      6   20.0    6   39900    6955000.0\n",
              "4       1   1   6      6   20.0    6   39900    6672000.0\n",
              "...    ..  ..  ..    ...    ...  ...     ...          ...\n",
              "37367  12  31   6     23   20.0    9  148000   10157000.0\n",
              "37368   1   1   2      0   20.0    9  178000   50929000.0\n",
              "37369   1   1   2      0   20.0    9  168000  104392000.0\n",
              "37370   1   1   2      0   20.0    9  158000   13765000.0\n",
              "37371   1   1   2      0   20.0    9  148000   46608000.0\n",
              "\n",
              "[37372 rows x 8 columns]"
            ]
          },
          "metadata": {
            "tags": []
          }
        },
        {
          "output_type": "stream",
          "text": [
            "<class 'pandas.core.frame.DataFrame'>\n",
            "RangeIndex: 37372 entries, 0 to 37371\n",
            "Data columns (total 8 columns):\n",
            " #   Column  Non-Null Count  Dtype  \n",
            "---  ------  --------------  -----  \n",
            " 0   월       37372 non-null  int64  \n",
            " 1   일       37372 non-null  int64  \n",
            " 2   요일      37372 non-null  int64  \n",
            " 3   방송시간대   37372 non-null  int64  \n",
            " 4   노출(분)   37372 non-null  float64\n",
            " 5   상품군     37372 non-null  int64  \n",
            " 6   판매단가    37372 non-null  int64  \n",
            " 7   취급액     37372 non-null  float64\n",
            "dtypes: float64(2), int64(6)\n",
            "memory usage: 2.3 MB\n"
          ],
          "name": "stdout"
        }
      ]
    },
    {
      "cell_type": "code",
      "metadata": {
        "id": "mq27tkpOnv19",
        "colab_type": "code",
        "colab": {}
      },
      "source": [
        "# 요일 기준 계층적 샘플링\n",
        "sss = StratifiedShuffleSplit(n_splits=1, test_size=0.2, random_state=42)\n",
        "for train_index, test_index in sss.split(df, df['요일']):\n",
        "    train_data = df.loc[train_index]\n",
        "    test_data = df.loc[test_index]"
      ],
      "execution_count": 10,
      "outputs": []
    },
    {
      "cell_type": "markdown",
      "metadata": {
        "id": "qVd1FvGspNR1",
        "colab_type": "text"
      },
      "source": [
        "### 데이터셋 구성"
      ]
    },
    {
      "cell_type": "code",
      "metadata": {
        "id": "dc-PeWA4n0Cc",
        "colab_type": "code",
        "colab": {}
      },
      "source": [
        "# 독립, 종속 분리\n",
        "X_train = train_data.iloc[:, :-1]\n",
        "y_train = train_data.iloc[:, -1]\n",
        "X_test = test_data.iloc[:, :-1]\n",
        "y_test = test_data.iloc[:, -1]"
      ],
      "execution_count": 11,
      "outputs": []
    },
    {
      "cell_type": "code",
      "metadata": {
        "id": "Lf7ufWlmofks",
        "colab_type": "code",
        "colab": {}
      },
      "source": [
        "# LGBM 데이터셋 구성\n",
        "ds_train = lgb.Dataset(X_train, label=y_train, categorical_feature=[0, 1, 2, 4, 5], free_raw_data=False)\n",
        "ds_test = lgb.Dataset(X_test, label=y_test, categorical_feature=[0, 1, 2, 4, 5], free_raw_data=False)"
      ],
      "execution_count": 12,
      "outputs": []
    },
    {
      "cell_type": "markdown",
      "metadata": {
        "id": "T7ONd0GApMBF",
        "colab_type": "text"
      },
      "source": [
        "### 파라미터 구성"
      ]
    },
    {
      "cell_type": "markdown",
      "metadata": {
        "id": "CvBg2LbJn_31",
        "colab_type": "text"
      },
      "source": [
        "#### 파라미터 조합 1"
      ]
    },
    {
      "cell_type": "code",
      "metadata": {
        "id": "C5QWw12rn_t5",
        "colab_type": "code",
        "colab": {
          "base_uri": "https://localhost:8080/",
          "height": 1000
        },
        "outputId": "6b54ffdc-7c2c-4021-f344-d061b6b89bd7"
      },
      "source": [
        "params = {'learning_rate': 0.001, \n",
        "          'max_depth': 16, \n",
        "          'boosting': 'gbdt', \n",
        "          'objective': 'regression', \n",
        "          'metric': 'mape', \n",
        "          'is_training_metric': True, \n",
        "          'num_leaves': 144, \n",
        "          'feature_fraction': 1, \n",
        "          'bagging_fraction': 0.7, \n",
        "          'bagging_freq': 5, \n",
        "          'seed':42,\n",
        "          'cat_smooth':5}\n",
        "\n",
        "model = lgb.train(params=params, \n",
        "                  train_set=ds_train,\n",
        "                  num_boost_round=10000,\n",
        "                  valid_sets=ds_test, \n",
        "                  verbose_eval=100, \n",
        "                  early_stopping_rounds=100)"
      ],
      "execution_count": 13,
      "outputs": [
        {
          "output_type": "stream",
          "text": [
            "Training until validation scores don't improve for 100 rounds.\n",
            "[100]\tvalid_0's mape: 1.14635e+06\n",
            "[200]\tvalid_0's mape: 1.08225e+06\n",
            "[300]\tvalid_0's mape: 1.02436e+06\n",
            "[400]\tvalid_0's mape: 971359\n",
            "[500]\tvalid_0's mape: 923080\n",
            "[600]\tvalid_0's mape: 878729\n",
            "[700]\tvalid_0's mape: 839011\n",
            "[800]\tvalid_0's mape: 802153\n",
            "[900]\tvalid_0's mape: 769309\n",
            "[1000]\tvalid_0's mape: 739522\n",
            "[1100]\tvalid_0's mape: 713215\n",
            "[1200]\tvalid_0's mape: 689195\n",
            "[1300]\tvalid_0's mape: 667177\n",
            "[1400]\tvalid_0's mape: 647048\n",
            "[1500]\tvalid_0's mape: 628597\n",
            "[1600]\tvalid_0's mape: 612466\n",
            "[1700]\tvalid_0's mape: 598209\n",
            "[1800]\tvalid_0's mape: 584561\n",
            "[1900]\tvalid_0's mape: 572297\n",
            "[2000]\tvalid_0's mape: 561172\n",
            "[2100]\tvalid_0's mape: 550850\n",
            "[2200]\tvalid_0's mape: 540857\n",
            "[2300]\tvalid_0's mape: 532230\n",
            "[2400]\tvalid_0's mape: 524916\n",
            "[2500]\tvalid_0's mape: 517707\n",
            "[2600]\tvalid_0's mape: 511043\n",
            "[2700]\tvalid_0's mape: 504829\n",
            "[2800]\tvalid_0's mape: 499265\n",
            "[2900]\tvalid_0's mape: 494185\n",
            "[3000]\tvalid_0's mape: 489466\n",
            "[3100]\tvalid_0's mape: 484837\n",
            "[3200]\tvalid_0's mape: 480504\n",
            "[3300]\tvalid_0's mape: 476434\n",
            "[3400]\tvalid_0's mape: 473231\n",
            "[3500]\tvalid_0's mape: 470150\n",
            "[3600]\tvalid_0's mape: 466596\n",
            "[3700]\tvalid_0's mape: 463647\n",
            "[3800]\tvalid_0's mape: 460830\n",
            "[3900]\tvalid_0's mape: 458202\n",
            "[4000]\tvalid_0's mape: 455746\n",
            "[4100]\tvalid_0's mape: 453482\n",
            "[4200]\tvalid_0's mape: 451596\n",
            "[4300]\tvalid_0's mape: 449280\n",
            "[4400]\tvalid_0's mape: 447606\n",
            "[4500]\tvalid_0's mape: 445561\n",
            "[4600]\tvalid_0's mape: 443802\n",
            "[4700]\tvalid_0's mape: 442223\n",
            "[4800]\tvalid_0's mape: 440445\n",
            "[4900]\tvalid_0's mape: 439037\n",
            "[5000]\tvalid_0's mape: 437710\n",
            "[5100]\tvalid_0's mape: 436473\n",
            "[5200]\tvalid_0's mape: 434933\n",
            "[5300]\tvalid_0's mape: 433919\n",
            "[5400]\tvalid_0's mape: 432526\n",
            "[5500]\tvalid_0's mape: 431344\n",
            "[5600]\tvalid_0's mape: 429982\n",
            "[5700]\tvalid_0's mape: 428584\n",
            "[5800]\tvalid_0's mape: 427396\n",
            "[5900]\tvalid_0's mape: 426137\n",
            "[6000]\tvalid_0's mape: 424833\n",
            "[6100]\tvalid_0's mape: 423700\n",
            "[6200]\tvalid_0's mape: 423049\n",
            "[6300]\tvalid_0's mape: 421861\n",
            "[6400]\tvalid_0's mape: 420920\n",
            "[6500]\tvalid_0's mape: 419845\n",
            "[6600]\tvalid_0's mape: 418968\n",
            "[6700]\tvalid_0's mape: 417955\n",
            "[6800]\tvalid_0's mape: 417220\n",
            "[6900]\tvalid_0's mape: 416470\n",
            "[7000]\tvalid_0's mape: 416089\n",
            "[7100]\tvalid_0's mape: 415169\n",
            "[7200]\tvalid_0's mape: 414306\n",
            "[7300]\tvalid_0's mape: 413382\n",
            "[7400]\tvalid_0's mape: 412753\n",
            "[7500]\tvalid_0's mape: 412351\n",
            "[7600]\tvalid_0's mape: 411224\n",
            "[7700]\tvalid_0's mape: 410286\n",
            "[7800]\tvalid_0's mape: 409163\n",
            "[7900]\tvalid_0's mape: 408474\n",
            "[8000]\tvalid_0's mape: 407701\n",
            "[8100]\tvalid_0's mape: 406984\n",
            "[8200]\tvalid_0's mape: 406080\n",
            "[8300]\tvalid_0's mape: 405302\n",
            "[8400]\tvalid_0's mape: 404757\n",
            "[8500]\tvalid_0's mape: 403758\n",
            "[8600]\tvalid_0's mape: 403272\n",
            "[8700]\tvalid_0's mape: 402367\n",
            "[8800]\tvalid_0's mape: 401815\n",
            "[8900]\tvalid_0's mape: 401297\n",
            "[9000]\tvalid_0's mape: 400648\n",
            "[9100]\tvalid_0's mape: 400088\n",
            "[9200]\tvalid_0's mape: 399421\n",
            "[9300]\tvalid_0's mape: 398738\n",
            "[9400]\tvalid_0's mape: 398195\n",
            "[9500]\tvalid_0's mape: 397982\n",
            "[9600]\tvalid_0's mape: 397278\n",
            "[9700]\tvalid_0's mape: 396632\n",
            "[9800]\tvalid_0's mape: 396037\n",
            "[9900]\tvalid_0's mape: 395750\n",
            "[10000]\tvalid_0's mape: 395317\n",
            "Did not meet early stopping. Best iteration is:\n",
            "[9995]\tvalid_0's mape: 395272\n"
          ],
          "name": "stdout"
        }
      ]
    },
    {
      "cell_type": "code",
      "metadata": {
        "id": "kIiBypMxn5Sk",
        "colab_type": "code",
        "colab": {
          "base_uri": "https://localhost:8080/",
          "height": 310
        },
        "outputId": "d7de70f1-4561-475c-c911-95f4347e6bb1"
      },
      "source": [
        "lgb.plot_importance(model)"
      ],
      "execution_count": 14,
      "outputs": [
        {
          "output_type": "execute_result",
          "data": {
            "text/plain": [
              "<matplotlib.axes._subplots.AxesSubplot at 0x7f647d4d5eb8>"
            ]
          },
          "metadata": {
            "tags": []
          },
          "execution_count": 14
        },
        {
          "output_type": "display_data",
          "data": {
            "image/png": "[encoded data removed]",
            "text/plain": [
              "<Figure size 432x288 with 1 Axes>"
            ]
          },
          "metadata": {
            "tags": [],
            "needs_background": "light"
          }
        }
      ]
    },
    {
      "cell_type": "markdown",
      "metadata": {
        "id": "DqU0RiPWpTaL",
        "colab_type": "text"
      },
      "source": [
        "#### 파라미터 조합 2"
      ]
    },
    {
      "cell_type": "code",
      "metadata": {
        "id": "u7Xxzt__pF5m",
        "colab_type": "code",
        "colab": {
          "base_uri": "https://localhost:8080/",
          "height": 1000
        },
        "outputId": "d8e21d02-af4f-4ce0-ff2e-f3966ba2a434"
      },
      "source": [
        "params = {'learning_rate': 0.001, \n",
        "          'max_depth': -1, \n",
        "          'boosting': 'gbdt', \n",
        "          'objective': 'regression', \n",
        "          'metric': 'mape', \n",
        "          'is_training_metric': True, \n",
        "          'num_leaves': 144, \n",
        "          'feature_fraction': 0.9, \n",
        "          'bagging_fraction': 0.7, \n",
        "          'bagging_freq': 5, \n",
        "          'seed':42,\n",
        "          'cat_smooth':5}\n",
        "\n",
        "model = lgb.train(params=params, b\n",
        "                  train_set=ds_train,\n",
        "                  num_boost_round=100000,\n",
        "                  valid_sets=ds_test, \n",
        "                  verbose_eval=100, \n",
        "                  early_stopping_rounds=100)"
      ],
      "execution_count": 15,
      "outputs": [
        {
          "output_type": "stream",
          "text": [
            "Training until validation scores don't improve for 100 rounds.\n",
            "[100]\tvalid_0's mape: 1.1485e+06\n",
            "[200]\tvalid_0's mape: 1.08583e+06\n",
            "[300]\tvalid_0's mape: 1.03027e+06\n",
            "[400]\tvalid_0's mape: 979770\n",
            "[500]\tvalid_0's mape: 933095\n",
            "[600]\tvalid_0's mape: 889736\n",
            "[700]\tvalid_0's mape: 850615\n",
            "[800]\tvalid_0's mape: 814276\n",
            "[900]\tvalid_0's mape: 781301\n",
            "[1000]\tvalid_0's mape: 752252\n",
            "[1100]\tvalid_0's mape: 725795\n",
            "[1200]\tvalid_0's mape: 700992\n",
            "[1300]\tvalid_0's mape: 678620\n",
            "[1400]\tvalid_0's mape: 658359\n",
            "[1500]\tvalid_0's mape: 639562\n",
            "[1600]\tvalid_0's mape: 622656\n",
            "[1700]\tvalid_0's mape: 607753\n",
            "[1800]\tvalid_0's mape: 593657\n",
            "[1900]\tvalid_0's mape: 580434\n",
            "[2000]\tvalid_0's mape: 568928\n",
            "[2100]\tvalid_0's mape: 557579\n",
            "[2200]\tvalid_0's mape: 547466\n",
            "[2300]\tvalid_0's mape: 538690\n",
            "[2400]\tvalid_0's mape: 530626\n",
            "[2500]\tvalid_0's mape: 523015\n",
            "[2600]\tvalid_0's mape: 516107\n",
            "[2700]\tvalid_0's mape: 509769\n",
            "[2800]\tvalid_0's mape: 503702\n",
            "[2900]\tvalid_0's mape: 498399\n",
            "[3000]\tvalid_0's mape: 493217\n",
            "[3100]\tvalid_0's mape: 489113\n",
            "[3200]\tvalid_0's mape: 484545\n",
            "[3300]\tvalid_0's mape: 479986\n",
            "[3400]\tvalid_0's mape: 476222\n",
            "[3500]\tvalid_0's mape: 472998\n",
            "[3600]\tvalid_0's mape: 469461\n",
            "[3700]\tvalid_0's mape: 466535\n",
            "[3800]\tvalid_0's mape: 463490\n",
            "[3900]\tvalid_0's mape: 460467\n",
            "[4000]\tvalid_0's mape: 457817\n",
            "[4100]\tvalid_0's mape: 455242\n",
            "[4200]\tvalid_0's mape: 452709\n",
            "[4300]\tvalid_0's mape: 450345\n",
            "[4400]\tvalid_0's mape: 448318\n",
            "[4500]\tvalid_0's mape: 446063\n",
            "[4600]\tvalid_0's mape: 444259\n",
            "[4700]\tvalid_0's mape: 442342\n",
            "[4800]\tvalid_0's mape: 440413\n",
            "[4900]\tvalid_0's mape: 438970\n",
            "[5000]\tvalid_0's mape: 437182\n",
            "[5100]\tvalid_0's mape: 435515\n",
            "[5200]\tvalid_0's mape: 434065\n",
            "[5300]\tvalid_0's mape: 432838\n",
            "[5400]\tvalid_0's mape: 431138\n",
            "[5500]\tvalid_0's mape: 429720\n",
            "[5600]\tvalid_0's mape: 428394\n",
            "[5700]\tvalid_0's mape: 427152\n",
            "[5800]\tvalid_0's mape: 425812\n",
            "[5900]\tvalid_0's mape: 424417\n",
            "[6000]\tvalid_0's mape: 423041\n",
            "[6100]\tvalid_0's mape: 421919\n",
            "[6200]\tvalid_0's mape: 421153\n",
            "[6300]\tvalid_0's mape: 420034\n",
            "[6400]\tvalid_0's mape: 419001\n",
            "[6500]\tvalid_0's mape: 417969\n",
            "[6600]\tvalid_0's mape: 417024\n",
            "[6700]\tvalid_0's mape: 415962\n",
            "[6800]\tvalid_0's mape: 415041\n",
            "[6900]\tvalid_0's mape: 414219\n",
            "[7000]\tvalid_0's mape: 413646\n",
            "[7100]\tvalid_0's mape: 412716\n",
            "[7200]\tvalid_0's mape: 411781\n",
            "[7300]\tvalid_0's mape: 410878\n",
            "[7400]\tvalid_0's mape: 409968\n",
            "[7500]\tvalid_0's mape: 409246\n",
            "[7600]\tvalid_0's mape: 408075\n",
            "[7700]\tvalid_0's mape: 407338\n",
            "[7800]\tvalid_0's mape: 406593\n",
            "[7900]\tvalid_0's mape: 405777\n",
            "[8000]\tvalid_0's mape: 405193\n",
            "[8100]\tvalid_0's mape: 404339\n",
            "[8200]\tvalid_0's mape: 403728\n",
            "[8300]\tvalid_0's mape: 403120\n",
            "[8400]\tvalid_0's mape: 402512\n",
            "[8500]\tvalid_0's mape: 401621\n",
            "[8600]\tvalid_0's mape: 401228\n",
            "[8700]\tvalid_0's mape: 400306\n",
            "[8800]\tvalid_0's mape: 399909\n",
            "[8900]\tvalid_0's mape: 399454\n",
            "[9000]\tvalid_0's mape: 398793\n",
            "[9100]\tvalid_0's mape: 398421\n",
            "[9200]\tvalid_0's mape: 397824\n",
            "[9300]\tvalid_0's mape: 397239\n",
            "[9400]\tvalid_0's mape: 396574\n",
            "[9500]\tvalid_0's mape: 396221\n",
            "[9600]\tvalid_0's mape: 395577\n",
            "[9700]\tvalid_0's mape: 395008\n",
            "[9800]\tvalid_0's mape: 394419\n",
            "[9900]\tvalid_0's mape: 393964\n",
            "[10000]\tvalid_0's mape: 393346\n",
            "[10100]\tvalid_0's mape: 393121\n",
            "[10200]\tvalid_0's mape: 392321\n",
            "[10300]\tvalid_0's mape: 391807\n",
            "[10400]\tvalid_0's mape: 391556\n",
            "[10500]\tvalid_0's mape: 391180\n",
            "[10600]\tvalid_0's mape: 390671\n",
            "[10700]\tvalid_0's mape: 390088\n",
            "[10800]\tvalid_0's mape: 389679\n",
            "[10900]\tvalid_0's mape: 389435\n",
            "[11000]\tvalid_0's mape: 388998\n",
            "[11100]\tvalid_0's mape: 388590\n",
            "[11200]\tvalid_0's mape: 388173\n",
            "[11300]\tvalid_0's mape: 387847\n",
            "[11400]\tvalid_0's mape: 387418\n",
            "[11500]\tvalid_0's mape: 387036\n",
            "[11600]\tvalid_0's mape: 386545\n",
            "[11700]\tvalid_0's mape: 386186\n",
            "[11800]\tvalid_0's mape: 385706\n",
            "[11900]\tvalid_0's mape: 385562\n",
            "[12000]\tvalid_0's mape: 385302\n",
            "[12100]\tvalid_0's mape: 384987\n",
            "[12200]\tvalid_0's mape: 384626\n",
            "[12300]\tvalid_0's mape: 384358\n",
            "[12400]\tvalid_0's mape: 384046\n",
            "[12500]\tvalid_0's mape: 383590\n",
            "[12600]\tvalid_0's mape: 383270\n",
            "[12700]\tvalid_0's mape: 382866\n",
            "[12800]\tvalid_0's mape: 382677\n",
            "[12900]\tvalid_0's mape: 382445\n",
            "[13000]\tvalid_0's mape: 382171\n",
            "[13100]\tvalid_0's mape: 381820\n",
            "[13200]\tvalid_0's mape: 381288\n",
            "[13300]\tvalid_0's mape: 380823\n",
            "[13400]\tvalid_0's mape: 380543\n",
            "[13500]\tvalid_0's mape: 380466\n",
            "[13600]\tvalid_0's mape: 380136\n",
            "[13700]\tvalid_0's mape: 379905\n",
            "[13800]\tvalid_0's mape: 379759\n",
            "[13900]\tvalid_0's mape: 379348\n",
            "[14000]\tvalid_0's mape: 379096\n",
            "[14100]\tvalid_0's mape: 378984\n",
            "[14200]\tvalid_0's mape: 378775\n",
            "[14300]\tvalid_0's mape: 378327\n",
            "[14400]\tvalid_0's mape: 378025\n",
            "[14500]\tvalid_0's mape: 377937\n",
            "[14600]\tvalid_0's mape: 377767\n",
            "[14700]\tvalid_0's mape: 377417\n",
            "[14800]\tvalid_0's mape: 376995\n",
            "[14900]\tvalid_0's mape: 376966\n",
            "Early stopping, best iteration is:\n",
            "[14850]\tvalid_0's mape: 376904\n"
          ],
          "name": "stdout"
        }
      ]
    },
    {
      "cell_type": "code",
      "metadata": {
        "id": "C4yzdnrAOJd3",
        "colab_type": "code",
        "colab": {
          "base_uri": "https://localhost:8080/",
          "height": 76
        },
        "outputId": "690fd79c-38ea-4dc8-fd90-501adc6d2e86"
      },
      "source": [
        "lgb.plot_tree(model)"
      ],
      "execution_count": 16,
      "outputs": [
        {
          "output_type": "execute_result",
          "data": {
            "text/plain": [
              "<matplotlib.axes._subplots.AxesSubplot at 0x7f647cf02978>"
            ]
          },
          "metadata": {
            "tags": []
          },
          "execution_count": 16
        },
        {
          "output_type": "display_data",
          "data": {
            "image/png": "[encoded data removed]",
            "text/plain": [
              "<Figure size 432x288 with 1 Axes>"
            ]
          },
          "metadata": {
            "tags": [],
            "needs_background": "light"
          }
        }
      ]
    },
    {
      "cell_type": "markdown",
      "metadata": {
        "id": "gcVnGWXfQCQb",
        "colab_type": "text"
      },
      "source": [
        "#### 파라미터 조합 3"
      ]
    },
    {
      "cell_type": "code",
      "metadata": {
        "id": "thogOkecpXB-",
        "colab_type": "code",
        "colab": {
          "base_uri": "https://localhost:8080/",
          "height": 444
        },
        "outputId": "6a9397d5-fd8e-421f-aafc-b58713265ba2"
      },
      "source": [
        "params = {'learning_rate': 0.025, \n",
        "          'max_depth': -1, \n",
        "          'boosting': 'gbdt', \n",
        "          'objective': 'regression', \n",
        "          'metric': 'mape', \n",
        "          'is_training_metric': True, \n",
        "          'feature_fraction': 1, \n",
        "          'bagging_fraction': 0.7, \n",
        "          'bagging_freq': 5, \n",
        "          'seed':42,\n",
        "          'cat_smooth':15}\n",
        "\n",
        "model = lgb.train(params=params, \n",
        "                  train_set=ds_train,\n",
        "                  num_boost_round=10000,\n",
        "                  valid_sets=ds_test, \n",
        "                  verbose_eval=100, \n",
        "                  early_stopping_rounds=100)"
      ],
      "execution_count": 18,
      "outputs": [
        {
          "output_type": "stream",
          "text": [
            "Training until validation scores don't improve for 100 rounds.\n",
            "[100]\tvalid_0's mape: 612788\n",
            "[200]\tvalid_0's mape: 525502\n",
            "[300]\tvalid_0's mape: 484447\n",
            "[400]\tvalid_0's mape: 471368\n",
            "[500]\tvalid_0's mape: 458734\n",
            "[600]\tvalid_0's mape: 451993\n",
            "[700]\tvalid_0's mape: 443083\n",
            "[800]\tvalid_0's mape: 435214\n",
            "[900]\tvalid_0's mape: 431519\n",
            "[1000]\tvalid_0's mape: 425396\n",
            "[1100]\tvalid_0's mape: 421251\n",
            "[1200]\tvalid_0's mape: 416738\n",
            "[1300]\tvalid_0's mape: 412844\n",
            "[1400]\tvalid_0's mape: 407695\n",
            "[1500]\tvalid_0's mape: 404023\n",
            "[1600]\tvalid_0's mape: 400289\n",
            "[1700]\tvalid_0's mape: 396709\n",
            "[1800]\tvalid_0's mape: 394914\n",
            "[1900]\tvalid_0's mape: 391974\n",
            "[2000]\tvalid_0's mape: 391648\n",
            "[2100]\tvalid_0's mape: 391850\n",
            "Early stopping, best iteration is:\n",
            "[2040]\tvalid_0's mape: 390515\n"
          ],
          "name": "stdout"
        }
      ]
    },
    {
      "cell_type": "code",
      "metadata": {
        "id": "wNqPw-23QGMd",
        "colab_type": "code",
        "colab": {
          "base_uri": "https://localhost:8080/",
          "height": 310
        },
        "outputId": "31f07035-6d1d-4b16-d2b5-6b620eb5e76b"
      },
      "source": [
        "lgb.plot_importance(model)"
      ],
      "execution_count": 19,
      "outputs": [
        {
          "output_type": "execute_result",
          "data": {
            "text/plain": [
              "<matplotlib.axes._subplots.AxesSubplot at 0x7f647ce85518>"
            ]
          },
          "metadata": {
            "tags": []
          },
          "execution_count": 19
        },
        {
          "output_type": "display_data",
          "data": {
            "image/png": "[encoded data removed]",
            "text/plain": [
              "<Figure size 432x288 with 1 Axes>"
            ]
          },
          "metadata": {
            "tags": [],
            "needs_background": "light"
          }
        }
      ]
    },
    {
      "cell_type": "markdown",
      "metadata": {
        "id": "XoTZmTsQRVFo",
        "colab_type": "text"
      },
      "source": [
        "## Feature 선택 3\n",
        "- 월\n",
        "- 일\n",
        "- 요일\n",
        "- 방송시간대\n",
        "- 노출(분)\n",
        "- 마더코드\n",
        "- ~~상품코드~~\n",
        "- 판매단가"
      ]
    },
    {
      "cell_type": "code",
      "metadata": {
        "id": "4ckazvMFRb9Y",
        "colab_type": "code",
        "colab": {
          "base_uri": "https://localhost:8080/",
          "height": 684
        },
        "outputId": "bc8b58bf-0500-4a12-d56a-7c72a47862a0"
      },
      "source": [
        "# feature 선택 및 범주형 변수 인코딩\n",
        "df = data[['월', '일', '요일', '방송시간대', '노출(분)', '상품군', '마더코드', '판매단가', '취급액']]\n",
        "dtypes = df.dtypes\n",
        "\n",
        "encoders = {}\n",
        "for column in df.columns:\n",
        "    if str(dtypes[column]) == 'object':\n",
        "        encoder = LabelEncoder()\n",
        "        encoder.fit(df[column])\n",
        "        encoders[column] = encoder\n",
        "        \n",
        "for column in encoders.keys():\n",
        "    encoder = encoders[column]\n",
        "    df[column] = encoder.transform(df[column])\n",
        "\n",
        "display(df)\n",
        "df.info() "
      ],
      "execution_count": 20,
      "outputs": [
        {
          "output_type": "display_data",
          "data": {
            "text/html": [
              "<div>\n",
              "<style scoped>\n",
              "    .dataframe tbody tr th:only-of-type {\n",
              "        vertical-align: middle;\n",
              "    }\n",
              "\n",
              "    .dataframe tbody tr th {\n",
              "        vertical-align: top;\n",
              "    }\n",
              "\n",
              "    .dataframe thead th {\n",
              "        text-align: right;\n",
              "    }\n",
              "</style>\n",
              "<table border=\"1\" class=\"dataframe\">\n",
              "  <thead>\n",
              "    <tr style=\"text-align: right;\">\n",
              "      <th></th>\n",
              "      <th>월</th>\n",
              "      <th>일</th>\n",
              "      <th>요일</th>\n",
              "      <th>방송시간대</th>\n",
              "      <th>노출(분)</th>\n",
              "      <th>상품군</th>\n",
              "      <th>마더코드</th>\n",
              "      <th>판매단가</th>\n",
              "      <th>취급액</th>\n",
              "    </tr>\n",
              "  </thead>\n",
              "  <tbody>\n",
              "    <tr>\n",
              "      <th>0</th>\n",
              "      <td>1</td>\n",
              "      <td>1</td>\n",
              "      <td>6</td>\n",
              "      <td>6</td>\n",
              "      <td>20.0</td>\n",
              "      <td>6</td>\n",
              "      <td>100346</td>\n",
              "      <td>39900</td>\n",
              "      <td>2099000.0</td>\n",
              "    </tr>\n",
              "    <tr>\n",
              "      <th>1</th>\n",
              "      <td>1</td>\n",
              "      <td>1</td>\n",
              "      <td>6</td>\n",
              "      <td>6</td>\n",
              "      <td>20.0</td>\n",
              "      <td>6</td>\n",
              "      <td>100346</td>\n",
              "      <td>39900</td>\n",
              "      <td>4371000.0</td>\n",
              "    </tr>\n",
              "    <tr>\n",
              "      <th>2</th>\n",
              "      <td>1</td>\n",
              "      <td>1</td>\n",
              "      <td>6</td>\n",
              "      <td>6</td>\n",
              "      <td>20.0</td>\n",
              "      <td>6</td>\n",
              "      <td>100346</td>\n",
              "      <td>39900</td>\n",
              "      <td>3262000.0</td>\n",
              "    </tr>\n",
              "    <tr>\n",
              "      <th>3</th>\n",
              "      <td>1</td>\n",
              "      <td>1</td>\n",
              "      <td>6</td>\n",
              "      <td>6</td>\n",
              "      <td>20.0</td>\n",
              "      <td>6</td>\n",
              "      <td>100346</td>\n",
              "      <td>39900</td>\n",
              "      <td>6955000.0</td>\n",
              "    </tr>\n",
              "    <tr>\n",
              "      <th>4</th>\n",
              "      <td>1</td>\n",
              "      <td>1</td>\n",
              "      <td>6</td>\n",
              "      <td>6</td>\n",
              "      <td>20.0</td>\n",
              "      <td>6</td>\n",
              "      <td>100346</td>\n",
              "      <td>39900</td>\n",
              "      <td>6672000.0</td>\n",
              "    </tr>\n",
              "    <tr>\n",
              "      <th>...</th>\n",
              "      <td>...</td>\n",
              "      <td>...</td>\n",
              "      <td>...</td>\n",
              "      <td>...</td>\n",
              "      <td>...</td>\n",
              "      <td>...</td>\n",
              "      <td>...</td>\n",
              "      <td>...</td>\n",
              "      <td>...</td>\n",
              "    </tr>\n",
              "    <tr>\n",
              "      <th>37367</th>\n",
              "      <td>12</td>\n",
              "      <td>31</td>\n",
              "      <td>6</td>\n",
              "      <td>23</td>\n",
              "      <td>20.0</td>\n",
              "      <td>9</td>\n",
              "      <td>100448</td>\n",
              "      <td>148000</td>\n",
              "      <td>10157000.0</td>\n",
              "    </tr>\n",
              "    <tr>\n",
              "      <th>37368</th>\n",
              "      <td>1</td>\n",
              "      <td>1</td>\n",
              "      <td>2</td>\n",
              "      <td>0</td>\n",
              "      <td>20.0</td>\n",
              "      <td>9</td>\n",
              "      <td>100448</td>\n",
              "      <td>178000</td>\n",
              "      <td>50929000.0</td>\n",
              "    </tr>\n",
              "    <tr>\n",
              "      <th>37369</th>\n",
              "      <td>1</td>\n",
              "      <td>1</td>\n",
              "      <td>2</td>\n",
              "      <td>0</td>\n",
              "      <td>20.0</td>\n",
              "      <td>9</td>\n",
              "      <td>100448</td>\n",
              "      <td>168000</td>\n",
              "      <td>104392000.0</td>\n",
              "    </tr>\n",
              "    <tr>\n",
              "      <th>37370</th>\n",
              "      <td>1</td>\n",
              "      <td>1</td>\n",
              "      <td>2</td>\n",
              "      <td>0</td>\n",
              "      <td>20.0</td>\n",
              "      <td>9</td>\n",
              "      <td>100448</td>\n",
              "      <td>158000</td>\n",
              "      <td>13765000.0</td>\n",
              "    </tr>\n",
              "    <tr>\n",
              "      <th>37371</th>\n",
              "      <td>1</td>\n",
              "      <td>1</td>\n",
              "      <td>2</td>\n",
              "      <td>0</td>\n",
              "      <td>20.0</td>\n",
              "      <td>9</td>\n",
              "      <td>100448</td>\n",
              "      <td>148000</td>\n",
              "      <td>46608000.0</td>\n",
              "    </tr>\n",
              "  </tbody>\n",
              "</table>\n",
              "<p>37372 rows × 9 columns</p>\n",
              "</div>"
            ],
            "text/plain": [
              "        월   일  요일  방송시간대  노출(분)  상품군    마더코드    판매단가          취급액\n",
              "0       1   1   6      6   20.0    6  100346   39900    2099000.0\n",
              "1       1   1   6      6   20.0    6  100346   39900    4371000.0\n",
              "2       1   1   6      6   20.0    6  100346   39900    3262000.0\n",
              "3       1   1   6      6   20.0    6  100346   39900    6955000.0\n",
              "4       1   1   6      6   20.0    6  100346   39900    6672000.0\n",
              "...    ..  ..  ..    ...    ...  ...     ...     ...          ...\n",
              "37367  12  31   6     23   20.0    9  100448  148000   10157000.0\n",
              "37368   1   1   2      0   20.0    9  100448  178000   50929000.0\n",
              "37369   1   1   2      0   20.0    9  100448  168000  104392000.0\n",
              "37370   1   1   2      0   20.0    9  100448  158000   13765000.0\n",
              "37371   1   1   2      0   20.0    9  100448  148000   46608000.0\n",
              "\n",
              "[37372 rows x 9 columns]"
            ]
          },
          "metadata": {
            "tags": []
          }
        },
        {
          "output_type": "stream",
          "text": [
            "<class 'pandas.core.frame.DataFrame'>\n",
            "RangeIndex: 37372 entries, 0 to 37371\n",
            "Data columns (total 9 columns):\n",
            " #   Column  Non-Null Count  Dtype  \n",
            "---  ------  --------------  -----  \n",
            " 0   월       37372 non-null  int64  \n",
            " 1   일       37372 non-null  int64  \n",
            " 2   요일      37372 non-null  int64  \n",
            " 3   방송시간대   37372 non-null  int64  \n",
            " 4   노출(분)   37372 non-null  float64\n",
            " 5   상품군     37372 non-null  int64  \n",
            " 6   마더코드    37372 non-null  int64  \n",
            " 7   판매단가    37372 non-null  int64  \n",
            " 8   취급액     37372 non-null  float64\n",
            "dtypes: float64(2), int64(7)\n",
            "memory usage: 2.6 MB\n"
          ],
          "name": "stdout"
        }
      ]
    },
    {
      "cell_type": "code",
      "metadata": {
        "id": "tyOosFrpRiHR",
        "colab_type": "code",
        "colab": {}
      },
      "source": [
        "# 요일 기준 계층적 샘플링\n",
        "sss = StratifiedShuffleSplit(n_splits=1, test_size=0.2, random_state=42)\n",
        "for train_index, test_index in sss.split(df, df['요일']):\n",
        "    train_data = df.loc[train_index]\n",
        "    test_data = df.loc[test_index]"
      ],
      "execution_count": 21,
      "outputs": []
    },
    {
      "cell_type": "markdown",
      "metadata": {
        "id": "v1QFK2emRopJ",
        "colab_type": "text"
      },
      "source": [
        "### 데이터셋 구성"
      ]
    },
    {
      "cell_type": "code",
      "metadata": {
        "id": "E3NUALMoRldp",
        "colab_type": "code",
        "colab": {}
      },
      "source": [
        "# 독립, 종속 분리\n",
        "X_train = train_data.iloc[:, :-1]\n",
        "y_train = train_data.iloc[:, -1]\n",
        "X_test = test_data.iloc[:, :-1]\n",
        "y_test = test_data.iloc[:, -1]"
      ],
      "execution_count": 22,
      "outputs": []
    },
    {
      "cell_type": "code",
      "metadata": {
        "id": "MVAq_zQKRqcO",
        "colab_type": "code",
        "colab": {}
      },
      "source": [
        "# LGBM 데이터셋 구성\n",
        "ds_train = lgb.Dataset(X_train, label=y_train, categorical_feature=[0, 1, 2, 4, 5], free_raw_data=False)\n",
        "ds_test = lgb.Dataset(X_test, label=y_test, categorical_feature=[0, 1, 2, 4, 5], free_raw_data=False)"
      ],
      "execution_count": 23,
      "outputs": []
    },
    {
      "cell_type": "markdown",
      "metadata": {
        "id": "4tJxIxL8RtqM",
        "colab_type": "text"
      },
      "source": [
        "### 파라미터 구성"
      ]
    },
    {
      "cell_type": "markdown",
      "metadata": {
        "id": "OtzIOif_RzJJ",
        "colab_type": "text"
      },
      "source": [
        "#### 파라미터 조합1"
      ]
    },
    {
      "cell_type": "code",
      "metadata": {
        "id": "KiplKgxrRrwS",
        "colab_type": "code",
        "colab": {
          "base_uri": "https://localhost:8080/",
          "height": 1000
        },
        "outputId": "852413b9-e82d-4b88-acc7-47394e282887"
      },
      "source": [
        "params = {'learning_rate': 0.001, \n",
        "          'max_depth': -1, \n",
        "          'boosting': 'gbdt', \n",
        "          'objective': 'regression', \n",
        "          'metric': 'mape', \n",
        "          'is_training_metric': True, \n",
        "          'num_leaves': 144, \n",
        "          'feature_fraction': 0.9, \n",
        "          'bagging_fraction': 0.7, \n",
        "          'bagging_freq': 5, \n",
        "          'seed':42,\n",
        "          'cat_smooth':5}\n",
        "\n",
        "model = lgb.train(params=params,\n",
        "                  train_set=ds_train,\n",
        "                  num_boost_round=100000,\n",
        "                  valid_sets=ds_test, \n",
        "                  verbose_eval=100, \n",
        "                  early_stopping_rounds=100)"
      ],
      "execution_count": 25,
      "outputs": [
        {
          "output_type": "stream",
          "text": [
            "Training until validation scores don't improve for 100 rounds.\n",
            "[100]\tvalid_0's mape: 1.14498e+06\n",
            "[200]\tvalid_0's mape: 1.08032e+06\n",
            "[300]\tvalid_0's mape: 1.02105e+06\n",
            "[400]\tvalid_0's mape: 967818\n",
            "[500]\tvalid_0's mape: 919034\n",
            "[600]\tvalid_0's mape: 875063\n",
            "[700]\tvalid_0's mape: 834687\n",
            "[800]\tvalid_0's mape: 798483\n",
            "[900]\tvalid_0's mape: 765622\n",
            "[1000]\tvalid_0's mape: 736186\n",
            "[1100]\tvalid_0's mape: 709400\n",
            "[1200]\tvalid_0's mape: 684632\n",
            "[1300]\tvalid_0's mape: 662550\n",
            "[1400]\tvalid_0's mape: 642447\n",
            "[1500]\tvalid_0's mape: 624394\n",
            "[1600]\tvalid_0's mape: 607817\n",
            "[1700]\tvalid_0's mape: 592746\n",
            "[1800]\tvalid_0's mape: 579080\n",
            "[1900]\tvalid_0's mape: 566703\n",
            "[2000]\tvalid_0's mape: 555625\n",
            "[2100]\tvalid_0's mape: 544752\n",
            "[2200]\tvalid_0's mape: 535109\n",
            "[2300]\tvalid_0's mape: 526006\n",
            "[2400]\tvalid_0's mape: 517992\n",
            "[2500]\tvalid_0's mape: 510715\n",
            "[2600]\tvalid_0's mape: 503519\n",
            "[2700]\tvalid_0's mape: 497208\n",
            "[2800]\tvalid_0's mape: 490948\n",
            "[2900]\tvalid_0's mape: 485441\n",
            "[3000]\tvalid_0's mape: 480439\n",
            "[3100]\tvalid_0's mape: 475932\n",
            "[3200]\tvalid_0's mape: 471554\n",
            "[3300]\tvalid_0's mape: 467353\n",
            "[3400]\tvalid_0's mape: 463574\n",
            "[3500]\tvalid_0's mape: 460296\n",
            "[3600]\tvalid_0's mape: 456861\n",
            "[3700]\tvalid_0's mape: 453644\n",
            "[3800]\tvalid_0's mape: 450718\n",
            "[3900]\tvalid_0's mape: 447815\n",
            "[4000]\tvalid_0's mape: 445058\n",
            "[4100]\tvalid_0's mape: 442431\n",
            "[4200]\tvalid_0's mape: 440009\n",
            "[4300]\tvalid_0's mape: 437631\n",
            "[4400]\tvalid_0's mape: 435363\n",
            "[4500]\tvalid_0's mape: 433192\n",
            "[4600]\tvalid_0's mape: 431330\n",
            "[4700]\tvalid_0's mape: 429358\n",
            "[4800]\tvalid_0's mape: 427345\n",
            "[4900]\tvalid_0's mape: 425781\n",
            "[5000]\tvalid_0's mape: 424041\n",
            "[5100]\tvalid_0's mape: 422422\n",
            "[5200]\tvalid_0's mape: 420819\n",
            "[5300]\tvalid_0's mape: 419434\n",
            "[5400]\tvalid_0's mape: 417510\n",
            "[5500]\tvalid_0's mape: 416208\n",
            "[5600]\tvalid_0's mape: 414916\n",
            "[5700]\tvalid_0's mape: 413432\n",
            "[5800]\tvalid_0's mape: 412350\n",
            "[5900]\tvalid_0's mape: 411011\n",
            "[6000]\tvalid_0's mape: 409762\n",
            "[6100]\tvalid_0's mape: 408465\n",
            "[6200]\tvalid_0's mape: 407608\n",
            "[6300]\tvalid_0's mape: 406526\n",
            "[6400]\tvalid_0's mape: 405398\n",
            "[6500]\tvalid_0's mape: 404506\n",
            "[6600]\tvalid_0's mape: 403469\n",
            "[6700]\tvalid_0's mape: 402343\n",
            "[6800]\tvalid_0's mape: 401433\n",
            "[6900]\tvalid_0's mape: 400508\n",
            "[7000]\tvalid_0's mape: 399808\n",
            "[7100]\tvalid_0's mape: 398778\n",
            "[7200]\tvalid_0's mape: 397854\n",
            "[7300]\tvalid_0's mape: 396922\n",
            "[7400]\tvalid_0's mape: 396175\n",
            "[7500]\tvalid_0's mape: 395446\n",
            "[7600]\tvalid_0's mape: 394494\n",
            "[7700]\tvalid_0's mape: 393485\n",
            "[7800]\tvalid_0's mape: 392697\n",
            "[7900]\tvalid_0's mape: 392008\n",
            "[8000]\tvalid_0's mape: 391322\n",
            "[8100]\tvalid_0's mape: 390660\n",
            "[8200]\tvalid_0's mape: 389940\n",
            "[8300]\tvalid_0's mape: 389224\n",
            "[8400]\tvalid_0's mape: 388637\n",
            "[8500]\tvalid_0's mape: 387930\n",
            "[8600]\tvalid_0's mape: 387256\n",
            "[8700]\tvalid_0's mape: 386570\n",
            "[8800]\tvalid_0's mape: 386197\n",
            "[8900]\tvalid_0's mape: 385723\n",
            "[9000]\tvalid_0's mape: 385065\n",
            "[9100]\tvalid_0's mape: 384948\n",
            "[9200]\tvalid_0's mape: 384254\n",
            "[9300]\tvalid_0's mape: 383606\n",
            "[9400]\tvalid_0's mape: 382952\n",
            "[9500]\tvalid_0's mape: 382550\n",
            "[9600]\tvalid_0's mape: 381884\n",
            "[9700]\tvalid_0's mape: 381292\n",
            "[9800]\tvalid_0's mape: 380700\n",
            "[9900]\tvalid_0's mape: 380187\n",
            "[10000]\tvalid_0's mape: 379707\n",
            "[10100]\tvalid_0's mape: 379345\n",
            "[10200]\tvalid_0's mape: 378561\n",
            "[10300]\tvalid_0's mape: 377974\n",
            "[10400]\tvalid_0's mape: 377638\n",
            "[10500]\tvalid_0's mape: 377241\n",
            "[10600]\tvalid_0's mape: 376777\n",
            "[10700]\tvalid_0's mape: 376265\n",
            "[10800]\tvalid_0's mape: 375655\n",
            "[10900]\tvalid_0's mape: 375370\n",
            "[11000]\tvalid_0's mape: 374947\n",
            "[11100]\tvalid_0's mape: 374482\n",
            "[11200]\tvalid_0's mape: 374045\n",
            "[11300]\tvalid_0's mape: 373636\n",
            "[11400]\tvalid_0's mape: 373074\n",
            "[11500]\tvalid_0's mape: 372734\n",
            "[11600]\tvalid_0's mape: 372281\n",
            "[11700]\tvalid_0's mape: 371996\n",
            "[11800]\tvalid_0's mape: 371631\n",
            "[11900]\tvalid_0's mape: 371389\n",
            "[12000]\tvalid_0's mape: 371125\n",
            "[12100]\tvalid_0's mape: 370775\n",
            "[12200]\tvalid_0's mape: 370383\n",
            "[12300]\tvalid_0's mape: 370134\n",
            "[12400]\tvalid_0's mape: 369796\n",
            "[12500]\tvalid_0's mape: 369400\n",
            "[12600]\tvalid_0's mape: 369119\n",
            "[12700]\tvalid_0's mape: 368838\n",
            "[12800]\tvalid_0's mape: 368669\n",
            "[12900]\tvalid_0's mape: 368543\n",
            "[13000]\tvalid_0's mape: 368243\n",
            "[13100]\tvalid_0's mape: 367906\n",
            "[13200]\tvalid_0's mape: 367539\n",
            "[13300]\tvalid_0's mape: 367166\n",
            "[13400]\tvalid_0's mape: 366877\n",
            "[13500]\tvalid_0's mape: 366770\n",
            "[13600]\tvalid_0's mape: 366506\n",
            "[13700]\tvalid_0's mape: 366360\n",
            "Early stopping, best iteration is:\n",
            "[13685]\tvalid_0's mape: 366303\n"
          ],
          "name": "stdout"
        }
      ]
    },
    {
      "cell_type": "code",
      "metadata": {
        "id": "STHTrM5tR1Uj",
        "colab_type": "code",
        "colab": {
          "base_uri": "https://localhost:8080/",
          "height": 310
        },
        "outputId": "465e7dfe-7973-4caf-819a-1716acf2ee84"
      },
      "source": [
        "# 변수 중요도\n",
        "lgb.plot_importance(model)"
      ],
      "execution_count": 26,
      "outputs": [
        {
          "output_type": "execute_result",
          "data": {
            "text/plain": [
              "<matplotlib.axes._subplots.AxesSubplot at 0x7f647d4e0be0>"
            ]
          },
          "metadata": {
            "tags": []
          },
          "execution_count": 26
        },
        {
          "output_type": "display_data",
          "data": {
            "image/png": "[encoded data removed]",
            "text/plain": [
              "<Figure size 432x288 with 1 Axes>"
            ]
          },
          "metadata": {
            "tags": [],
            "needs_background": "light"
          }
        }
      ]
    },
    {
      "cell_type": "markdown",
      "metadata": {
        "colab_type": "text",
        "id": "NcM5sEKfSof9"
      },
      "source": [
        "## Feature 선택 4\n",
        "- 월\n",
        "- 일\n",
        "- 요일\n",
        "- 방송시간대\n",
        "- 노출(분)\n",
        "- 마더코드\n",
        "- 상품코드\n",
        "- 판매단가"
      ]
    },
    {
      "cell_type": "code",
      "metadata": {
        "colab_type": "code",
        "id": "zbOQLVR0SogE",
        "colab": {
          "base_uri": "https://localhost:8080/",
          "height": 701
        },
        "outputId": "08349012-ede1-4ed3-d202-02c8b6dedeca"
      },
      "source": [
        "# feature 선택 및 범주형 변수 인코딩\n",
        "df = data[['월', '일', '요일', '방송시간대', '노출(분)', '상품군', '마더코드', '상품코드', '판매단가', '취급액']]\n",
        "dtypes = df.dtypes\n",
        "\n",
        "encoders = {}\n",
        "for column in df.columns:\n",
        "    if str(dtypes[column]) == 'object':\n",
        "        encoder = LabelEncoder()\n",
        "        encoder.fit(df[column])\n",
        "        encoders[column] = encoder\n",
        "        \n",
        "for column in encoders.keys():\n",
        "    encoder = encoders[column]\n",
        "    df[column] = encoder.transform(df[column])\n",
        "\n",
        "display(df)\n",
        "df.info() "
      ],
      "execution_count": 27,
      "outputs": [
        {
          "output_type": "display_data",
          "data": {
            "text/html": [
              "<div>\n",
              "<style scoped>\n",
              "    .dataframe tbody tr th:only-of-type {\n",
              "        vertical-align: middle;\n",
              "    }\n",
              "\n",
              "    .dataframe tbody tr th {\n",
              "        vertical-align: top;\n",
              "    }\n",
              "\n",
              "    .dataframe thead th {\n",
              "        text-align: right;\n",
              "    }\n",
              "</style>\n",
              "<table border=\"1\" class=\"dataframe\">\n",
              "  <thead>\n",
              "    <tr style=\"text-align: right;\">\n",
              "      <th></th>\n",
              "      <th>월</th>\n",
              "      <th>일</th>\n",
              "      <th>요일</th>\n",
              "      <th>방송시간대</th>\n",
              "      <th>노출(분)</th>\n",
              "      <th>상품군</th>\n",
              "      <th>마더코드</th>\n",
              "      <th>상품코드</th>\n",
              "      <th>판매단가</th>\n",
              "      <th>취급액</th>\n",
              "    </tr>\n",
              "  </thead>\n",
              "  <tbody>\n",
              "    <tr>\n",
              "      <th>0</th>\n",
              "      <td>1</td>\n",
              "      <td>1</td>\n",
              "      <td>6</td>\n",
              "      <td>6</td>\n",
              "      <td>20.0</td>\n",
              "      <td>6</td>\n",
              "      <td>100346</td>\n",
              "      <td>201072</td>\n",
              "      <td>39900</td>\n",
              "      <td>2099000.0</td>\n",
              "    </tr>\n",
              "    <tr>\n",
              "      <th>1</th>\n",
              "      <td>1</td>\n",
              "      <td>1</td>\n",
              "      <td>6</td>\n",
              "      <td>6</td>\n",
              "      <td>20.0</td>\n",
              "      <td>6</td>\n",
              "      <td>100346</td>\n",
              "      <td>201079</td>\n",
              "      <td>39900</td>\n",
              "      <td>4371000.0</td>\n",
              "    </tr>\n",
              "    <tr>\n",
              "      <th>2</th>\n",
              "      <td>1</td>\n",
              "      <td>1</td>\n",
              "      <td>6</td>\n",
              "      <td>6</td>\n",
              "      <td>20.0</td>\n",
              "      <td>6</td>\n",
              "      <td>100346</td>\n",
              "      <td>201072</td>\n",
              "      <td>39900</td>\n",
              "      <td>3262000.0</td>\n",
              "    </tr>\n",
              "    <tr>\n",
              "      <th>3</th>\n",
              "      <td>1</td>\n",
              "      <td>1</td>\n",
              "      <td>6</td>\n",
              "      <td>6</td>\n",
              "      <td>20.0</td>\n",
              "      <td>6</td>\n",
              "      <td>100346</td>\n",
              "      <td>201079</td>\n",
              "      <td>39900</td>\n",
              "      <td>6955000.0</td>\n",
              "    </tr>\n",
              "    <tr>\n",
              "      <th>4</th>\n",
              "      <td>1</td>\n",
              "      <td>1</td>\n",
              "      <td>6</td>\n",
              "      <td>6</td>\n",
              "      <td>20.0</td>\n",
              "      <td>6</td>\n",
              "      <td>100346</td>\n",
              "      <td>201072</td>\n",
              "      <td>39900</td>\n",
              "      <td>6672000.0</td>\n",
              "    </tr>\n",
              "    <tr>\n",
              "      <th>...</th>\n",
              "      <td>...</td>\n",
              "      <td>...</td>\n",
              "      <td>...</td>\n",
              "      <td>...</td>\n",
              "      <td>...</td>\n",
              "      <td>...</td>\n",
              "      <td>...</td>\n",
              "      <td>...</td>\n",
              "      <td>...</td>\n",
              "      <td>...</td>\n",
              "    </tr>\n",
              "    <tr>\n",
              "      <th>37367</th>\n",
              "      <td>12</td>\n",
              "      <td>31</td>\n",
              "      <td>6</td>\n",
              "      <td>23</td>\n",
              "      <td>20.0</td>\n",
              "      <td>9</td>\n",
              "      <td>100448</td>\n",
              "      <td>201391</td>\n",
              "      <td>148000</td>\n",
              "      <td>10157000.0</td>\n",
              "    </tr>\n",
              "    <tr>\n",
              "      <th>37368</th>\n",
              "      <td>1</td>\n",
              "      <td>1</td>\n",
              "      <td>2</td>\n",
              "      <td>0</td>\n",
              "      <td>20.0</td>\n",
              "      <td>9</td>\n",
              "      <td>100448</td>\n",
              "      <td>201383</td>\n",
              "      <td>178000</td>\n",
              "      <td>50929000.0</td>\n",
              "    </tr>\n",
              "    <tr>\n",
              "      <th>37369</th>\n",
              "      <td>1</td>\n",
              "      <td>1</td>\n",
              "      <td>2</td>\n",
              "      <td>0</td>\n",
              "      <td>20.0</td>\n",
              "      <td>9</td>\n",
              "      <td>100448</td>\n",
              "      <td>201390</td>\n",
              "      <td>168000</td>\n",
              "      <td>104392000.0</td>\n",
              "    </tr>\n",
              "    <tr>\n",
              "      <th>37370</th>\n",
              "      <td>1</td>\n",
              "      <td>1</td>\n",
              "      <td>2</td>\n",
              "      <td>0</td>\n",
              "      <td>20.0</td>\n",
              "      <td>9</td>\n",
              "      <td>100448</td>\n",
              "      <td>201384</td>\n",
              "      <td>158000</td>\n",
              "      <td>13765000.0</td>\n",
              "    </tr>\n",
              "    <tr>\n",
              "      <th>37371</th>\n",
              "      <td>1</td>\n",
              "      <td>1</td>\n",
              "      <td>2</td>\n",
              "      <td>0</td>\n",
              "      <td>20.0</td>\n",
              "      <td>9</td>\n",
              "      <td>100448</td>\n",
              "      <td>201391</td>\n",
              "      <td>148000</td>\n",
              "      <td>46608000.0</td>\n",
              "    </tr>\n",
              "  </tbody>\n",
              "</table>\n",
              "<p>37372 rows × 10 columns</p>\n",
              "</div>"
            ],
            "text/plain": [
              "        월   일  요일  방송시간대  노출(분)  상품군    마더코드    상품코드    판매단가          취급액\n",
              "0       1   1   6      6   20.0    6  100346  201072   39900    2099000.0\n",
              "1       1   1   6      6   20.0    6  100346  201079   39900    4371000.0\n",
              "2       1   1   6      6   20.0    6  100346  201072   39900    3262000.0\n",
              "3       1   1   6      6   20.0    6  100346  201079   39900    6955000.0\n",
              "4       1   1   6      6   20.0    6  100346  201072   39900    6672000.0\n",
              "...    ..  ..  ..    ...    ...  ...     ...     ...     ...          ...\n",
              "37367  12  31   6     23   20.0    9  100448  201391  148000   10157000.0\n",
              "37368   1   1   2      0   20.0    9  100448  201383  178000   50929000.0\n",
              "37369   1   1   2      0   20.0    9  100448  201390  168000  104392000.0\n",
              "37370   1   1   2      0   20.0    9  100448  201384  158000   13765000.0\n",
              "37371   1   1   2      0   20.0    9  100448  201391  148000   46608000.0\n",
              "\n",
              "[37372 rows x 10 columns]"
            ]
          },
          "metadata": {
            "tags": []
          }
        },
        {
          "output_type": "stream",
          "text": [
            "<class 'pandas.core.frame.DataFrame'>\n",
            "RangeIndex: 37372 entries, 0 to 37371\n",
            "Data columns (total 10 columns):\n",
            " #   Column  Non-Null Count  Dtype  \n",
            "---  ------  --------------  -----  \n",
            " 0   월       37372 non-null  int64  \n",
            " 1   일       37372 non-null  int64  \n",
            " 2   요일      37372 non-null  int64  \n",
            " 3   방송시간대   37372 non-null  int64  \n",
            " 4   노출(분)   37372 non-null  float64\n",
            " 5   상품군     37372 non-null  int64  \n",
            " 6   마더코드    37372 non-null  int64  \n",
            " 7   상품코드    37372 non-null  int64  \n",
            " 8   판매단가    37372 non-null  int64  \n",
            " 9   취급액     37372 non-null  float64\n",
            "dtypes: float64(2), int64(8)\n",
            "memory usage: 2.9 MB\n"
          ],
          "name": "stdout"
        }
      ]
    },
    {
      "cell_type": "code",
      "metadata": {
        "colab_type": "code",
        "id": "fC-fySQJSogP",
        "colab": {}
      },
      "source": [
        "# 요일 기준 계층적 샘플링\n",
        "sss = StratifiedShuffleSplit(n_splits=1, test_size=0.2, random_state=42)\n",
        "for train_index, test_index in sss.split(df, df['요일']):\n",
        "    train_data = df.loc[train_index]\n",
        "    test_data = df.loc[test_index]"
      ],
      "execution_count": 28,
      "outputs": []
    },
    {
      "cell_type": "markdown",
      "metadata": {
        "colab_type": "text",
        "id": "4c5c80NCSogX"
      },
      "source": [
        "### 데이터셋 구성"
      ]
    },
    {
      "cell_type": "code",
      "metadata": {
        "colab_type": "code",
        "id": "_fOgBSaRSogY",
        "colab": {}
      },
      "source": [
        "# 독립, 종속 분리\n",
        "X_train = train_data.iloc[:, :-1]\n",
        "y_train = train_data.iloc[:, -1]\n",
        "X_test = test_data.iloc[:, :-1]\n",
        "y_test = test_data.iloc[:, -1]"
      ],
      "execution_count": 29,
      "outputs": []
    },
    {
      "cell_type": "code",
      "metadata": {
        "colab_type": "code",
        "id": "rDocp8jMSogc",
        "colab": {}
      },
      "source": [
        "# LGBM 데이터셋 구성\n",
        "ds_train = lgb.Dataset(X_train, label=y_train, categorical_feature=[0, 1, 2, 4, 5], free_raw_data=False)\n",
        "ds_test = lgb.Dataset(X_test, label=y_test, categorical_feature=[0, 1, 2, 4, 5], free_raw_data=False)"
      ],
      "execution_count": 30,
      "outputs": []
    },
    {
      "cell_type": "markdown",
      "metadata": {
        "colab_type": "text",
        "id": "qGv2rp3LSogg"
      },
      "source": [
        "### 파라미터 구성"
      ]
    },
    {
      "cell_type": "markdown",
      "metadata": {
        "colab_type": "text",
        "id": "buUmFuDLSogh"
      },
      "source": [
        "#### 파라미터 조합1"
      ]
    },
    {
      "cell_type": "code",
      "metadata": {
        "colab_type": "code",
        "id": "eqy9OX49Sogh",
        "colab": {
          "base_uri": "https://localhost:8080/",
          "height": 1000
        },
        "outputId": "cfdcdc86-dfbe-4f91-f734-0eecd5ac8868"
      },
      "source": [
        "params = {'learning_rate': 0.001, \n",
        "          'max_depth': -1, \n",
        "          'boosting': 'gbdt', \n",
        "          'objective': 'regression', \n",
        "          'metric': 'mape', \n",
        "          'is_training_metric': True, \n",
        "          'num_leaves': 144, \n",
        "          'feature_fraction': 0.9, \n",
        "          'bagging_fraction': 0.7, \n",
        "          'bagging_freq': 5, \n",
        "          'seed':42,\n",
        "          'cat_smooth':5}\n",
        "\n",
        "model = lgb.train(params=params,\n",
        "                  train_set=ds_train,\n",
        "                  num_boost_round=100000,\n",
        "                  valid_sets=ds_test, \n",
        "                  verbose_eval=100, \n",
        "                  early_stopping_rounds=100)"
      ],
      "execution_count": 31,
      "outputs": [
        {
          "output_type": "stream",
          "text": [
            "Training until validation scores don't improve for 100 rounds.\n",
            "[100]\tvalid_0's mape: 1.14382e+06\n",
            "[200]\tvalid_0's mape: 1.07742e+06\n",
            "[300]\tvalid_0's mape: 1.01731e+06\n",
            "[400]\tvalid_0's mape: 962951\n",
            "[500]\tvalid_0's mape: 914357\n",
            "[600]\tvalid_0's mape: 870042\n",
            "[700]\tvalid_0's mape: 829483\n",
            "[800]\tvalid_0's mape: 793293\n",
            "[900]\tvalid_0's mape: 760405\n",
            "[1000]\tvalid_0's mape: 730508\n",
            "[1100]\tvalid_0's mape: 703729\n",
            "[1200]\tvalid_0's mape: 679048\n",
            "[1300]\tvalid_0's mape: 657095\n",
            "[1400]\tvalid_0's mape: 636453\n",
            "[1500]\tvalid_0's mape: 618143\n",
            "[1600]\tvalid_0's mape: 601405\n",
            "[1700]\tvalid_0's mape: 586321\n",
            "[1800]\tvalid_0's mape: 572533\n",
            "[1900]\tvalid_0's mape: 559984\n",
            "[2000]\tvalid_0's mape: 548686\n",
            "[2100]\tvalid_0's mape: 537733\n",
            "[2200]\tvalid_0's mape: 528112\n",
            "[2300]\tvalid_0's mape: 518874\n",
            "[2400]\tvalid_0's mape: 511076\n",
            "[2500]\tvalid_0's mape: 503485\n",
            "[2600]\tvalid_0's mape: 496487\n",
            "[2700]\tvalid_0's mape: 490505\n",
            "[2800]\tvalid_0's mape: 484343\n",
            "[2900]\tvalid_0's mape: 479031\n",
            "[3000]\tvalid_0's mape: 474175\n",
            "[3100]\tvalid_0's mape: 469543\n",
            "[3200]\tvalid_0's mape: 465306\n",
            "[3300]\tvalid_0's mape: 461356\n",
            "[3400]\tvalid_0's mape: 457456\n",
            "[3500]\tvalid_0's mape: 454231\n",
            "[3600]\tvalid_0's mape: 450828\n",
            "[3700]\tvalid_0's mape: 447598\n",
            "[3800]\tvalid_0's mape: 444714\n",
            "[3900]\tvalid_0's mape: 441609\n",
            "[4000]\tvalid_0's mape: 438818\n",
            "[4100]\tvalid_0's mape: 436123\n",
            "[4200]\tvalid_0's mape: 433763\n",
            "[4300]\tvalid_0's mape: 431453\n",
            "[4400]\tvalid_0's mape: 429203\n",
            "[4500]\tvalid_0's mape: 426980\n",
            "[4600]\tvalid_0's mape: 425077\n",
            "[4700]\tvalid_0's mape: 423063\n",
            "[4800]\tvalid_0's mape: 421103\n",
            "[4900]\tvalid_0's mape: 419226\n",
            "[5000]\tvalid_0's mape: 417348\n",
            "[5100]\tvalid_0's mape: 415735\n",
            "[5200]\tvalid_0's mape: 414072\n",
            "[5300]\tvalid_0's mape: 412450\n",
            "[5400]\tvalid_0's mape: 410639\n",
            "[5500]\tvalid_0's mape: 409445\n",
            "[5600]\tvalid_0's mape: 408120\n",
            "[5700]\tvalid_0's mape: 406528\n",
            "[5800]\tvalid_0's mape: 405242\n",
            "[5900]\tvalid_0's mape: 403831\n",
            "[6000]\tvalid_0's mape: 402483\n",
            "[6100]\tvalid_0's mape: 401271\n",
            "[6200]\tvalid_0's mape: 400544\n",
            "[6300]\tvalid_0's mape: 399306\n",
            "[6400]\tvalid_0's mape: 398257\n",
            "[6500]\tvalid_0's mape: 397223\n",
            "[6600]\tvalid_0's mape: 396270\n",
            "[6700]\tvalid_0's mape: 395104\n",
            "[6800]\tvalid_0's mape: 394140\n",
            "[6900]\tvalid_0's mape: 393377\n",
            "[7000]\tvalid_0's mape: 392613\n",
            "[7100]\tvalid_0's mape: 391539\n",
            "[7200]\tvalid_0's mape: 390594\n",
            "[7300]\tvalid_0's mape: 389611\n",
            "[7400]\tvalid_0's mape: 388693\n",
            "[7500]\tvalid_0's mape: 387831\n",
            "[7600]\tvalid_0's mape: 386758\n",
            "[7700]\tvalid_0's mape: 386082\n",
            "[7800]\tvalid_0's mape: 385246\n",
            "[7900]\tvalid_0's mape: 384420\n",
            "[8000]\tvalid_0's mape: 383775\n",
            "[8100]\tvalid_0's mape: 383064\n",
            "[8200]\tvalid_0's mape: 382476\n",
            "[8300]\tvalid_0's mape: 381749\n",
            "[8400]\tvalid_0's mape: 381039\n",
            "[8500]\tvalid_0's mape: 380139\n",
            "[8600]\tvalid_0's mape: 379637\n",
            "[8700]\tvalid_0's mape: 378914\n",
            "[8800]\tvalid_0's mape: 378501\n",
            "[8900]\tvalid_0's mape: 377792\n",
            "[9000]\tvalid_0's mape: 377085\n",
            "[9100]\tvalid_0's mape: 376766\n",
            "[9200]\tvalid_0's mape: 376074\n",
            "[9300]\tvalid_0's mape: 375442\n",
            "[9400]\tvalid_0's mape: 374852\n",
            "[9500]\tvalid_0's mape: 374502\n",
            "[9600]\tvalid_0's mape: 373801\n",
            "[9700]\tvalid_0's mape: 373184\n",
            "[9800]\tvalid_0's mape: 372698\n",
            "[9900]\tvalid_0's mape: 372180\n",
            "[10000]\tvalid_0's mape: 371750\n",
            "[10100]\tvalid_0's mape: 371381\n",
            "[10200]\tvalid_0's mape: 370623\n",
            "[10300]\tvalid_0's mape: 370181\n",
            "[10400]\tvalid_0's mape: 369860\n",
            "[10500]\tvalid_0's mape: 369390\n",
            "[10600]\tvalid_0's mape: 368899\n",
            "[10700]\tvalid_0's mape: 368354\n",
            "[10800]\tvalid_0's mape: 367778\n",
            "[10900]\tvalid_0's mape: 367467\n",
            "[11000]\tvalid_0's mape: 367202\n",
            "[11100]\tvalid_0's mape: 366771\n",
            "[11200]\tvalid_0's mape: 366404\n",
            "[11300]\tvalid_0's mape: 365957\n",
            "[11400]\tvalid_0's mape: 365363\n",
            "[11500]\tvalid_0's mape: 364907\n",
            "[11600]\tvalid_0's mape: 364530\n",
            "[11700]\tvalid_0's mape: 364164\n",
            "[11800]\tvalid_0's mape: 363731\n",
            "[11900]\tvalid_0's mape: 363459\n",
            "[12000]\tvalid_0's mape: 363220\n",
            "[12100]\tvalid_0's mape: 362975\n",
            "[12200]\tvalid_0's mape: 362711\n",
            "[12300]\tvalid_0's mape: 362438\n",
            "[12400]\tvalid_0's mape: 362094\n",
            "[12500]\tvalid_0's mape: 361670\n",
            "[12600]\tvalid_0's mape: 361358\n",
            "[12700]\tvalid_0's mape: 360917\n",
            "[12800]\tvalid_0's mape: 360814\n",
            "[12900]\tvalid_0's mape: 360613\n",
            "[13000]\tvalid_0's mape: 360321\n",
            "[13100]\tvalid_0's mape: 360025\n",
            "[13200]\tvalid_0's mape: 359650\n",
            "[13300]\tvalid_0's mape: 359260\n",
            "[13400]\tvalid_0's mape: 358991\n",
            "[13500]\tvalid_0's mape: 358736\n",
            "[13600]\tvalid_0's mape: 358457\n",
            "[13700]\tvalid_0's mape: 358373\n",
            "Early stopping, best iteration is:\n",
            "[13674]\tvalid_0's mape: 358282\n"
          ],
          "name": "stdout"
        }
      ]
    },
    {
      "cell_type": "code",
      "metadata": {
        "colab_type": "code",
        "id": "vE5m_YSiSogm",
        "colab": {
          "base_uri": "https://localhost:8080/",
          "height": 310
        },
        "outputId": "905a3294-7b4e-4f2f-a2a4-12bcb5d14145"
      },
      "source": [
        "# 변수 중요도\n",
        "lgb.plot_importance(model)"
      ],
      "execution_count": 32,
      "outputs": [
        {
          "output_type": "execute_result",
          "data": {
            "text/plain": [
              "<matplotlib.axes._subplots.AxesSubplot at 0x7f647c463dd8>"
            ]
          },
          "metadata": {
            "tags": []
          },
          "execution_count": 32
        },
        {
          "output_type": "display_data",
          "data": {
            "image/png": "[encoded data removed]",
            "text/plain": [
              "<Figure size 432x288 with 1 Axes>"
            ]
          },
          "metadata": {
            "tags": [],
            "needs_background": "light"
          }
        }
      ]
    },
    {
      "cell_type": "code",
      "metadata": {
        "id": "hMNu_6OhT0nO",
        "colab_type": "code",
        "colab": {}
      },
      "source": [
        ""
      ],
      "execution_count": null,
      "outputs": []
    }
  ]
}